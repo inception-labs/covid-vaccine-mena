{
 "cells": [
  {
   "cell_type": "markdown",
   "metadata": {},
   "source": [
    "This notebook is focused on data analysis investigation for the Spread of COVID for a chosen country. This is an online and interactive overview of the Spread of COVID-19 and the vaccination progress."
   ]
  },
  {
   "cell_type": "markdown",
   "metadata": {},
   "source": [
    "# MER-CountriesCOVID Dataset"
   ]
  },
  {
   "cell_type": "markdown",
   "metadata": {},
   "source": [
    "We extract from the MER-CountriesCOVID Dataset all the information related to the chosen country and generate some statistics to get to know better the situation for COVID-19 for the country mentionned on this notebook."
   ]
  },
  {
   "cell_type": "code",
   "execution_count": 11,
   "metadata": {},
   "outputs": [
    {
     "name": "stderr",
     "output_type": "stream",
     "text": [
      "/opt/anaconda3/lib/python3.8/site-packages/naas/runner/notifications.py:29: UserWarning:\n",
      "\n",
      "[Warning], naas.notifications is deprecated,\n",
      " use naas.notification instead, it will be remove in 1 june 2021\n",
      "\n"
     ]
    },
    {
     "name": "stdout",
     "output_type": "stream",
     "text": [
      "500 Server Error: Internal Server Error for url: https://notif.naas.ai/\n",
      "404 Client Error: Not Found for url: https://app.naas.ai/hub/api/sessions\n",
      "404 Client Error: Not Found for url: https://app.naas.ai/hub/api/sessions\n"
     ]
    },
    {
     "ename": "TypeError",
     "evalue": "expected str, bytes or os.PathLike object, not NoneType",
     "output_type": "error",
     "traceback": [
      "\u001b[0;31m---------------------------------------------------------------------------\u001b[0m",
      "\u001b[0;31mTypeError\u001b[0m                                 Traceback (most recent call last)",
      "\u001b[0;32m<ipython-input-11-7604b93db609>\u001b[0m in \u001b[0;36m<module>\u001b[0;34m\u001b[0m\n\u001b[1;32m      6\u001b[0m \u001b[0;34m\u001b[0m\u001b[0m\n\u001b[1;32m      7\u001b[0m \u001b[0mnaas\u001b[0m\u001b[0;34m.\u001b[0m\u001b[0mnotifications\u001b[0m\u001b[0;34m.\u001b[0m\u001b[0msend\u001b[0m\u001b[0;34m(\u001b[0m\u001b[0memail_to\u001b[0m\u001b[0;34m,\u001b[0m\u001b[0msubject\u001b[0m\u001b[0;34m,\u001b[0m\u001b[0mcontent\u001b[0m\u001b[0;34m)\u001b[0m\u001b[0;34m\u001b[0m\u001b[0;34m\u001b[0m\u001b[0m\n\u001b[0;32m----> 8\u001b[0;31m \u001b[0mnaas\u001b[0m\u001b[0;34m.\u001b[0m\u001b[0mscheduler\u001b[0m\u001b[0;34m.\u001b[0m\u001b[0madd\u001b[0m\u001b[0;34m(\u001b[0m\u001b[0mcron\u001b[0m \u001b[0;34m=\u001b[0m \u001b[0;34m\"0 14 * * 1-7\"\u001b[0m\u001b[0;34m)\u001b[0m\u001b[0;34m\u001b[0m\u001b[0;34m\u001b[0m\u001b[0m\n\u001b[0m",
      "\u001b[0;32m/opt/anaconda3/lib/python3.8/site-packages/naas/scheduler.py\u001b[0m in \u001b[0;36madd\u001b[0;34m(self, path, recurrence, cron, params, debug)\u001b[0m\n\u001b[1;32m     99\u001b[0m         \u001b[0;32mexcept\u001b[0m\u001b[0;34m:\u001b[0m  \u001b[0;31m# noqa: E722\u001b[0m\u001b[0;34m\u001b[0m\u001b[0;34m\u001b[0m\u001b[0m\n\u001b[1;32m    100\u001b[0m             \u001b[0;32mpass\u001b[0m\u001b[0;34m\u001b[0m\u001b[0;34m\u001b[0m\u001b[0m\n\u001b[0;32m--> 101\u001b[0;31m         self.manager.add_prod(\n\u001b[0m\u001b[1;32m    102\u001b[0m             {\n\u001b[1;32m    103\u001b[0m                 \u001b[0;34m\"type\"\u001b[0m\u001b[0;34m:\u001b[0m \u001b[0mself\u001b[0m\u001b[0;34m.\u001b[0m\u001b[0mrole\u001b[0m\u001b[0;34m,\u001b[0m\u001b[0;34m\u001b[0m\u001b[0;34m\u001b[0m\u001b[0m\n",
      "\u001b[0;32m/opt/anaconda3/lib/python3.8/site-packages/naas/manager.py\u001b[0m in \u001b[0;36madd_prod\u001b[0;34m(self, obj, debug)\u001b[0m\n\u001b[1;32m    369\u001b[0m             \u001b[0mdev_path\u001b[0m \u001b[0;34m=\u001b[0m \u001b[0mobj\u001b[0m\u001b[0;34m.\u001b[0m\u001b[0mget\u001b[0m\u001b[0;34m(\u001b[0m\u001b[0;34m\"path\"\u001b[0m\u001b[0;34m)\u001b[0m\u001b[0;34m\u001b[0m\u001b[0;34m\u001b[0m\u001b[0m\n\u001b[1;32m    370\u001b[0m             \u001b[0mnew_obj\u001b[0m\u001b[0;34m[\u001b[0m\u001b[0;34m\"path\"\u001b[0m\u001b[0;34m]\u001b[0m \u001b[0;34m=\u001b[0m \u001b[0mself\u001b[0m\u001b[0;34m.\u001b[0m\u001b[0mget_path\u001b[0m\u001b[0;34m(\u001b[0m\u001b[0mdev_path\u001b[0m\u001b[0;34m)\u001b[0m\u001b[0;34m\u001b[0m\u001b[0;34m\u001b[0m\u001b[0m\n\u001b[0;32m--> 371\u001b[0;31m             \u001b[0mnew_obj\u001b[0m\u001b[0;34m[\u001b[0m\u001b[0;34m\"file\"\u001b[0m\u001b[0;34m]\u001b[0m \u001b[0;34m=\u001b[0m \u001b[0mself\u001b[0m\u001b[0;34m.\u001b[0m\u001b[0m__open_file\u001b[0m\u001b[0;34m(\u001b[0m\u001b[0mdev_path\u001b[0m\u001b[0;34m)\u001b[0m\u001b[0;34m\u001b[0m\u001b[0;34m\u001b[0m\u001b[0m\n\u001b[0m\u001b[1;32m    372\u001b[0m             \u001b[0;31m# new_obj[\"status\"] = t_add\u001b[0m\u001b[0;34m\u001b[0m\u001b[0;34m\u001b[0m\u001b[0;34m\u001b[0m\u001b[0m\n\u001b[1;32m    373\u001b[0m             \u001b[0;32mtry\u001b[0m\u001b[0;34m:\u001b[0m\u001b[0;34m\u001b[0m\u001b[0;34m\u001b[0m\u001b[0m\n",
      "\u001b[0;32m/opt/anaconda3/lib/python3.8/site-packages/naas/manager.py\u001b[0m in \u001b[0;36m__open_file\u001b[0;34m(self, path)\u001b[0m\n\u001b[1;32m    216\u001b[0m \u001b[0;34m\u001b[0m\u001b[0m\n\u001b[1;32m    217\u001b[0m     \u001b[0;32mdef\u001b[0m \u001b[0m__open_file\u001b[0m\u001b[0;34m(\u001b[0m\u001b[0mself\u001b[0m\u001b[0;34m,\u001b[0m \u001b[0mpath\u001b[0m\u001b[0;34m)\u001b[0m\u001b[0;34m:\u001b[0m\u001b[0;34m\u001b[0m\u001b[0;34m\u001b[0m\u001b[0m\n\u001b[0;32m--> 218\u001b[0;31m         \u001b[0mfilename\u001b[0m \u001b[0;34m=\u001b[0m \u001b[0mos\u001b[0m\u001b[0;34m.\u001b[0m\u001b[0mpath\u001b[0m\u001b[0;34m.\u001b[0m\u001b[0mbasename\u001b[0m\u001b[0;34m(\u001b[0m\u001b[0mpath\u001b[0m\u001b[0;34m)\u001b[0m\u001b[0;34m\u001b[0m\u001b[0;34m\u001b[0m\u001b[0m\n\u001b[0m\u001b[1;32m    219\u001b[0m         \u001b[0;32mif\u001b[0m \u001b[0;32mnot\u001b[0m \u001b[0mos\u001b[0m\u001b[0;34m.\u001b[0m\u001b[0mpath\u001b[0m\u001b[0;34m.\u001b[0m\u001b[0mexists\u001b[0m\u001b[0;34m(\u001b[0m\u001b[0mpath\u001b[0m\u001b[0;34m)\u001b[0m\u001b[0;34m:\u001b[0m\u001b[0;34m\u001b[0m\u001b[0;34m\u001b[0m\u001b[0m\n\u001b[1;32m    220\u001b[0m             \u001b[0;32mraise\u001b[0m \u001b[0mFileNotFoundError\u001b[0m\u001b[0;34m(\u001b[0m\u001b[0;34mf\"file doesn't exist {path}\"\u001b[0m\u001b[0;34m)\u001b[0m\u001b[0;34m\u001b[0m\u001b[0;34m\u001b[0m\u001b[0m\n",
      "\u001b[0;32m/opt/anaconda3/lib/python3.8/posixpath.py\u001b[0m in \u001b[0;36mbasename\u001b[0;34m(p)\u001b[0m\n\u001b[1;32m    140\u001b[0m \u001b[0;32mdef\u001b[0m \u001b[0mbasename\u001b[0m\u001b[0;34m(\u001b[0m\u001b[0mp\u001b[0m\u001b[0;34m)\u001b[0m\u001b[0;34m:\u001b[0m\u001b[0;34m\u001b[0m\u001b[0;34m\u001b[0m\u001b[0m\n\u001b[1;32m    141\u001b[0m     \u001b[0;34m\"\"\"Returns the final component of a pathname\"\"\"\u001b[0m\u001b[0;34m\u001b[0m\u001b[0;34m\u001b[0m\u001b[0m\n\u001b[0;32m--> 142\u001b[0;31m     \u001b[0mp\u001b[0m \u001b[0;34m=\u001b[0m \u001b[0mos\u001b[0m\u001b[0;34m.\u001b[0m\u001b[0mfspath\u001b[0m\u001b[0;34m(\u001b[0m\u001b[0mp\u001b[0m\u001b[0;34m)\u001b[0m\u001b[0;34m\u001b[0m\u001b[0;34m\u001b[0m\u001b[0m\n\u001b[0m\u001b[1;32m    143\u001b[0m     \u001b[0msep\u001b[0m \u001b[0;34m=\u001b[0m \u001b[0m_get_sep\u001b[0m\u001b[0;34m(\u001b[0m\u001b[0mp\u001b[0m\u001b[0;34m)\u001b[0m\u001b[0;34m\u001b[0m\u001b[0;34m\u001b[0m\u001b[0m\n\u001b[1;32m    144\u001b[0m     \u001b[0mi\u001b[0m \u001b[0;34m=\u001b[0m \u001b[0mp\u001b[0m\u001b[0;34m.\u001b[0m\u001b[0mrfind\u001b[0m\u001b[0;34m(\u001b[0m\u001b[0msep\u001b[0m\u001b[0;34m)\u001b[0m \u001b[0;34m+\u001b[0m \u001b[0;36m1\u001b[0m\u001b[0;34m\u001b[0m\u001b[0;34m\u001b[0m\u001b[0m\n",
      "\u001b[0;31mTypeError\u001b[0m: expected str, bytes or os.PathLike object, not NoneType"
     ]
    }
   ],
   "source": [
    "#%%capture\n",
    "import naas\n",
    "email_to =\"idriss.bachali01@gmail.com\"\n",
    "subject = 'naas scheduling update'\n",
    "content =' this so ennoying'\n",
    "\n",
    "naas.notifications.send(email_to,subject,content)\n",
    "naas.scheduler.add(cron = \"0 14 * * 1-7\")"
   ]
  },
  {
   "cell_type": "code",
   "execution_count": 1,
   "metadata": {
    "hide_input": false
   },
   "outputs": [
    {
     "name": "stdout",
     "output_type": "stream",
     "text": [
      "recurrence is deprecated use cron arg instead\n",
      "404 Client Error: Not Found for url: https://app.naas.ai/hub/api/sessions\n",
      "404 Client Error: Not Found for url: https://app.naas.ai/hub/api/sessions\n"
     ]
    },
    {
     "ename": "TypeError",
     "evalue": "expected str, bytes or os.PathLike object, not NoneType",
     "output_type": "error",
     "traceback": [
      "\u001b[0;31m---------------------------------------------------------------------------\u001b[0m",
      "\u001b[0;31mTypeError\u001b[0m                                 Traceback (most recent call last)",
      "\u001b[0;32m<ipython-input-1-83e2535e832f>\u001b[0m in \u001b[0;36m<module>\u001b[0;34m\u001b[0m\n\u001b[1;32m      2\u001b[0m \u001b[0;32mimport\u001b[0m \u001b[0mplotly\u001b[0m \u001b[0;32mas\u001b[0m \u001b[0mpy\u001b[0m\u001b[0;34m\u001b[0m\u001b[0;34m\u001b[0m\u001b[0m\n\u001b[1;32m      3\u001b[0m \u001b[0;32mimport\u001b[0m \u001b[0mnaas\u001b[0m\u001b[0;34m\u001b[0m\u001b[0;34m\u001b[0m\u001b[0m\n\u001b[0;32m----> 4\u001b[0;31m \u001b[0mnaas\u001b[0m\u001b[0;34m.\u001b[0m\u001b[0mscheduler\u001b[0m\u001b[0;34m.\u001b[0m\u001b[0madd\u001b[0m\u001b[0;34m(\u001b[0m\u001b[0mrecurrence\u001b[0m\u001b[0;34m=\u001b[0m\u001b[0;34m\"0 14 * * 1-7\"\u001b[0m\u001b[0;34m)\u001b[0m\u001b[0;34m\u001b[0m\u001b[0;34m\u001b[0m\u001b[0m\n\u001b[0m\u001b[1;32m      5\u001b[0m \u001b[0;32mimport\u001b[0m \u001b[0mnumpy\u001b[0m \u001b[0;32mas\u001b[0m \u001b[0mnp\u001b[0m\u001b[0;34m\u001b[0m\u001b[0;34m\u001b[0m\u001b[0m\n\u001b[1;32m      6\u001b[0m \u001b[0;32mimport\u001b[0m \u001b[0mpandas\u001b[0m \u001b[0;32mas\u001b[0m \u001b[0mpd\u001b[0m\u001b[0;34m\u001b[0m\u001b[0;34m\u001b[0m\u001b[0m\n",
      "\u001b[0;32m/opt/anaconda3/lib/python3.8/site-packages/naas/scheduler.py\u001b[0m in \u001b[0;36madd\u001b[0;34m(self, path, recurrence, cron, params, debug)\u001b[0m\n\u001b[1;32m     99\u001b[0m         \u001b[0;32mexcept\u001b[0m\u001b[0;34m:\u001b[0m  \u001b[0;31m# noqa: E722\u001b[0m\u001b[0;34m\u001b[0m\u001b[0;34m\u001b[0m\u001b[0m\n\u001b[1;32m    100\u001b[0m             \u001b[0;32mpass\u001b[0m\u001b[0;34m\u001b[0m\u001b[0;34m\u001b[0m\u001b[0m\n\u001b[0;32m--> 101\u001b[0;31m         self.manager.add_prod(\n\u001b[0m\u001b[1;32m    102\u001b[0m             {\n\u001b[1;32m    103\u001b[0m                 \u001b[0;34m\"type\"\u001b[0m\u001b[0;34m:\u001b[0m \u001b[0mself\u001b[0m\u001b[0;34m.\u001b[0m\u001b[0mrole\u001b[0m\u001b[0;34m,\u001b[0m\u001b[0;34m\u001b[0m\u001b[0;34m\u001b[0m\u001b[0m\n",
      "\u001b[0;32m/opt/anaconda3/lib/python3.8/site-packages/naas/manager.py\u001b[0m in \u001b[0;36madd_prod\u001b[0;34m(self, obj, debug)\u001b[0m\n\u001b[1;32m    369\u001b[0m             \u001b[0mdev_path\u001b[0m \u001b[0;34m=\u001b[0m \u001b[0mobj\u001b[0m\u001b[0;34m.\u001b[0m\u001b[0mget\u001b[0m\u001b[0;34m(\u001b[0m\u001b[0;34m\"path\"\u001b[0m\u001b[0;34m)\u001b[0m\u001b[0;34m\u001b[0m\u001b[0;34m\u001b[0m\u001b[0m\n\u001b[1;32m    370\u001b[0m             \u001b[0mnew_obj\u001b[0m\u001b[0;34m[\u001b[0m\u001b[0;34m\"path\"\u001b[0m\u001b[0;34m]\u001b[0m \u001b[0;34m=\u001b[0m \u001b[0mself\u001b[0m\u001b[0;34m.\u001b[0m\u001b[0mget_path\u001b[0m\u001b[0;34m(\u001b[0m\u001b[0mdev_path\u001b[0m\u001b[0;34m)\u001b[0m\u001b[0;34m\u001b[0m\u001b[0;34m\u001b[0m\u001b[0m\n\u001b[0;32m--> 371\u001b[0;31m             \u001b[0mnew_obj\u001b[0m\u001b[0;34m[\u001b[0m\u001b[0;34m\"file\"\u001b[0m\u001b[0;34m]\u001b[0m \u001b[0;34m=\u001b[0m \u001b[0mself\u001b[0m\u001b[0;34m.\u001b[0m\u001b[0m__open_file\u001b[0m\u001b[0;34m(\u001b[0m\u001b[0mdev_path\u001b[0m\u001b[0;34m)\u001b[0m\u001b[0;34m\u001b[0m\u001b[0;34m\u001b[0m\u001b[0m\n\u001b[0m\u001b[1;32m    372\u001b[0m             \u001b[0;31m# new_obj[\"status\"] = t_add\u001b[0m\u001b[0;34m\u001b[0m\u001b[0;34m\u001b[0m\u001b[0;34m\u001b[0m\u001b[0m\n\u001b[1;32m    373\u001b[0m             \u001b[0;32mtry\u001b[0m\u001b[0;34m:\u001b[0m\u001b[0;34m\u001b[0m\u001b[0;34m\u001b[0m\u001b[0m\n",
      "\u001b[0;32m/opt/anaconda3/lib/python3.8/site-packages/naas/manager.py\u001b[0m in \u001b[0;36m__open_file\u001b[0;34m(self, path)\u001b[0m\n\u001b[1;32m    216\u001b[0m \u001b[0;34m\u001b[0m\u001b[0m\n\u001b[1;32m    217\u001b[0m     \u001b[0;32mdef\u001b[0m \u001b[0m__open_file\u001b[0m\u001b[0;34m(\u001b[0m\u001b[0mself\u001b[0m\u001b[0;34m,\u001b[0m \u001b[0mpath\u001b[0m\u001b[0;34m)\u001b[0m\u001b[0;34m:\u001b[0m\u001b[0;34m\u001b[0m\u001b[0;34m\u001b[0m\u001b[0m\n\u001b[0;32m--> 218\u001b[0;31m         \u001b[0mfilename\u001b[0m \u001b[0;34m=\u001b[0m \u001b[0mos\u001b[0m\u001b[0;34m.\u001b[0m\u001b[0mpath\u001b[0m\u001b[0;34m.\u001b[0m\u001b[0mbasename\u001b[0m\u001b[0;34m(\u001b[0m\u001b[0mpath\u001b[0m\u001b[0;34m)\u001b[0m\u001b[0;34m\u001b[0m\u001b[0;34m\u001b[0m\u001b[0m\n\u001b[0m\u001b[1;32m    219\u001b[0m         \u001b[0;32mif\u001b[0m \u001b[0;32mnot\u001b[0m \u001b[0mos\u001b[0m\u001b[0;34m.\u001b[0m\u001b[0mpath\u001b[0m\u001b[0;34m.\u001b[0m\u001b[0mexists\u001b[0m\u001b[0;34m(\u001b[0m\u001b[0mpath\u001b[0m\u001b[0;34m)\u001b[0m\u001b[0;34m:\u001b[0m\u001b[0;34m\u001b[0m\u001b[0;34m\u001b[0m\u001b[0m\n\u001b[1;32m    220\u001b[0m             \u001b[0;32mraise\u001b[0m \u001b[0mFileNotFoundError\u001b[0m\u001b[0;34m(\u001b[0m\u001b[0;34mf\"file doesn't exist {path}\"\u001b[0m\u001b[0;34m)\u001b[0m\u001b[0;34m\u001b[0m\u001b[0;34m\u001b[0m\u001b[0m\n",
      "\u001b[0;32m/opt/anaconda3/lib/python3.8/posixpath.py\u001b[0m in \u001b[0;36mbasename\u001b[0;34m(p)\u001b[0m\n\u001b[1;32m    140\u001b[0m \u001b[0;32mdef\u001b[0m \u001b[0mbasename\u001b[0m\u001b[0;34m(\u001b[0m\u001b[0mp\u001b[0m\u001b[0;34m)\u001b[0m\u001b[0;34m:\u001b[0m\u001b[0;34m\u001b[0m\u001b[0;34m\u001b[0m\u001b[0m\n\u001b[1;32m    141\u001b[0m     \u001b[0;34m\"\"\"Returns the final component of a pathname\"\"\"\u001b[0m\u001b[0;34m\u001b[0m\u001b[0;34m\u001b[0m\u001b[0m\n\u001b[0;32m--> 142\u001b[0;31m     \u001b[0mp\u001b[0m \u001b[0;34m=\u001b[0m \u001b[0mos\u001b[0m\u001b[0;34m.\u001b[0m\u001b[0mfspath\u001b[0m\u001b[0;34m(\u001b[0m\u001b[0mp\u001b[0m\u001b[0;34m)\u001b[0m\u001b[0;34m\u001b[0m\u001b[0;34m\u001b[0m\u001b[0m\n\u001b[0m\u001b[1;32m    143\u001b[0m     \u001b[0msep\u001b[0m \u001b[0;34m=\u001b[0m \u001b[0m_get_sep\u001b[0m\u001b[0;34m(\u001b[0m\u001b[0mp\u001b[0m\u001b[0;34m)\u001b[0m\u001b[0;34m\u001b[0m\u001b[0;34m\u001b[0m\u001b[0m\n\u001b[1;32m    144\u001b[0m     \u001b[0mi\u001b[0m \u001b[0;34m=\u001b[0m \u001b[0mp\u001b[0m\u001b[0;34m.\u001b[0m\u001b[0mrfind\u001b[0m\u001b[0;34m(\u001b[0m\u001b[0msep\u001b[0m\u001b[0;34m)\u001b[0m \u001b[0;34m+\u001b[0m \u001b[0;36m1\u001b[0m\u001b[0;34m\u001b[0m\u001b[0;34m\u001b[0m\u001b[0m\n",
      "\u001b[0;31mTypeError\u001b[0m: expected str, bytes or os.PathLike object, not NoneType"
     ]
    }
   ],
   "source": [
    "\n",
    "from plotly.offline import init_notebook_mode, iplot, plot\n",
    "import plotly as py\n",
    "import numpy as np\n",
    "import pandas as pd\n",
    "\n",
    "import matplotlib.pyplot as plt\n",
    "\n",
    "import seaborn as sns\n",
    "\n",
    "%config InlineBackend.figure_format = 'retina'\n",
    "import ipywidgets as widgets\n",
    "\n",
    "#!pip install pandas-bokeh\n",
    "import pandas_bokeh\n",
    "pandas_bokeh.output_notebook()\n",
    "pd.set_option('plotting.backend', 'pandas_bokeh')\n",
    "\n",
    "# Create Bokeh-Table with DataFrame:\n",
    "from bokeh.models.widgets import DataTable, TableColumn\n",
    "from bokeh.models import ColumnDataSource\n",
    "\n",
    "df = pd.read_csv('../Demographics/MER-CountriesCOVID.csv')\n",
    "df.head()\n",
    "df = df.dropna()#### this will drop all rows with a single missing value\n",
    "df = df.drop(['Unnamed: 0'], axis = 1)\n",
    "df = df.sort_values(by=\"date\")\n",
    "\n",
    "#df= df.reset_index().sort_values('date')\n",
    "# get the number of missing data points per column\n",
    "missing_values_count = df.isnull().sum()\n",
    "#missing_values_count\n",
    "\n",
    "d = {\"ARE\": \"United_Arab_Emirates\" , \"BHR\" : 'Bahrain',\"DZA\": 'Algeria',\"EGY\": 'Egypt',\"IRQ\": 'Iraq',  \"ISR\": 'Israel', \"JOR\": 'Jordan',\"KWT\":'Kuwait',\"LBN\":'Lebanon',\"LBY\":'Libya',  \"MAR\":'Marocco' ,\"MRT\": 'Mauritania', \"OMN\":'Oman',\"PSE\": 'Palestine', \"QAT\":'Qatar',\"SAU\":'Saudi-Arabia',\"SOM\":'Somalia',\"SDN\":'Sudan',\"SSD\":'South_Sudan',\"SYR\":'Syria',\"TUN\":'Tunisia',\"YEM\":'Yemen'}\n",
    "df['iso_code'] = df.replace({\"iso_code\": d})\n",
    "\n",
    "from IPython.display import display, HTML\n",
    "import warnings\n",
    "warnings.filterwarnings(\"ignore\")\n",
    "\n",
    "javascript_functions = {False: \"hide()\", True: \"show()\"}\n",
    "button_descriptions  = {False: \"Show code\", True: \"Hide code\"}\n",
    "\n",
    "\n",
    "def toggle_code(state):\n",
    "\n",
    "    \"\"\"\n",
    "    Toggles the JavaScript show()/hide() function on the div.input element.\n",
    "    \"\"\"\n",
    "\n",
    "    output_string = \"<script>$(\\\"div.input\\\").{}</script>\"\n",
    "    output_args   = (javascript_functions[state],)\n",
    "    output        = output_string.format(*output_args)\n",
    "\n",
    "    display(HTML(output))\n",
    "\n",
    "\n",
    "def button_action(value):\n",
    "\n",
    "    \"\"\"\n",
    "    Calls the toggle_code function and updates the button description.\n",
    "    \"\"\"\n",
    "\n",
    "    state = value.new\n",
    "\n",
    "    toggle_code(state)\n",
    "\n",
    "    value.owner.description = button_descriptions[state]\n",
    "\n",
    "\n",
    "state = False\n",
    "toggle_code(state)\n",
    "\n",
    "button = widgets.ToggleButton(state, description = button_descriptions[state])\n",
    "button.observe(button_action, \"value\")\n",
    "\n",
    "display(button)"
   ]
  },
  {
   "cell_type": "markdown",
   "metadata": {},
   "source": [
    "# Data analysis of the Spread of Covid over the chosen country"
   ]
  },
  {
   "cell_type": "markdown",
   "metadata": {},
   "source": [
    "# The chosen country"
   ]
  },
  {
   "cell_type": "code",
   "execution_count": 16,
   "metadata": {},
   "outputs": [
    {
     "name": "stdout",
     "output_type": "stream",
     "text": [
      "Give the country : Tunisia\n"
     ]
    },
    {
     "data": {
      "text/html": [
       "<div>\n",
       "<style scoped>\n",
       "    .dataframe tbody tr th:only-of-type {\n",
       "        vertical-align: middle;\n",
       "    }\n",
       "\n",
       "    .dataframe tbody tr th {\n",
       "        vertical-align: top;\n",
       "    }\n",
       "\n",
       "    .dataframe thead th {\n",
       "        text-align: right;\n",
       "    }\n",
       "</style>\n",
       "<table border=\"1\" class=\"dataframe\">\n",
       "  <thead>\n",
       "    <tr style=\"text-align: right;\">\n",
       "      <th></th>\n",
       "      <th>date</th>\n",
       "      <th>total_cases</th>\n",
       "      <th>total_deaths</th>\n",
       "    </tr>\n",
       "  </thead>\n",
       "  <tbody>\n",
       "    <tr>\n",
       "      <th>0</th>\n",
       "      <td>2020-03-19</td>\n",
       "      <td>39</td>\n",
       "      <td>1.0</td>\n",
       "    </tr>\n",
       "    <tr>\n",
       "      <th>1</th>\n",
       "      <td>2020-03-20</td>\n",
       "      <td>54</td>\n",
       "      <td>1.0</td>\n",
       "    </tr>\n",
       "    <tr>\n",
       "      <th>2</th>\n",
       "      <td>2020-03-21</td>\n",
       "      <td>60</td>\n",
       "      <td>1.0</td>\n",
       "    </tr>\n",
       "    <tr>\n",
       "      <th>3</th>\n",
       "      <td>2020-03-22</td>\n",
       "      <td>75</td>\n",
       "      <td>3.0</td>\n",
       "    </tr>\n",
       "    <tr>\n",
       "      <th>4</th>\n",
       "      <td>2020-03-23</td>\n",
       "      <td>89</td>\n",
       "      <td>3.0</td>\n",
       "    </tr>\n",
       "  </tbody>\n",
       "</table>\n",
       "</div>"
      ],
      "text/plain": [
       "         date  total_cases  total_deaths\n",
       "0  2020-03-19           39           1.0\n",
       "1  2020-03-20           54           1.0\n",
       "2  2020-03-21           60           1.0\n",
       "3  2020-03-22           75           3.0\n",
       "4  2020-03-23           89           3.0"
      ]
     },
     "execution_count": 16,
     "metadata": {},
     "output_type": "execute_result"
    }
   ],
   "source": [
    "string = input('Give the country : ')\n",
    "\n",
    "df_1 = df[df['iso_code'] == str(string)]#  covid spread data for a chosen country\n",
    "\n",
    "covid_total = df_1.groupby(['date'])[ 'total_cases','total_deaths'].sum()\n",
    "covid_total=covid_total.reset_index().sort_values('date')\n",
    "covid_total.head()"
   ]
  },
  {
   "cell_type": "markdown",
   "metadata": {},
   "source": [
    "We group by Date for the chosen country  and sum up the number of total_cases  and total_deaths. This plot below is given a statistical visualisation for the Spread of COVID-19 for the country, you can notice the gap from each first day of a month, it is given an approximation for the velocity of the Spread of COVID-19 over the mentionned country. "
   ]
  },
  {
   "cell_type": "code",
   "execution_count": 17,
   "metadata": {},
   "outputs": [
    {
     "data": {
      "application/vnd.plotly.v1+json": {
       "config": {
        "plotlyServerURL": "https://plot.ly"
       },
       "data": [
        {
         "line": {
          "color": "rgb(102, 102, 255)",
          "width": 2
         },
         "mode": "lines+markers",
         "name": "total_cases",
         "type": "scatter",
         "x": [
          "03-2020",
          "03-2020",
          "03-2020",
          "03-2020",
          "03-2020",
          "03-2020",
          "03-2020",
          "03-2020",
          "03-2020",
          "03-2020",
          "03-2020",
          "03-2020",
          "03-2020",
          "04-2020",
          "04-2020",
          "04-2020",
          "04-2020",
          "04-2020",
          "04-2020",
          "04-2020",
          "04-2020",
          "04-2020",
          "04-2020",
          "04-2020",
          "04-2020",
          "04-2020",
          "04-2020",
          "04-2020",
          "04-2020",
          "04-2020",
          "04-2020",
          "04-2020",
          "04-2020",
          "04-2020",
          "04-2020",
          "04-2020",
          "04-2020",
          "04-2020",
          "04-2020",
          "04-2020",
          "04-2020",
          "04-2020",
          "04-2020",
          "05-2020",
          "05-2020",
          "05-2020",
          "05-2020",
          "05-2020",
          "05-2020",
          "05-2020",
          "05-2020",
          "05-2020",
          "05-2020",
          "05-2020",
          "05-2020",
          "05-2020",
          "05-2020",
          "05-2020",
          "05-2020",
          "05-2020",
          "05-2020",
          "05-2020",
          "05-2020",
          "05-2020",
          "05-2020",
          "05-2020",
          "05-2020",
          "05-2020",
          "05-2020",
          "05-2020",
          "05-2020",
          "05-2020",
          "05-2020",
          "05-2020",
          "06-2020",
          "06-2020",
          "06-2020",
          "06-2020",
          "06-2020",
          "06-2020",
          "06-2020",
          "06-2020",
          "06-2020",
          "06-2020",
          "06-2020",
          "06-2020",
          "06-2020",
          "06-2020",
          "06-2020",
          "06-2020",
          "06-2020",
          "06-2020",
          "06-2020",
          "06-2020",
          "06-2020",
          "06-2020",
          "06-2020",
          "06-2020",
          "06-2020",
          "06-2020",
          "06-2020",
          "06-2020",
          "06-2020",
          "06-2020",
          "07-2020",
          "07-2020",
          "07-2020",
          "07-2020",
          "07-2020",
          "07-2020",
          "07-2020",
          "07-2020",
          "07-2020",
          "07-2020",
          "07-2020",
          "07-2020",
          "07-2020",
          "07-2020",
          "07-2020",
          "07-2020",
          "07-2020",
          "07-2020",
          "07-2020",
          "07-2020",
          "07-2020",
          "07-2020",
          "07-2020",
          "07-2020",
          "07-2020",
          "07-2020",
          "07-2020",
          "07-2020",
          "07-2020",
          "07-2020",
          "07-2020",
          "08-2020",
          "08-2020",
          "08-2020",
          "08-2020",
          "08-2020",
          "08-2020",
          "08-2020",
          "08-2020",
          "08-2020",
          "08-2020",
          "08-2020",
          "08-2020",
          "08-2020",
          "08-2020",
          "08-2020",
          "08-2020",
          "08-2020",
          "08-2020",
          "08-2020",
          "08-2020",
          "08-2020",
          "08-2020",
          "08-2020",
          "08-2020",
          "08-2020",
          "08-2020",
          "08-2020",
          "08-2020",
          "08-2020",
          "08-2020",
          "08-2020",
          "09-2020",
          "09-2020",
          "09-2020",
          "09-2020",
          "09-2020",
          "09-2020",
          "09-2020",
          "09-2020",
          "09-2020",
          "09-2020",
          "09-2020",
          "09-2020",
          "09-2020",
          "09-2020",
          "09-2020",
          "09-2020",
          "09-2020",
          "09-2020",
          "09-2020",
          "09-2020",
          "09-2020",
          "09-2020",
          "09-2020",
          "09-2020",
          "09-2020",
          "09-2020",
          "09-2020",
          "09-2020",
          "09-2020",
          "09-2020",
          "10-2020",
          "10-2020",
          "10-2020",
          "10-2020",
          "10-2020",
          "10-2020",
          "10-2020",
          "10-2020",
          "10-2020",
          "10-2020",
          "10-2020",
          "10-2020",
          "10-2020",
          "10-2020",
          "10-2020",
          "10-2020",
          "10-2020",
          "10-2020",
          "10-2020",
          "10-2020",
          "10-2020",
          "10-2020",
          "10-2020",
          "10-2020",
          "10-2020",
          "10-2020",
          "10-2020",
          "10-2020",
          "10-2020",
          "10-2020",
          "10-2020",
          "11-2020",
          "11-2020",
          "11-2020",
          "11-2020",
          "11-2020",
          "11-2020",
          "11-2020",
          "11-2020",
          "11-2020",
          "11-2020",
          "11-2020",
          "11-2020",
          "11-2020",
          "11-2020",
          "11-2020",
          "11-2020",
          "11-2020",
          "11-2020",
          "11-2020",
          "11-2020",
          "11-2020",
          "11-2020",
          "11-2020",
          "11-2020",
          "11-2020",
          "11-2020",
          "11-2020",
          "11-2020",
          "11-2020",
          "11-2020",
          "12-2020",
          "12-2020",
          "12-2020",
          "12-2020",
          "12-2020",
          "12-2020",
          "12-2020",
          "12-2020",
          "12-2020",
          "12-2020",
          "12-2020",
          "12-2020",
          "12-2020",
          "12-2020",
          "12-2020",
          "12-2020",
          "12-2020",
          "12-2020",
          "12-2020",
          "12-2020",
          "12-2020",
          "12-2020",
          "12-2020",
          "12-2020",
          "12-2020",
          "12-2020",
          "12-2020",
          "12-2020",
          "12-2020",
          "12-2020",
          "12-2020",
          "01-2021",
          "01-2021",
          "01-2021",
          "01-2021",
          "01-2021",
          "01-2021",
          "01-2021",
          "01-2021",
          "01-2021",
          "01-2021",
          "01-2021",
          "01-2021",
          "01-2021",
          "01-2021",
          "01-2021",
          "01-2021",
          "01-2021",
          "01-2021",
          "01-2021",
          "01-2021",
          "01-2021",
          "01-2021",
          "01-2021",
          "01-2021",
          "01-2021",
          "01-2021",
          "01-2021",
          "01-2021",
          "01-2021",
          "01-2021",
          "01-2021",
          "02-2021",
          "02-2021",
          "02-2021",
          "02-2021",
          "02-2021",
          "02-2021",
          "02-2021",
          "02-2021",
          "02-2021",
          "02-2021",
          "02-2021",
          "02-2021",
          "02-2021",
          "02-2021",
          "02-2021",
          "02-2021",
          "02-2021",
          "02-2021",
          "02-2021",
          "02-2021",
          "02-2021",
          "02-2021",
          "02-2021",
          "02-2021",
          "02-2021",
          "02-2021",
          "02-2021",
          "02-2021",
          "03-2021",
          "03-2021",
          "03-2021",
          "03-2021",
          "03-2021",
          "03-2021",
          "03-2021",
          "03-2021",
          "03-2021",
          "03-2021",
          "03-2021",
          "03-2021",
          "03-2021",
          "03-2021",
          "03-2021",
          "03-2021",
          "03-2021",
          "03-2021",
          "03-2021",
          "03-2021",
          "03-2021",
          "03-2021",
          "03-2021",
          "03-2021",
          "03-2021",
          "03-2021",
          "03-2021",
          "03-2021",
          "03-2021",
          "03-2021",
          "03-2021",
          "04-2021",
          "04-2021",
          "04-2021",
          "04-2021",
          "04-2021",
          "04-2021",
          "04-2021",
          "04-2021",
          "04-2021",
          "04-2021",
          "04-2021",
          "04-2021",
          "04-2021",
          "04-2021",
          "04-2021",
          "04-2021",
          "04-2021",
          "04-2021",
          "04-2021",
          "04-2021",
          "04-2021",
          "04-2021",
          "04-2021",
          "04-2021",
          "04-2021",
          "04-2021",
          "04-2021",
          "04-2021",
          "04-2021",
          "04-2021",
          "05-2021",
          "05-2021",
          "05-2021",
          "05-2021",
          "05-2021",
          "05-2021",
          "05-2021",
          "05-2021",
          "05-2021",
          "05-2021",
          "05-2021",
          "05-2021",
          "05-2021",
          "05-2021",
          "05-2021",
          "05-2021",
          "05-2021",
          "05-2021",
          "05-2021",
          "05-2021",
          "05-2021",
          "05-2021",
          "05-2021",
          "05-2021",
          "05-2021",
          "05-2021",
          "05-2021",
          "05-2021",
          "05-2021",
          "05-2021",
          "05-2021",
          "06-2021",
          "06-2021",
          "06-2021",
          "06-2021",
          "06-2021",
          "06-2021",
          "06-2021",
          "06-2021",
          "06-2021",
          "06-2021",
          "06-2021",
          "06-2021",
          "06-2021",
          "06-2021",
          "06-2021",
          "06-2021",
          "06-2021",
          "06-2021",
          "06-2021",
          "06-2021",
          "06-2021",
          "06-2021",
          "06-2021",
          "06-2021",
          "06-2021",
          "06-2021",
          "06-2021",
          "06-2021",
          "06-2021",
          "06-2021",
          "07-2021",
          "07-2021",
          "07-2021",
          "07-2021",
          "07-2021",
          "07-2021",
          "07-2021",
          "07-2021",
          "07-2021",
          "07-2021",
          "07-2021",
          "07-2021",
          "07-2021",
          "07-2021",
          "07-2021",
          "07-2021",
          "07-2021"
         ],
         "y": [
          39,
          54,
          60,
          75,
          89,
          114,
          173,
          197,
          227,
          278,
          312,
          312,
          394,
          423,
          455,
          495,
          553,
          574,
          596,
          623,
          628,
          643,
          671,
          685,
          707,
          726,
          747,
          780,
          822,
          864,
          864,
          879,
          884,
          884,
          909,
          918,
          922,
          939,
          949,
          967,
          975,
          980,
          994,
          998,
          1009,
          1013,
          1018,
          1022,
          1025,
          1026,
          1030,
          1032,
          1032,
          1032,
          1032,
          1032,
          1032,
          1035,
          1037,
          1037,
          1043,
          1044,
          1045,
          1046,
          1048,
          1048,
          1051,
          1051,
          1051,
          1051,
          1068,
          1071,
          1076,
          1077,
          1084,
          1086,
          1087,
          1087,
          1087,
          1087,
          1087,
          1087,
          1087,
          1087,
          1087,
          1093,
          1094,
          1096,
          1110,
          1125,
          1128,
          1132,
          1146,
          1156,
          1157,
          1159,
          1159,
          1160,
          1162,
          1164,
          1168,
          1169,
          1172,
          1174,
          1175,
          1178,
          1181,
          1186,
          1188,
          1199,
          1205,
          1221,
          1231,
          1240,
          1245,
          1263,
          1302,
          1306,
          1319,
          1327,
          1336,
          1348,
          1374,
          1381,
          1389,
          1394,
          1406,
          1425,
          1443,
          1452,
          1455,
          1468,
          1488,
          1514,
          1535,
          1552,
          1561,
          1565,
          1584,
          1601,
          1642,
          1656,
          1678,
          1697,
          1717,
          1738,
          1780,
          1847,
          1903,
          2023,
          2107,
          2185,
          2314,
          2427,
          2543,
          2607,
          2738,
          2818,
          2893,
          3069,
          3206,
          3323,
          3461,
          3572,
          3685,
          3803,
          3963,
          4196,
          4394,
          4542,
          4776,
          5041,
          5124,
          5417,
          5417,
          5882,
          6259,
          6635,
          6635,
          7382,
          7623,
          8100,
          8570,
          8570,
          9110,
          10732,
          11260,
          11260,
          12479,
          13305,
          14392,
          14392,
          16114,
          16114,
          17405,
          18413,
          18413,
          19721,
          20944,
          22230,
          22230,
          22230,
          24542,
          26899,
          26899,
          31259,
          32556,
          32556,
          32556,
          34790,
          34790,
          34790,
          40542,
          40542,
          42727,
          44450,
          45892,
          45892,
          47214,
          48799,
          48799,
          52399,
          52399,
          54278,
          54278,
          58029,
          59813,
          61115,
          61906,
          63126,
          64363,
          66334,
          66334,
          69543,
          71119,
          71569,
          72993,
          74522,
          76106,
          77668,
          79339,
          80404,
          81003,
          81723,
          83772,
          83772,
          86265,
          87471,
          88711,
          89196,
          90213,
          91307,
          92475,
          93770,
          94980,
          96251,
          96769,
          96769,
          99280,
          99280,
          101900,
          102991,
          104002,
          104329,
          105445,
          106856,
          107814,
          109104,
          110393,
          111361,
          111361,
          113241,
          114547,
          115966,
          117582,
          119151,
          120687,
          121718,
          123323,
          125000,
          126752,
          128578,
          130230,
          131592,
          133204,
          134802,
          137216,
          139140,
          140557,
          141979,
          143544,
          144796,
          147061,
          149881,
          152254,
          154903,
          157514,
          159276,
          162350,
          164936,
          168568,
          170895,
          175065,
          177231,
          180090,
          181885,
          184483,
          188373,
          190884,
          193273,
          195314,
          197373,
          198636,
          200662,
          202323,
          204351,
          206030,
          207468,
          208885,
          210045,
          211412,
          212679,
          213949,
          215112,
          216176,
          217086,
          217753,
          218564,
          219650,
          220478,
          221455,
          222504,
          223244,
          223549,
          224329,
          225116,
          226015,
          226740,
          227643,
          228362,
          228937,
          229781,
          230443,
          231298,
          231964,
          232615,
          233277,
          233669,
          234231,
          235008,
          235643,
          236356,
          237028,
          237704,
          238017,
          238613,
          239368,
          239977,
          240617,
          241257,
          241834,
          242124,
          242673,
          243439,
          243935,
          244776,
          245405,
          245706,
          245923,
          246507,
          247254,
          248037,
          248782,
          249703,
          250565,
          251169,
          252171,
          254018,
          255308,
          256931,
          258335,
          260044,
          261177,
          263043,
          264994,
          266827,
          268837,
          270297,
          271861,
          272940,
          274604,
          276727,
          279376,
          281777,
          283976,
          285490,
          287061,
          289230,
          291833,
          294138,
          296343,
          298572,
          300342,
          301627,
          303584,
          305313,
          307215,
          309119,
          310734,
          311743,
          312747,
          314152,
          315600,
          317010,
          318236,
          319512,
          320813,
          321837,
          322998,
          324103,
          324823,
          325280,
          325832,
          326572,
          327473,
          328528,
          329925,
          331674,
          332833,
          334099,
          335345,
          336414,
          337529,
          338853,
          340250,
          341952,
          343374,
          344688,
          345474,
          346986,
          348911,
          350487,
          352303,
          353782,
          355732,
          356750,
          358183,
          360285,
          362658,
          364819,
          367047,
          368908,
          370224,
          372221,
          374312,
          376691,
          378982,
          381175,
          382950,
          385428,
          387773,
          391411,
          395362,
          398829,
          403493,
          407017,
          408931,
          414182,
          420103,
          426879,
          432761,
          438945,
          443631,
          447161,
          455091,
          464914,
          473229,
          481735,
          491021,
          497613,
          501923,
          510396,
          518609,
          526487,
          533274,
          540798
         ]
        },
        {
         "line": {
          "color": "rgb(255, 102, 102)",
          "width": 2
         },
         "mode": "lines+markers",
         "name": "total_deaths",
         "type": "scatter",
         "x": [
          "03-2020",
          "03-2020",
          "03-2020",
          "03-2020",
          "03-2020",
          "03-2020",
          "03-2020",
          "03-2020",
          "03-2020",
          "03-2020",
          "03-2020",
          "03-2020",
          "03-2020",
          "04-2020",
          "04-2020",
          "04-2020",
          "04-2020",
          "04-2020",
          "04-2020",
          "04-2020",
          "04-2020",
          "04-2020",
          "04-2020",
          "04-2020",
          "04-2020",
          "04-2020",
          "04-2020",
          "04-2020",
          "04-2020",
          "04-2020",
          "04-2020",
          "04-2020",
          "04-2020",
          "04-2020",
          "04-2020",
          "04-2020",
          "04-2020",
          "04-2020",
          "04-2020",
          "04-2020",
          "04-2020",
          "04-2020",
          "04-2020",
          "05-2020",
          "05-2020",
          "05-2020",
          "05-2020",
          "05-2020",
          "05-2020",
          "05-2020",
          "05-2020",
          "05-2020",
          "05-2020",
          "05-2020",
          "05-2020",
          "05-2020",
          "05-2020",
          "05-2020",
          "05-2020",
          "05-2020",
          "05-2020",
          "05-2020",
          "05-2020",
          "05-2020",
          "05-2020",
          "05-2020",
          "05-2020",
          "05-2020",
          "05-2020",
          "05-2020",
          "05-2020",
          "05-2020",
          "05-2020",
          "05-2020",
          "06-2020",
          "06-2020",
          "06-2020",
          "06-2020",
          "06-2020",
          "06-2020",
          "06-2020",
          "06-2020",
          "06-2020",
          "06-2020",
          "06-2020",
          "06-2020",
          "06-2020",
          "06-2020",
          "06-2020",
          "06-2020",
          "06-2020",
          "06-2020",
          "06-2020",
          "06-2020",
          "06-2020",
          "06-2020",
          "06-2020",
          "06-2020",
          "06-2020",
          "06-2020",
          "06-2020",
          "06-2020",
          "06-2020",
          "06-2020",
          "07-2020",
          "07-2020",
          "07-2020",
          "07-2020",
          "07-2020",
          "07-2020",
          "07-2020",
          "07-2020",
          "07-2020",
          "07-2020",
          "07-2020",
          "07-2020",
          "07-2020",
          "07-2020",
          "07-2020",
          "07-2020",
          "07-2020",
          "07-2020",
          "07-2020",
          "07-2020",
          "07-2020",
          "07-2020",
          "07-2020",
          "07-2020",
          "07-2020",
          "07-2020",
          "07-2020",
          "07-2020",
          "07-2020",
          "07-2020",
          "07-2020",
          "08-2020",
          "08-2020",
          "08-2020",
          "08-2020",
          "08-2020",
          "08-2020",
          "08-2020",
          "08-2020",
          "08-2020",
          "08-2020",
          "08-2020",
          "08-2020",
          "08-2020",
          "08-2020",
          "08-2020",
          "08-2020",
          "08-2020",
          "08-2020",
          "08-2020",
          "08-2020",
          "08-2020",
          "08-2020",
          "08-2020",
          "08-2020",
          "08-2020",
          "08-2020",
          "08-2020",
          "08-2020",
          "08-2020",
          "08-2020",
          "08-2020",
          "09-2020",
          "09-2020",
          "09-2020",
          "09-2020",
          "09-2020",
          "09-2020",
          "09-2020",
          "09-2020",
          "09-2020",
          "09-2020",
          "09-2020",
          "09-2020",
          "09-2020",
          "09-2020",
          "09-2020",
          "09-2020",
          "09-2020",
          "09-2020",
          "09-2020",
          "09-2020",
          "09-2020",
          "09-2020",
          "09-2020",
          "09-2020",
          "09-2020",
          "09-2020",
          "09-2020",
          "09-2020",
          "09-2020",
          "09-2020",
          "10-2020",
          "10-2020",
          "10-2020",
          "10-2020",
          "10-2020",
          "10-2020",
          "10-2020",
          "10-2020",
          "10-2020",
          "10-2020",
          "10-2020",
          "10-2020",
          "10-2020",
          "10-2020",
          "10-2020",
          "10-2020",
          "10-2020",
          "10-2020",
          "10-2020",
          "10-2020",
          "10-2020",
          "10-2020",
          "10-2020",
          "10-2020",
          "10-2020",
          "10-2020",
          "10-2020",
          "10-2020",
          "10-2020",
          "10-2020",
          "10-2020",
          "11-2020",
          "11-2020",
          "11-2020",
          "11-2020",
          "11-2020",
          "11-2020",
          "11-2020",
          "11-2020",
          "11-2020",
          "11-2020",
          "11-2020",
          "11-2020",
          "11-2020",
          "11-2020",
          "11-2020",
          "11-2020",
          "11-2020",
          "11-2020",
          "11-2020",
          "11-2020",
          "11-2020",
          "11-2020",
          "11-2020",
          "11-2020",
          "11-2020",
          "11-2020",
          "11-2020",
          "11-2020",
          "11-2020",
          "11-2020",
          "12-2020",
          "12-2020",
          "12-2020",
          "12-2020",
          "12-2020",
          "12-2020",
          "12-2020",
          "12-2020",
          "12-2020",
          "12-2020",
          "12-2020",
          "12-2020",
          "12-2020",
          "12-2020",
          "12-2020",
          "12-2020",
          "12-2020",
          "12-2020",
          "12-2020",
          "12-2020",
          "12-2020",
          "12-2020",
          "12-2020",
          "12-2020",
          "12-2020",
          "12-2020",
          "12-2020",
          "12-2020",
          "12-2020",
          "12-2020",
          "12-2020",
          "01-2021",
          "01-2021",
          "01-2021",
          "01-2021",
          "01-2021",
          "01-2021",
          "01-2021",
          "01-2021",
          "01-2021",
          "01-2021",
          "01-2021",
          "01-2021",
          "01-2021",
          "01-2021",
          "01-2021",
          "01-2021",
          "01-2021",
          "01-2021",
          "01-2021",
          "01-2021",
          "01-2021",
          "01-2021",
          "01-2021",
          "01-2021",
          "01-2021",
          "01-2021",
          "01-2021",
          "01-2021",
          "01-2021",
          "01-2021",
          "01-2021",
          "02-2021",
          "02-2021",
          "02-2021",
          "02-2021",
          "02-2021",
          "02-2021",
          "02-2021",
          "02-2021",
          "02-2021",
          "02-2021",
          "02-2021",
          "02-2021",
          "02-2021",
          "02-2021",
          "02-2021",
          "02-2021",
          "02-2021",
          "02-2021",
          "02-2021",
          "02-2021",
          "02-2021",
          "02-2021",
          "02-2021",
          "02-2021",
          "02-2021",
          "02-2021",
          "02-2021",
          "02-2021",
          "03-2021",
          "03-2021",
          "03-2021",
          "03-2021",
          "03-2021",
          "03-2021",
          "03-2021",
          "03-2021",
          "03-2021",
          "03-2021",
          "03-2021",
          "03-2021",
          "03-2021",
          "03-2021",
          "03-2021",
          "03-2021",
          "03-2021",
          "03-2021",
          "03-2021",
          "03-2021",
          "03-2021",
          "03-2021",
          "03-2021",
          "03-2021",
          "03-2021",
          "03-2021",
          "03-2021",
          "03-2021",
          "03-2021",
          "03-2021",
          "03-2021",
          "04-2021",
          "04-2021",
          "04-2021",
          "04-2021",
          "04-2021",
          "04-2021",
          "04-2021",
          "04-2021",
          "04-2021",
          "04-2021",
          "04-2021",
          "04-2021",
          "04-2021",
          "04-2021",
          "04-2021",
          "04-2021",
          "04-2021",
          "04-2021",
          "04-2021",
          "04-2021",
          "04-2021",
          "04-2021",
          "04-2021",
          "04-2021",
          "04-2021",
          "04-2021",
          "04-2021",
          "04-2021",
          "04-2021",
          "04-2021",
          "05-2021",
          "05-2021",
          "05-2021",
          "05-2021",
          "05-2021",
          "05-2021",
          "05-2021",
          "05-2021",
          "05-2021",
          "05-2021",
          "05-2021",
          "05-2021",
          "05-2021",
          "05-2021",
          "05-2021",
          "05-2021",
          "05-2021",
          "05-2021",
          "05-2021",
          "05-2021",
          "05-2021",
          "05-2021",
          "05-2021",
          "05-2021",
          "05-2021",
          "05-2021",
          "05-2021",
          "05-2021",
          "05-2021",
          "05-2021",
          "05-2021",
          "06-2021",
          "06-2021",
          "06-2021",
          "06-2021",
          "06-2021",
          "06-2021",
          "06-2021",
          "06-2021",
          "06-2021",
          "06-2021",
          "06-2021",
          "06-2021",
          "06-2021",
          "06-2021",
          "06-2021",
          "06-2021",
          "06-2021",
          "06-2021",
          "06-2021",
          "06-2021",
          "06-2021",
          "06-2021",
          "06-2021",
          "06-2021",
          "06-2021",
          "06-2021",
          "06-2021",
          "06-2021",
          "06-2021",
          "06-2021",
          "07-2021",
          "07-2021",
          "07-2021",
          "07-2021",
          "07-2021",
          "07-2021",
          "07-2021",
          "07-2021",
          "07-2021",
          "07-2021",
          "07-2021",
          "07-2021",
          "07-2021",
          "07-2021",
          "07-2021",
          "07-2021",
          "07-2021"
         ],
         "y": [
          1,
          1,
          1,
          3,
          3,
          4,
          5,
          6,
          6,
          8,
          8,
          8,
          10,
          12,
          14,
          18,
          18,
          22,
          22,
          23,
          24,
          25,
          25,
          28,
          31,
          34,
          34,
          35,
          37,
          37,
          37,
          38,
          38,
          38,
          38,
          38,
          38,
          38,
          38,
          39,
          40,
          40,
          41,
          41,
          42,
          42,
          43,
          43,
          43,
          44,
          45,
          45,
          45,
          45,
          45,
          45,
          45,
          45,
          45,
          45,
          46,
          47,
          47,
          47,
          47,
          48,
          48,
          48,
          48,
          48,
          48,
          48,
          48,
          48,
          48,
          48,
          49,
          49,
          49,
          49,
          49,
          49,
          49,
          49,
          49,
          49,
          49,
          49,
          49,
          49,
          50,
          50,
          50,
          50,
          50,
          50,
          50,
          50,
          50,
          50,
          50,
          50,
          50,
          50,
          50,
          50,
          50,
          50,
          50,
          50,
          50,
          50,
          50,
          50,
          50,
          50,
          50,
          50,
          50,
          50,
          50,
          50,
          50,
          50,
          50,
          50,
          50,
          50,
          50,
          50,
          50,
          50,
          50,
          50,
          50,
          51,
          51,
          51,
          51,
          51,
          51,
          51,
          51,
          51,
          51,
          52,
          52,
          53,
          53,
          54,
          54,
          56,
          57,
          60,
          63,
          64,
          68,
          71,
          71,
          71,
          71,
          73,
          74,
          76,
          76,
          77,
          80,
          81,
          84,
          87,
          93,
          93,
          94,
          96,
          96,
          99,
          103,
          107,
          107,
          117,
          123,
          129,
          133,
          133,
          138,
          159,
          164,
          164,
          174,
          180,
          191,
          191,
          214,
          214,
          246,
          265,
          265,
          271,
          276,
          321,
          321,
          321,
          364,
          409,
          409,
          456,
          478,
          478,
          478,
          512,
          512,
          512,
          626,
          626,
          687,
          711,
          740,
          740,
          784,
          819,
          819,
          983,
          983,
          1153,
          1153,
          1253,
          1317,
          1348,
          1381,
          1483,
          1512,
          1577,
          1577,
          1794,
          1873,
          1920,
          2006,
          2100,
          2151,
          2209,
          2279,
          2345,
          2396,
          2445,
          2541,
          2541,
          2684,
          2752,
          2821,
          2862,
          2935,
          2983,
          3034,
          3106,
          3153,
          3219,
          3260,
          3260,
          3359,
          3359,
          3481,
          3526,
          3561,
          3596,
          3668,
          3717,
          3758,
          3801,
          3836,
          3894,
          3894,
          3956,
          3997,
          4032,
          4090,
          4126,
          4158,
          4199,
          4237,
          4275,
          4324,
          4385,
          4426,
          4466,
          4518,
          4570,
          4620,
          4676,
          4730,
          4765,
          4800,
          4862,
          4934,
          5004,
          5052,
          5108,
          5153,
          5215,
          5284,
          5343,
          5415,
          5478,
          5528,
          5616,
          5692,
          5750,
          5844,
          5921,
          5989,
          6092,
          6154,
          6234,
          6287,
          6370,
          6446,
          6508,
          6599,
          6680,
          6754,
          6802,
          6893,
          6980,
          7048,
          7099,
          7162,
          7214,
          7257,
          7332,
          7378,
          7429,
          7461,
          7508,
          7544,
          7575,
          7617,
          7651,
          7684,
          7719,
          7755,
          7793,
          7811,
          7843,
          7869,
          7911,
          7942,
          7974,
          8001,
          8022,
          8047,
          8074,
          8106,
          8130,
          8167,
          8201,
          8225,
          8268,
          8292,
          8313,
          8329,
          8359,
          8389,
          8404,
          8429,
          8463,
          8490,
          8506,
          8526,
          8546,
          8569,
          8610,
          8637,
          8663,
          8684,
          8705,
          8735,
          8760,
          8788,
          8812,
          8843,
          8890,
          8931,
          8965,
          8993,
          9039,
          9087,
          9136,
          9179,
          9235,
          9293,
          9332,
          9396,
          9480,
          9553,
          9639,
          9717,
          9783,
          9825,
          9918,
          9993,
          10063,
          10170,
          10231,
          10304,
          10352,
          10444,
          10563,
          10641,
          10722,
          10808,
          10868,
          10915,
          11016,
          11122,
          11208,
          11277,
          11350,
          11429,
          11468,
          11556,
          11637,
          11693,
          11727,
          11779,
          11849,
          11899,
          11971,
          12032,
          12089,
          12141,
          12182,
          12236,
          12273,
          12342,
          12398,
          12451,
          12513,
          12574,
          12623,
          12654,
          12720,
          12793,
          12839,
          12902,
          12948,
          12980,
          13027,
          13126,
          13229,
          13305,
          13365,
          13436,
          13515,
          13567,
          13656,
          13721,
          13792,
          13874,
          13960,
          14038,
          14118,
          14223,
          14318,
          14406,
          14489,
          14579,
          14654,
          14737,
          14843,
          14959,
          15065,
          15179,
          15261,
          15377,
          15482,
          15601,
          15735,
          15861,
          16050,
          16244,
          16388,
          16494,
          16651,
          16845,
          17009,
          17214,
          17354
         ]
        }
       ],
       "layout": {
        "template": {
         "data": {
          "bar": [
           {
            "error_x": {
             "color": "#2a3f5f"
            },
            "error_y": {
             "color": "#2a3f5f"
            },
            "marker": {
             "line": {
              "color": "white",
              "width": 0.5
             }
            },
            "type": "bar"
           }
          ],
          "barpolar": [
           {
            "marker": {
             "line": {
              "color": "white",
              "width": 0.5
             }
            },
            "type": "barpolar"
           }
          ],
          "carpet": [
           {
            "aaxis": {
             "endlinecolor": "#2a3f5f",
             "gridcolor": "#C8D4E3",
             "linecolor": "#C8D4E3",
             "minorgridcolor": "#C8D4E3",
             "startlinecolor": "#2a3f5f"
            },
            "baxis": {
             "endlinecolor": "#2a3f5f",
             "gridcolor": "#C8D4E3",
             "linecolor": "#C8D4E3",
             "minorgridcolor": "#C8D4E3",
             "startlinecolor": "#2a3f5f"
            },
            "type": "carpet"
           }
          ],
          "choropleth": [
           {
            "colorbar": {
             "outlinewidth": 0,
             "ticks": ""
            },
            "type": "choropleth"
           }
          ],
          "contour": [
           {
            "colorbar": {
             "outlinewidth": 0,
             "ticks": ""
            },
            "colorscale": [
             [
              0,
              "#0d0887"
             ],
             [
              0.1111111111111111,
              "#46039f"
             ],
             [
              0.2222222222222222,
              "#7201a8"
             ],
             [
              0.3333333333333333,
              "#9c179e"
             ],
             [
              0.4444444444444444,
              "#bd3786"
             ],
             [
              0.5555555555555556,
              "#d8576b"
             ],
             [
              0.6666666666666666,
              "#ed7953"
             ],
             [
              0.7777777777777778,
              "#fb9f3a"
             ],
             [
              0.8888888888888888,
              "#fdca26"
             ],
             [
              1,
              "#f0f921"
             ]
            ],
            "type": "contour"
           }
          ],
          "contourcarpet": [
           {
            "colorbar": {
             "outlinewidth": 0,
             "ticks": ""
            },
            "type": "contourcarpet"
           }
          ],
          "heatmap": [
           {
            "colorbar": {
             "outlinewidth": 0,
             "ticks": ""
            },
            "colorscale": [
             [
              0,
              "#0d0887"
             ],
             [
              0.1111111111111111,
              "#46039f"
             ],
             [
              0.2222222222222222,
              "#7201a8"
             ],
             [
              0.3333333333333333,
              "#9c179e"
             ],
             [
              0.4444444444444444,
              "#bd3786"
             ],
             [
              0.5555555555555556,
              "#d8576b"
             ],
             [
              0.6666666666666666,
              "#ed7953"
             ],
             [
              0.7777777777777778,
              "#fb9f3a"
             ],
             [
              0.8888888888888888,
              "#fdca26"
             ],
             [
              1,
              "#f0f921"
             ]
            ],
            "type": "heatmap"
           }
          ],
          "heatmapgl": [
           {
            "colorbar": {
             "outlinewidth": 0,
             "ticks": ""
            },
            "colorscale": [
             [
              0,
              "#0d0887"
             ],
             [
              0.1111111111111111,
              "#46039f"
             ],
             [
              0.2222222222222222,
              "#7201a8"
             ],
             [
              0.3333333333333333,
              "#9c179e"
             ],
             [
              0.4444444444444444,
              "#bd3786"
             ],
             [
              0.5555555555555556,
              "#d8576b"
             ],
             [
              0.6666666666666666,
              "#ed7953"
             ],
             [
              0.7777777777777778,
              "#fb9f3a"
             ],
             [
              0.8888888888888888,
              "#fdca26"
             ],
             [
              1,
              "#f0f921"
             ]
            ],
            "type": "heatmapgl"
           }
          ],
          "histogram": [
           {
            "marker": {
             "colorbar": {
              "outlinewidth": 0,
              "ticks": ""
             }
            },
            "type": "histogram"
           }
          ],
          "histogram2d": [
           {
            "colorbar": {
             "outlinewidth": 0,
             "ticks": ""
            },
            "colorscale": [
             [
              0,
              "#0d0887"
             ],
             [
              0.1111111111111111,
              "#46039f"
             ],
             [
              0.2222222222222222,
              "#7201a8"
             ],
             [
              0.3333333333333333,
              "#9c179e"
             ],
             [
              0.4444444444444444,
              "#bd3786"
             ],
             [
              0.5555555555555556,
              "#d8576b"
             ],
             [
              0.6666666666666666,
              "#ed7953"
             ],
             [
              0.7777777777777778,
              "#fb9f3a"
             ],
             [
              0.8888888888888888,
              "#fdca26"
             ],
             [
              1,
              "#f0f921"
             ]
            ],
            "type": "histogram2d"
           }
          ],
          "histogram2dcontour": [
           {
            "colorbar": {
             "outlinewidth": 0,
             "ticks": ""
            },
            "colorscale": [
             [
              0,
              "#0d0887"
             ],
             [
              0.1111111111111111,
              "#46039f"
             ],
             [
              0.2222222222222222,
              "#7201a8"
             ],
             [
              0.3333333333333333,
              "#9c179e"
             ],
             [
              0.4444444444444444,
              "#bd3786"
             ],
             [
              0.5555555555555556,
              "#d8576b"
             ],
             [
              0.6666666666666666,
              "#ed7953"
             ],
             [
              0.7777777777777778,
              "#fb9f3a"
             ],
             [
              0.8888888888888888,
              "#fdca26"
             ],
             [
              1,
              "#f0f921"
             ]
            ],
            "type": "histogram2dcontour"
           }
          ],
          "mesh3d": [
           {
            "colorbar": {
             "outlinewidth": 0,
             "ticks": ""
            },
            "type": "mesh3d"
           }
          ],
          "parcoords": [
           {
            "line": {
             "colorbar": {
              "outlinewidth": 0,
              "ticks": ""
             }
            },
            "type": "parcoords"
           }
          ],
          "pie": [
           {
            "automargin": true,
            "type": "pie"
           }
          ],
          "scatter": [
           {
            "marker": {
             "colorbar": {
              "outlinewidth": 0,
              "ticks": ""
             }
            },
            "type": "scatter"
           }
          ],
          "scatter3d": [
           {
            "line": {
             "colorbar": {
              "outlinewidth": 0,
              "ticks": ""
             }
            },
            "marker": {
             "colorbar": {
              "outlinewidth": 0,
              "ticks": ""
             }
            },
            "type": "scatter3d"
           }
          ],
          "scattercarpet": [
           {
            "marker": {
             "colorbar": {
              "outlinewidth": 0,
              "ticks": ""
             }
            },
            "type": "scattercarpet"
           }
          ],
          "scattergeo": [
           {
            "marker": {
             "colorbar": {
              "outlinewidth": 0,
              "ticks": ""
             }
            },
            "type": "scattergeo"
           }
          ],
          "scattergl": [
           {
            "marker": {
             "colorbar": {
              "outlinewidth": 0,
              "ticks": ""
             }
            },
            "type": "scattergl"
           }
          ],
          "scattermapbox": [
           {
            "marker": {
             "colorbar": {
              "outlinewidth": 0,
              "ticks": ""
             }
            },
            "type": "scattermapbox"
           }
          ],
          "scatterpolar": [
           {
            "marker": {
             "colorbar": {
              "outlinewidth": 0,
              "ticks": ""
             }
            },
            "type": "scatterpolar"
           }
          ],
          "scatterpolargl": [
           {
            "marker": {
             "colorbar": {
              "outlinewidth": 0,
              "ticks": ""
             }
            },
            "type": "scatterpolargl"
           }
          ],
          "scatterternary": [
           {
            "marker": {
             "colorbar": {
              "outlinewidth": 0,
              "ticks": ""
             }
            },
            "type": "scatterternary"
           }
          ],
          "surface": [
           {
            "colorbar": {
             "outlinewidth": 0,
             "ticks": ""
            },
            "colorscale": [
             [
              0,
              "#0d0887"
             ],
             [
              0.1111111111111111,
              "#46039f"
             ],
             [
              0.2222222222222222,
              "#7201a8"
             ],
             [
              0.3333333333333333,
              "#9c179e"
             ],
             [
              0.4444444444444444,
              "#bd3786"
             ],
             [
              0.5555555555555556,
              "#d8576b"
             ],
             [
              0.6666666666666666,
              "#ed7953"
             ],
             [
              0.7777777777777778,
              "#fb9f3a"
             ],
             [
              0.8888888888888888,
              "#fdca26"
             ],
             [
              1,
              "#f0f921"
             ]
            ],
            "type": "surface"
           }
          ],
          "table": [
           {
            "cells": {
             "fill": {
              "color": "#EBF0F8"
             },
             "line": {
              "color": "white"
             }
            },
            "header": {
             "fill": {
              "color": "#C8D4E3"
             },
             "line": {
              "color": "white"
             }
            },
            "type": "table"
           }
          ]
         },
         "layout": {
          "annotationdefaults": {
           "arrowcolor": "#2a3f5f",
           "arrowhead": 0,
           "arrowwidth": 1
          },
          "autotypenumbers": "strict",
          "coloraxis": {
           "colorbar": {
            "outlinewidth": 0,
            "ticks": ""
           }
          },
          "colorscale": {
           "diverging": [
            [
             0,
             "#8e0152"
            ],
            [
             0.1,
             "#c51b7d"
            ],
            [
             0.2,
             "#de77ae"
            ],
            [
             0.3,
             "#f1b6da"
            ],
            [
             0.4,
             "#fde0ef"
            ],
            [
             0.5,
             "#f7f7f7"
            ],
            [
             0.6,
             "#e6f5d0"
            ],
            [
             0.7,
             "#b8e186"
            ],
            [
             0.8,
             "#7fbc41"
            ],
            [
             0.9,
             "#4d9221"
            ],
            [
             1,
             "#276419"
            ]
           ],
           "sequential": [
            [
             0,
             "#0d0887"
            ],
            [
             0.1111111111111111,
             "#46039f"
            ],
            [
             0.2222222222222222,
             "#7201a8"
            ],
            [
             0.3333333333333333,
             "#9c179e"
            ],
            [
             0.4444444444444444,
             "#bd3786"
            ],
            [
             0.5555555555555556,
             "#d8576b"
            ],
            [
             0.6666666666666666,
             "#ed7953"
            ],
            [
             0.7777777777777778,
             "#fb9f3a"
            ],
            [
             0.8888888888888888,
             "#fdca26"
            ],
            [
             1,
             "#f0f921"
            ]
           ],
           "sequentialminus": [
            [
             0,
             "#0d0887"
            ],
            [
             0.1111111111111111,
             "#46039f"
            ],
            [
             0.2222222222222222,
             "#7201a8"
            ],
            [
             0.3333333333333333,
             "#9c179e"
            ],
            [
             0.4444444444444444,
             "#bd3786"
            ],
            [
             0.5555555555555556,
             "#d8576b"
            ],
            [
             0.6666666666666666,
             "#ed7953"
            ],
            [
             0.7777777777777778,
             "#fb9f3a"
            ],
            [
             0.8888888888888888,
             "#fdca26"
            ],
            [
             1,
             "#f0f921"
            ]
           ]
          },
          "colorway": [
           "#636efa",
           "#EF553B",
           "#00cc96",
           "#ab63fa",
           "#FFA15A",
           "#19d3f3",
           "#FF6692",
           "#B6E880",
           "#FF97FF",
           "#FECB52"
          ],
          "font": {
           "color": "#2a3f5f"
          },
          "geo": {
           "bgcolor": "white",
           "lakecolor": "white",
           "landcolor": "white",
           "showlakes": true,
           "showland": true,
           "subunitcolor": "#C8D4E3"
          },
          "hoverlabel": {
           "align": "left"
          },
          "hovermode": "closest",
          "mapbox": {
           "style": "light"
          },
          "paper_bgcolor": "white",
          "plot_bgcolor": "white",
          "polar": {
           "angularaxis": {
            "gridcolor": "#EBF0F8",
            "linecolor": "#EBF0F8",
            "ticks": ""
           },
           "bgcolor": "white",
           "radialaxis": {
            "gridcolor": "#EBF0F8",
            "linecolor": "#EBF0F8",
            "ticks": ""
           }
          },
          "scene": {
           "xaxis": {
            "backgroundcolor": "white",
            "gridcolor": "#DFE8F3",
            "gridwidth": 2,
            "linecolor": "#EBF0F8",
            "showbackground": true,
            "ticks": "",
            "zerolinecolor": "#EBF0F8"
           },
           "yaxis": {
            "backgroundcolor": "white",
            "gridcolor": "#DFE8F3",
            "gridwidth": 2,
            "linecolor": "#EBF0F8",
            "showbackground": true,
            "ticks": "",
            "zerolinecolor": "#EBF0F8"
           },
           "zaxis": {
            "backgroundcolor": "white",
            "gridcolor": "#DFE8F3",
            "gridwidth": 2,
            "linecolor": "#EBF0F8",
            "showbackground": true,
            "ticks": "",
            "zerolinecolor": "#EBF0F8"
           }
          },
          "shapedefaults": {
           "line": {
            "color": "#2a3f5f"
           }
          },
          "ternary": {
           "aaxis": {
            "gridcolor": "#DFE8F3",
            "linecolor": "#A2B1C6",
            "ticks": ""
           },
           "baxis": {
            "gridcolor": "#DFE8F3",
            "linecolor": "#A2B1C6",
            "ticks": ""
           },
           "bgcolor": "white",
           "caxis": {
            "gridcolor": "#DFE8F3",
            "linecolor": "#A2B1C6",
            "ticks": ""
           }
          },
          "title": {
           "x": 0.05
          },
          "xaxis": {
           "automargin": true,
           "gridcolor": "#EBF0F8",
           "linecolor": "#EBF0F8",
           "ticks": "",
           "title": {
            "standoff": 15
           },
           "zerolinecolor": "#EBF0F8",
           "zerolinewidth": 2
          },
          "yaxis": {
           "automargin": true,
           "gridcolor": "#EBF0F8",
           "linecolor": "#EBF0F8",
           "ticks": "",
           "title": {
            "standoff": 15
           },
           "zerolinecolor": "#EBF0F8",
           "zerolinewidth": 2
          }
         }
        },
        "title": {
         "text": "Spread of COVID-19 over time in Tunisia per total cases and total deaths"
        },
        "xaxis": {
         "tickformat": "%d %B (%a)<br>%Y"
        }
       }
      },
      "text/html": [
       "<div>                            <div id=\"caa09e46-a678-4c7c-950a-e6a736a57235\" class=\"plotly-graph-div\" style=\"height:525px; width:100%;\"></div>            <script type=\"text/javascript\">                require([\"plotly\"], function(Plotly) {                    window.PLOTLYENV=window.PLOTLYENV || {};                                    if (document.getElementById(\"caa09e46-a678-4c7c-950a-e6a736a57235\")) {                    Plotly.newPlot(                        \"caa09e46-a678-4c7c-950a-e6a736a57235\",                        [{\"line\": {\"color\": \"rgb(102, 102, 255)\", \"width\": 2}, \"mode\": \"lines+markers\", \"name\": \"total_cases\", \"type\": \"scatter\", \"x\": [\"03-2020\", \"03-2020\", \"03-2020\", \"03-2020\", \"03-2020\", \"03-2020\", \"03-2020\", \"03-2020\", \"03-2020\", \"03-2020\", \"03-2020\", \"03-2020\", \"03-2020\", \"04-2020\", \"04-2020\", \"04-2020\", \"04-2020\", \"04-2020\", \"04-2020\", \"04-2020\", \"04-2020\", \"04-2020\", \"04-2020\", \"04-2020\", \"04-2020\", \"04-2020\", \"04-2020\", \"04-2020\", \"04-2020\", \"04-2020\", \"04-2020\", \"04-2020\", \"04-2020\", \"04-2020\", \"04-2020\", \"04-2020\", \"04-2020\", \"04-2020\", \"04-2020\", \"04-2020\", \"04-2020\", \"04-2020\", \"04-2020\", \"05-2020\", \"05-2020\", \"05-2020\", \"05-2020\", \"05-2020\", \"05-2020\", \"05-2020\", \"05-2020\", \"05-2020\", \"05-2020\", \"05-2020\", \"05-2020\", \"05-2020\", \"05-2020\", \"05-2020\", \"05-2020\", \"05-2020\", \"05-2020\", \"05-2020\", \"05-2020\", \"05-2020\", \"05-2020\", \"05-2020\", \"05-2020\", \"05-2020\", \"05-2020\", \"05-2020\", \"05-2020\", \"05-2020\", \"05-2020\", \"05-2020\", \"06-2020\", \"06-2020\", \"06-2020\", \"06-2020\", \"06-2020\", \"06-2020\", \"06-2020\", \"06-2020\", \"06-2020\", \"06-2020\", \"06-2020\", \"06-2020\", \"06-2020\", \"06-2020\", \"06-2020\", \"06-2020\", \"06-2020\", \"06-2020\", \"06-2020\", \"06-2020\", \"06-2020\", \"06-2020\", \"06-2020\", \"06-2020\", \"06-2020\", \"06-2020\", \"06-2020\", \"06-2020\", \"06-2020\", \"06-2020\", \"07-2020\", \"07-2020\", \"07-2020\", \"07-2020\", \"07-2020\", \"07-2020\", \"07-2020\", \"07-2020\", \"07-2020\", \"07-2020\", \"07-2020\", \"07-2020\", \"07-2020\", \"07-2020\", \"07-2020\", \"07-2020\", \"07-2020\", \"07-2020\", \"07-2020\", \"07-2020\", \"07-2020\", \"07-2020\", \"07-2020\", \"07-2020\", \"07-2020\", \"07-2020\", \"07-2020\", \"07-2020\", \"07-2020\", \"07-2020\", \"07-2020\", \"08-2020\", \"08-2020\", \"08-2020\", \"08-2020\", \"08-2020\", \"08-2020\", \"08-2020\", \"08-2020\", \"08-2020\", \"08-2020\", \"08-2020\", \"08-2020\", \"08-2020\", \"08-2020\", \"08-2020\", \"08-2020\", \"08-2020\", \"08-2020\", \"08-2020\", \"08-2020\", \"08-2020\", \"08-2020\", \"08-2020\", \"08-2020\", \"08-2020\", \"08-2020\", \"08-2020\", \"08-2020\", \"08-2020\", \"08-2020\", \"08-2020\", \"09-2020\", \"09-2020\", \"09-2020\", \"09-2020\", \"09-2020\", \"09-2020\", \"09-2020\", \"09-2020\", \"09-2020\", \"09-2020\", \"09-2020\", \"09-2020\", \"09-2020\", \"09-2020\", \"09-2020\", \"09-2020\", \"09-2020\", \"09-2020\", \"09-2020\", \"09-2020\", \"09-2020\", \"09-2020\", \"09-2020\", \"09-2020\", \"09-2020\", \"09-2020\", \"09-2020\", \"09-2020\", \"09-2020\", \"09-2020\", \"10-2020\", \"10-2020\", \"10-2020\", \"10-2020\", \"10-2020\", \"10-2020\", \"10-2020\", \"10-2020\", \"10-2020\", \"10-2020\", \"10-2020\", \"10-2020\", \"10-2020\", \"10-2020\", \"10-2020\", \"10-2020\", \"10-2020\", \"10-2020\", \"10-2020\", \"10-2020\", \"10-2020\", \"10-2020\", \"10-2020\", \"10-2020\", \"10-2020\", \"10-2020\", \"10-2020\", \"10-2020\", \"10-2020\", \"10-2020\", \"10-2020\", \"11-2020\", \"11-2020\", \"11-2020\", \"11-2020\", \"11-2020\", \"11-2020\", \"11-2020\", \"11-2020\", \"11-2020\", \"11-2020\", \"11-2020\", \"11-2020\", \"11-2020\", \"11-2020\", \"11-2020\", \"11-2020\", \"11-2020\", \"11-2020\", \"11-2020\", \"11-2020\", \"11-2020\", \"11-2020\", \"11-2020\", \"11-2020\", \"11-2020\", \"11-2020\", \"11-2020\", \"11-2020\", \"11-2020\", \"11-2020\", \"12-2020\", \"12-2020\", \"12-2020\", \"12-2020\", \"12-2020\", \"12-2020\", \"12-2020\", \"12-2020\", \"12-2020\", \"12-2020\", \"12-2020\", \"12-2020\", \"12-2020\", \"12-2020\", \"12-2020\", \"12-2020\", \"12-2020\", \"12-2020\", \"12-2020\", \"12-2020\", \"12-2020\", \"12-2020\", \"12-2020\", \"12-2020\", \"12-2020\", \"12-2020\", \"12-2020\", \"12-2020\", \"12-2020\", \"12-2020\", \"12-2020\", \"01-2021\", \"01-2021\", \"01-2021\", \"01-2021\", \"01-2021\", \"01-2021\", \"01-2021\", \"01-2021\", \"01-2021\", \"01-2021\", \"01-2021\", \"01-2021\", \"01-2021\", \"01-2021\", \"01-2021\", \"01-2021\", \"01-2021\", \"01-2021\", \"01-2021\", \"01-2021\", \"01-2021\", \"01-2021\", \"01-2021\", \"01-2021\", \"01-2021\", \"01-2021\", \"01-2021\", \"01-2021\", \"01-2021\", \"01-2021\", \"01-2021\", \"02-2021\", \"02-2021\", \"02-2021\", \"02-2021\", \"02-2021\", \"02-2021\", \"02-2021\", \"02-2021\", \"02-2021\", \"02-2021\", \"02-2021\", \"02-2021\", \"02-2021\", \"02-2021\", \"02-2021\", \"02-2021\", \"02-2021\", \"02-2021\", \"02-2021\", \"02-2021\", \"02-2021\", \"02-2021\", \"02-2021\", \"02-2021\", \"02-2021\", \"02-2021\", \"02-2021\", \"02-2021\", \"03-2021\", \"03-2021\", \"03-2021\", \"03-2021\", \"03-2021\", \"03-2021\", \"03-2021\", \"03-2021\", \"03-2021\", \"03-2021\", \"03-2021\", \"03-2021\", \"03-2021\", \"03-2021\", \"03-2021\", \"03-2021\", \"03-2021\", \"03-2021\", \"03-2021\", \"03-2021\", \"03-2021\", \"03-2021\", \"03-2021\", \"03-2021\", \"03-2021\", \"03-2021\", \"03-2021\", \"03-2021\", \"03-2021\", \"03-2021\", \"03-2021\", \"04-2021\", \"04-2021\", \"04-2021\", \"04-2021\", \"04-2021\", \"04-2021\", \"04-2021\", \"04-2021\", \"04-2021\", \"04-2021\", \"04-2021\", \"04-2021\", \"04-2021\", \"04-2021\", \"04-2021\", \"04-2021\", \"04-2021\", \"04-2021\", \"04-2021\", \"04-2021\", \"04-2021\", \"04-2021\", \"04-2021\", \"04-2021\", \"04-2021\", \"04-2021\", \"04-2021\", \"04-2021\", \"04-2021\", \"04-2021\", \"05-2021\", \"05-2021\", \"05-2021\", \"05-2021\", \"05-2021\", \"05-2021\", \"05-2021\", \"05-2021\", \"05-2021\", \"05-2021\", \"05-2021\", \"05-2021\", \"05-2021\", \"05-2021\", \"05-2021\", \"05-2021\", \"05-2021\", \"05-2021\", \"05-2021\", \"05-2021\", \"05-2021\", \"05-2021\", \"05-2021\", \"05-2021\", \"05-2021\", \"05-2021\", \"05-2021\", \"05-2021\", \"05-2021\", \"05-2021\", \"05-2021\", \"06-2021\", \"06-2021\", \"06-2021\", \"06-2021\", \"06-2021\", \"06-2021\", \"06-2021\", \"06-2021\", \"06-2021\", \"06-2021\", \"06-2021\", \"06-2021\", \"06-2021\", \"06-2021\", \"06-2021\", \"06-2021\", \"06-2021\", \"06-2021\", \"06-2021\", \"06-2021\", \"06-2021\", \"06-2021\", \"06-2021\", \"06-2021\", \"06-2021\", \"06-2021\", \"06-2021\", \"06-2021\", \"06-2021\", \"06-2021\", \"07-2021\", \"07-2021\", \"07-2021\", \"07-2021\", \"07-2021\", \"07-2021\", \"07-2021\", \"07-2021\", \"07-2021\", \"07-2021\", \"07-2021\", \"07-2021\", \"07-2021\", \"07-2021\", \"07-2021\", \"07-2021\", \"07-2021\"], \"y\": [39, 54, 60, 75, 89, 114, 173, 197, 227, 278, 312, 312, 394, 423, 455, 495, 553, 574, 596, 623, 628, 643, 671, 685, 707, 726, 747, 780, 822, 864, 864, 879, 884, 884, 909, 918, 922, 939, 949, 967, 975, 980, 994, 998, 1009, 1013, 1018, 1022, 1025, 1026, 1030, 1032, 1032, 1032, 1032, 1032, 1032, 1035, 1037, 1037, 1043, 1044, 1045, 1046, 1048, 1048, 1051, 1051, 1051, 1051, 1068, 1071, 1076, 1077, 1084, 1086, 1087, 1087, 1087, 1087, 1087, 1087, 1087, 1087, 1087, 1093, 1094, 1096, 1110, 1125, 1128, 1132, 1146, 1156, 1157, 1159, 1159, 1160, 1162, 1164, 1168, 1169, 1172, 1174, 1175, 1178, 1181, 1186, 1188, 1199, 1205, 1221, 1231, 1240, 1245, 1263, 1302, 1306, 1319, 1327, 1336, 1348, 1374, 1381, 1389, 1394, 1406, 1425, 1443, 1452, 1455, 1468, 1488, 1514, 1535, 1552, 1561, 1565, 1584, 1601, 1642, 1656, 1678, 1697, 1717, 1738, 1780, 1847, 1903, 2023, 2107, 2185, 2314, 2427, 2543, 2607, 2738, 2818, 2893, 3069, 3206, 3323, 3461, 3572, 3685, 3803, 3963, 4196, 4394, 4542, 4776, 5041, 5124, 5417, 5417, 5882, 6259, 6635, 6635, 7382, 7623, 8100, 8570, 8570, 9110, 10732, 11260, 11260, 12479, 13305, 14392, 14392, 16114, 16114, 17405, 18413, 18413, 19721, 20944, 22230, 22230, 22230, 24542, 26899, 26899, 31259, 32556, 32556, 32556, 34790, 34790, 34790, 40542, 40542, 42727, 44450, 45892, 45892, 47214, 48799, 48799, 52399, 52399, 54278, 54278, 58029, 59813, 61115, 61906, 63126, 64363, 66334, 66334, 69543, 71119, 71569, 72993, 74522, 76106, 77668, 79339, 80404, 81003, 81723, 83772, 83772, 86265, 87471, 88711, 89196, 90213, 91307, 92475, 93770, 94980, 96251, 96769, 96769, 99280, 99280, 101900, 102991, 104002, 104329, 105445, 106856, 107814, 109104, 110393, 111361, 111361, 113241, 114547, 115966, 117582, 119151, 120687, 121718, 123323, 125000, 126752, 128578, 130230, 131592, 133204, 134802, 137216, 139140, 140557, 141979, 143544, 144796, 147061, 149881, 152254, 154903, 157514, 159276, 162350, 164936, 168568, 170895, 175065, 177231, 180090, 181885, 184483, 188373, 190884, 193273, 195314, 197373, 198636, 200662, 202323, 204351, 206030, 207468, 208885, 210045, 211412, 212679, 213949, 215112, 216176, 217086, 217753, 218564, 219650, 220478, 221455, 222504, 223244, 223549, 224329, 225116, 226015, 226740, 227643, 228362, 228937, 229781, 230443, 231298, 231964, 232615, 233277, 233669, 234231, 235008, 235643, 236356, 237028, 237704, 238017, 238613, 239368, 239977, 240617, 241257, 241834, 242124, 242673, 243439, 243935, 244776, 245405, 245706, 245923, 246507, 247254, 248037, 248782, 249703, 250565, 251169, 252171, 254018, 255308, 256931, 258335, 260044, 261177, 263043, 264994, 266827, 268837, 270297, 271861, 272940, 274604, 276727, 279376, 281777, 283976, 285490, 287061, 289230, 291833, 294138, 296343, 298572, 300342, 301627, 303584, 305313, 307215, 309119, 310734, 311743, 312747, 314152, 315600, 317010, 318236, 319512, 320813, 321837, 322998, 324103, 324823, 325280, 325832, 326572, 327473, 328528, 329925, 331674, 332833, 334099, 335345, 336414, 337529, 338853, 340250, 341952, 343374, 344688, 345474, 346986, 348911, 350487, 352303, 353782, 355732, 356750, 358183, 360285, 362658, 364819, 367047, 368908, 370224, 372221, 374312, 376691, 378982, 381175, 382950, 385428, 387773, 391411, 395362, 398829, 403493, 407017, 408931, 414182, 420103, 426879, 432761, 438945, 443631, 447161, 455091, 464914, 473229, 481735, 491021, 497613, 501923, 510396, 518609, 526487, 533274, 540798]}, {\"line\": {\"color\": \"rgb(255, 102, 102)\", \"width\": 2}, \"mode\": \"lines+markers\", \"name\": \"total_deaths\", \"type\": \"scatter\", \"x\": [\"03-2020\", \"03-2020\", \"03-2020\", \"03-2020\", \"03-2020\", \"03-2020\", \"03-2020\", \"03-2020\", \"03-2020\", \"03-2020\", \"03-2020\", \"03-2020\", \"03-2020\", \"04-2020\", \"04-2020\", \"04-2020\", \"04-2020\", \"04-2020\", \"04-2020\", \"04-2020\", \"04-2020\", \"04-2020\", \"04-2020\", \"04-2020\", \"04-2020\", \"04-2020\", \"04-2020\", \"04-2020\", \"04-2020\", \"04-2020\", \"04-2020\", \"04-2020\", \"04-2020\", \"04-2020\", \"04-2020\", \"04-2020\", \"04-2020\", \"04-2020\", \"04-2020\", \"04-2020\", \"04-2020\", \"04-2020\", \"04-2020\", \"05-2020\", \"05-2020\", \"05-2020\", \"05-2020\", \"05-2020\", \"05-2020\", \"05-2020\", \"05-2020\", \"05-2020\", \"05-2020\", \"05-2020\", \"05-2020\", \"05-2020\", \"05-2020\", \"05-2020\", \"05-2020\", \"05-2020\", \"05-2020\", \"05-2020\", \"05-2020\", \"05-2020\", \"05-2020\", \"05-2020\", \"05-2020\", \"05-2020\", \"05-2020\", \"05-2020\", \"05-2020\", \"05-2020\", \"05-2020\", \"05-2020\", \"06-2020\", \"06-2020\", \"06-2020\", \"06-2020\", \"06-2020\", \"06-2020\", \"06-2020\", \"06-2020\", \"06-2020\", \"06-2020\", \"06-2020\", \"06-2020\", \"06-2020\", \"06-2020\", \"06-2020\", \"06-2020\", \"06-2020\", \"06-2020\", \"06-2020\", \"06-2020\", \"06-2020\", \"06-2020\", \"06-2020\", \"06-2020\", \"06-2020\", \"06-2020\", \"06-2020\", \"06-2020\", \"06-2020\", \"06-2020\", \"07-2020\", \"07-2020\", \"07-2020\", \"07-2020\", \"07-2020\", \"07-2020\", \"07-2020\", \"07-2020\", \"07-2020\", \"07-2020\", \"07-2020\", \"07-2020\", \"07-2020\", \"07-2020\", \"07-2020\", \"07-2020\", \"07-2020\", \"07-2020\", \"07-2020\", \"07-2020\", \"07-2020\", \"07-2020\", \"07-2020\", \"07-2020\", \"07-2020\", \"07-2020\", \"07-2020\", \"07-2020\", \"07-2020\", \"07-2020\", \"07-2020\", \"08-2020\", \"08-2020\", \"08-2020\", \"08-2020\", \"08-2020\", \"08-2020\", \"08-2020\", \"08-2020\", \"08-2020\", \"08-2020\", \"08-2020\", \"08-2020\", \"08-2020\", \"08-2020\", \"08-2020\", \"08-2020\", \"08-2020\", \"08-2020\", \"08-2020\", \"08-2020\", \"08-2020\", \"08-2020\", \"08-2020\", \"08-2020\", \"08-2020\", \"08-2020\", \"08-2020\", \"08-2020\", \"08-2020\", \"08-2020\", \"08-2020\", \"09-2020\", \"09-2020\", \"09-2020\", \"09-2020\", \"09-2020\", \"09-2020\", \"09-2020\", \"09-2020\", \"09-2020\", \"09-2020\", \"09-2020\", \"09-2020\", \"09-2020\", \"09-2020\", \"09-2020\", \"09-2020\", \"09-2020\", \"09-2020\", \"09-2020\", \"09-2020\", \"09-2020\", \"09-2020\", \"09-2020\", \"09-2020\", \"09-2020\", \"09-2020\", \"09-2020\", \"09-2020\", \"09-2020\", \"09-2020\", \"10-2020\", \"10-2020\", \"10-2020\", \"10-2020\", \"10-2020\", \"10-2020\", \"10-2020\", \"10-2020\", \"10-2020\", \"10-2020\", \"10-2020\", \"10-2020\", \"10-2020\", \"10-2020\", \"10-2020\", \"10-2020\", \"10-2020\", \"10-2020\", \"10-2020\", \"10-2020\", \"10-2020\", \"10-2020\", \"10-2020\", \"10-2020\", \"10-2020\", \"10-2020\", \"10-2020\", \"10-2020\", \"10-2020\", \"10-2020\", \"10-2020\", \"11-2020\", \"11-2020\", \"11-2020\", \"11-2020\", \"11-2020\", \"11-2020\", \"11-2020\", \"11-2020\", \"11-2020\", \"11-2020\", \"11-2020\", \"11-2020\", \"11-2020\", \"11-2020\", \"11-2020\", \"11-2020\", \"11-2020\", \"11-2020\", \"11-2020\", \"11-2020\", \"11-2020\", \"11-2020\", \"11-2020\", \"11-2020\", \"11-2020\", \"11-2020\", \"11-2020\", \"11-2020\", \"11-2020\", \"11-2020\", \"12-2020\", \"12-2020\", \"12-2020\", \"12-2020\", \"12-2020\", \"12-2020\", \"12-2020\", \"12-2020\", \"12-2020\", \"12-2020\", \"12-2020\", \"12-2020\", \"12-2020\", \"12-2020\", \"12-2020\", \"12-2020\", \"12-2020\", \"12-2020\", \"12-2020\", \"12-2020\", \"12-2020\", \"12-2020\", \"12-2020\", \"12-2020\", \"12-2020\", \"12-2020\", \"12-2020\", \"12-2020\", \"12-2020\", \"12-2020\", \"12-2020\", \"01-2021\", \"01-2021\", \"01-2021\", \"01-2021\", \"01-2021\", \"01-2021\", \"01-2021\", \"01-2021\", \"01-2021\", \"01-2021\", \"01-2021\", \"01-2021\", \"01-2021\", \"01-2021\", \"01-2021\", \"01-2021\", \"01-2021\", \"01-2021\", \"01-2021\", \"01-2021\", \"01-2021\", \"01-2021\", \"01-2021\", \"01-2021\", \"01-2021\", \"01-2021\", \"01-2021\", \"01-2021\", \"01-2021\", \"01-2021\", \"01-2021\", \"02-2021\", \"02-2021\", \"02-2021\", \"02-2021\", \"02-2021\", \"02-2021\", \"02-2021\", \"02-2021\", \"02-2021\", \"02-2021\", \"02-2021\", \"02-2021\", \"02-2021\", \"02-2021\", \"02-2021\", \"02-2021\", \"02-2021\", \"02-2021\", \"02-2021\", \"02-2021\", \"02-2021\", \"02-2021\", \"02-2021\", \"02-2021\", \"02-2021\", \"02-2021\", \"02-2021\", \"02-2021\", \"03-2021\", \"03-2021\", \"03-2021\", \"03-2021\", \"03-2021\", \"03-2021\", \"03-2021\", \"03-2021\", \"03-2021\", \"03-2021\", \"03-2021\", \"03-2021\", \"03-2021\", \"03-2021\", \"03-2021\", \"03-2021\", \"03-2021\", \"03-2021\", \"03-2021\", \"03-2021\", \"03-2021\", \"03-2021\", \"03-2021\", \"03-2021\", \"03-2021\", \"03-2021\", \"03-2021\", \"03-2021\", \"03-2021\", \"03-2021\", \"03-2021\", \"04-2021\", \"04-2021\", \"04-2021\", \"04-2021\", \"04-2021\", \"04-2021\", \"04-2021\", \"04-2021\", \"04-2021\", \"04-2021\", \"04-2021\", \"04-2021\", \"04-2021\", \"04-2021\", \"04-2021\", \"04-2021\", \"04-2021\", \"04-2021\", \"04-2021\", \"04-2021\", \"04-2021\", \"04-2021\", \"04-2021\", \"04-2021\", \"04-2021\", \"04-2021\", \"04-2021\", \"04-2021\", \"04-2021\", \"04-2021\", \"05-2021\", \"05-2021\", \"05-2021\", \"05-2021\", \"05-2021\", \"05-2021\", \"05-2021\", \"05-2021\", \"05-2021\", \"05-2021\", \"05-2021\", \"05-2021\", \"05-2021\", \"05-2021\", \"05-2021\", \"05-2021\", \"05-2021\", \"05-2021\", \"05-2021\", \"05-2021\", \"05-2021\", \"05-2021\", \"05-2021\", \"05-2021\", \"05-2021\", \"05-2021\", \"05-2021\", \"05-2021\", \"05-2021\", \"05-2021\", \"05-2021\", \"06-2021\", \"06-2021\", \"06-2021\", \"06-2021\", \"06-2021\", \"06-2021\", \"06-2021\", \"06-2021\", \"06-2021\", \"06-2021\", \"06-2021\", \"06-2021\", \"06-2021\", \"06-2021\", \"06-2021\", \"06-2021\", \"06-2021\", \"06-2021\", \"06-2021\", \"06-2021\", \"06-2021\", \"06-2021\", \"06-2021\", \"06-2021\", \"06-2021\", \"06-2021\", \"06-2021\", \"06-2021\", \"06-2021\", \"06-2021\", \"07-2021\", \"07-2021\", \"07-2021\", \"07-2021\", \"07-2021\", \"07-2021\", \"07-2021\", \"07-2021\", \"07-2021\", \"07-2021\", \"07-2021\", \"07-2021\", \"07-2021\", \"07-2021\", \"07-2021\", \"07-2021\", \"07-2021\"], \"y\": [1.0, 1.0, 1.0, 3.0, 3.0, 4.0, 5.0, 6.0, 6.0, 8.0, 8.0, 8.0, 10.0, 12.0, 14.0, 18.0, 18.0, 22.0, 22.0, 23.0, 24.0, 25.0, 25.0, 28.0, 31.0, 34.0, 34.0, 35.0, 37.0, 37.0, 37.0, 38.0, 38.0, 38.0, 38.0, 38.0, 38.0, 38.0, 38.0, 39.0, 40.0, 40.0, 41.0, 41.0, 42.0, 42.0, 43.0, 43.0, 43.0, 44.0, 45.0, 45.0, 45.0, 45.0, 45.0, 45.0, 45.0, 45.0, 45.0, 45.0, 46.0, 47.0, 47.0, 47.0, 47.0, 48.0, 48.0, 48.0, 48.0, 48.0, 48.0, 48.0, 48.0, 48.0, 48.0, 48.0, 49.0, 49.0, 49.0, 49.0, 49.0, 49.0, 49.0, 49.0, 49.0, 49.0, 49.0, 49.0, 49.0, 49.0, 50.0, 50.0, 50.0, 50.0, 50.0, 50.0, 50.0, 50.0, 50.0, 50.0, 50.0, 50.0, 50.0, 50.0, 50.0, 50.0, 50.0, 50.0, 50.0, 50.0, 50.0, 50.0, 50.0, 50.0, 50.0, 50.0, 50.0, 50.0, 50.0, 50.0, 50.0, 50.0, 50.0, 50.0, 50.0, 50.0, 50.0, 50.0, 50.0, 50.0, 50.0, 50.0, 50.0, 50.0, 50.0, 51.0, 51.0, 51.0, 51.0, 51.0, 51.0, 51.0, 51.0, 51.0, 51.0, 52.0, 52.0, 53.0, 53.0, 54.0, 54.0, 56.0, 57.0, 60.0, 63.0, 64.0, 68.0, 71.0, 71.0, 71.0, 71.0, 73.0, 74.0, 76.0, 76.0, 77.0, 80.0, 81.0, 84.0, 87.0, 93.0, 93.0, 94.0, 96.0, 96.0, 99.0, 103.0, 107.0, 107.0, 117.0, 123.0, 129.0, 133.0, 133.0, 138.0, 159.0, 164.0, 164.0, 174.0, 180.0, 191.0, 191.0, 214.0, 214.0, 246.0, 265.0, 265.0, 271.0, 276.0, 321.0, 321.0, 321.0, 364.0, 409.0, 409.0, 456.0, 478.0, 478.0, 478.0, 512.0, 512.0, 512.0, 626.0, 626.0, 687.0, 711.0, 740.0, 740.0, 784.0, 819.0, 819.0, 983.0, 983.0, 1153.0, 1153.0, 1253.0, 1317.0, 1348.0, 1381.0, 1483.0, 1512.0, 1577.0, 1577.0, 1794.0, 1873.0, 1920.0, 2006.0, 2100.0, 2151.0, 2209.0, 2279.0, 2345.0, 2396.0, 2445.0, 2541.0, 2541.0, 2684.0, 2752.0, 2821.0, 2862.0, 2935.0, 2983.0, 3034.0, 3106.0, 3153.0, 3219.0, 3260.0, 3260.0, 3359.0, 3359.0, 3481.0, 3526.0, 3561.0, 3596.0, 3668.0, 3717.0, 3758.0, 3801.0, 3836.0, 3894.0, 3894.0, 3956.0, 3997.0, 4032.0, 4090.0, 4126.0, 4158.0, 4199.0, 4237.0, 4275.0, 4324.0, 4385.0, 4426.0, 4466.0, 4518.0, 4570.0, 4620.0, 4676.0, 4730.0, 4765.0, 4800.0, 4862.0, 4934.0, 5004.0, 5052.0, 5108.0, 5153.0, 5215.0, 5284.0, 5343.0, 5415.0, 5478.0, 5528.0, 5616.0, 5692.0, 5750.0, 5844.0, 5921.0, 5989.0, 6092.0, 6154.0, 6234.0, 6287.0, 6370.0, 6446.0, 6508.0, 6599.0, 6680.0, 6754.0, 6802.0, 6893.0, 6980.0, 7048.0, 7099.0, 7162.0, 7214.0, 7257.0, 7332.0, 7378.0, 7429.0, 7461.0, 7508.0, 7544.0, 7575.0, 7617.0, 7651.0, 7684.0, 7719.0, 7755.0, 7793.0, 7811.0, 7843.0, 7869.0, 7911.0, 7942.0, 7974.0, 8001.0, 8022.0, 8047.0, 8074.0, 8106.0, 8130.0, 8167.0, 8201.0, 8225.0, 8268.0, 8292.0, 8313.0, 8329.0, 8359.0, 8389.0, 8404.0, 8429.0, 8463.0, 8490.0, 8506.0, 8526.0, 8546.0, 8569.0, 8610.0, 8637.0, 8663.0, 8684.0, 8705.0, 8735.0, 8760.0, 8788.0, 8812.0, 8843.0, 8890.0, 8931.0, 8965.0, 8993.0, 9039.0, 9087.0, 9136.0, 9179.0, 9235.0, 9293.0, 9332.0, 9396.0, 9480.0, 9553.0, 9639.0, 9717.0, 9783.0, 9825.0, 9918.0, 9993.0, 10063.0, 10170.0, 10231.0, 10304.0, 10352.0, 10444.0, 10563.0, 10641.0, 10722.0, 10808.0, 10868.0, 10915.0, 11016.0, 11122.0, 11208.0, 11277.0, 11350.0, 11429.0, 11468.0, 11556.0, 11637.0, 11693.0, 11727.0, 11779.0, 11849.0, 11899.0, 11971.0, 12032.0, 12089.0, 12141.0, 12182.0, 12236.0, 12273.0, 12342.0, 12398.0, 12451.0, 12513.0, 12574.0, 12623.0, 12654.0, 12720.0, 12793.0, 12839.0, 12902.0, 12948.0, 12980.0, 13027.0, 13126.0, 13229.0, 13305.0, 13365.0, 13436.0, 13515.0, 13567.0, 13656.0, 13721.0, 13792.0, 13874.0, 13960.0, 14038.0, 14118.0, 14223.0, 14318.0, 14406.0, 14489.0, 14579.0, 14654.0, 14737.0, 14843.0, 14959.0, 15065.0, 15179.0, 15261.0, 15377.0, 15482.0, 15601.0, 15735.0, 15861.0, 16050.0, 16244.0, 16388.0, 16494.0, 16651.0, 16845.0, 17009.0, 17214.0, 17354.0]}],                        {\"template\": {\"data\": {\"bar\": [{\"error_x\": {\"color\": \"#2a3f5f\"}, \"error_y\": {\"color\": \"#2a3f5f\"}, \"marker\": {\"line\": {\"color\": \"white\", \"width\": 0.5}}, \"type\": \"bar\"}], \"barpolar\": [{\"marker\": {\"line\": {\"color\": \"white\", \"width\": 0.5}}, \"type\": \"barpolar\"}], \"carpet\": [{\"aaxis\": {\"endlinecolor\": \"#2a3f5f\", \"gridcolor\": \"#C8D4E3\", \"linecolor\": \"#C8D4E3\", \"minorgridcolor\": \"#C8D4E3\", \"startlinecolor\": \"#2a3f5f\"}, \"baxis\": {\"endlinecolor\": \"#2a3f5f\", \"gridcolor\": \"#C8D4E3\", \"linecolor\": \"#C8D4E3\", \"minorgridcolor\": \"#C8D4E3\", \"startlinecolor\": \"#2a3f5f\"}, \"type\": \"carpet\"}], \"choropleth\": [{\"colorbar\": {\"outlinewidth\": 0, \"ticks\": \"\"}, \"type\": \"choropleth\"}], \"contour\": [{\"colorbar\": {\"outlinewidth\": 0, \"ticks\": \"\"}, \"colorscale\": [[0.0, \"#0d0887\"], [0.1111111111111111, \"#46039f\"], [0.2222222222222222, \"#7201a8\"], [0.3333333333333333, \"#9c179e\"], [0.4444444444444444, \"#bd3786\"], [0.5555555555555556, \"#d8576b\"], [0.6666666666666666, \"#ed7953\"], [0.7777777777777778, \"#fb9f3a\"], [0.8888888888888888, \"#fdca26\"], [1.0, \"#f0f921\"]], \"type\": \"contour\"}], \"contourcarpet\": [{\"colorbar\": {\"outlinewidth\": 0, \"ticks\": \"\"}, \"type\": \"contourcarpet\"}], \"heatmap\": [{\"colorbar\": {\"outlinewidth\": 0, \"ticks\": \"\"}, \"colorscale\": [[0.0, \"#0d0887\"], [0.1111111111111111, \"#46039f\"], [0.2222222222222222, \"#7201a8\"], [0.3333333333333333, \"#9c179e\"], [0.4444444444444444, \"#bd3786\"], [0.5555555555555556, \"#d8576b\"], [0.6666666666666666, \"#ed7953\"], [0.7777777777777778, \"#fb9f3a\"], [0.8888888888888888, \"#fdca26\"], [1.0, \"#f0f921\"]], \"type\": \"heatmap\"}], \"heatmapgl\": [{\"colorbar\": {\"outlinewidth\": 0, \"ticks\": \"\"}, \"colorscale\": [[0.0, \"#0d0887\"], [0.1111111111111111, \"#46039f\"], [0.2222222222222222, \"#7201a8\"], [0.3333333333333333, \"#9c179e\"], [0.4444444444444444, \"#bd3786\"], [0.5555555555555556, \"#d8576b\"], [0.6666666666666666, \"#ed7953\"], [0.7777777777777778, \"#fb9f3a\"], [0.8888888888888888, \"#fdca26\"], [1.0, \"#f0f921\"]], \"type\": \"heatmapgl\"}], \"histogram\": [{\"marker\": {\"colorbar\": {\"outlinewidth\": 0, \"ticks\": \"\"}}, \"type\": \"histogram\"}], \"histogram2d\": [{\"colorbar\": {\"outlinewidth\": 0, \"ticks\": \"\"}, \"colorscale\": [[0.0, \"#0d0887\"], [0.1111111111111111, \"#46039f\"], [0.2222222222222222, \"#7201a8\"], [0.3333333333333333, \"#9c179e\"], [0.4444444444444444, \"#bd3786\"], [0.5555555555555556, \"#d8576b\"], [0.6666666666666666, \"#ed7953\"], [0.7777777777777778, \"#fb9f3a\"], [0.8888888888888888, \"#fdca26\"], [1.0, \"#f0f921\"]], \"type\": \"histogram2d\"}], \"histogram2dcontour\": [{\"colorbar\": {\"outlinewidth\": 0, \"ticks\": \"\"}, \"colorscale\": [[0.0, \"#0d0887\"], [0.1111111111111111, \"#46039f\"], [0.2222222222222222, \"#7201a8\"], [0.3333333333333333, \"#9c179e\"], [0.4444444444444444, \"#bd3786\"], [0.5555555555555556, \"#d8576b\"], [0.6666666666666666, \"#ed7953\"], [0.7777777777777778, \"#fb9f3a\"], [0.8888888888888888, \"#fdca26\"], [1.0, \"#f0f921\"]], \"type\": \"histogram2dcontour\"}], \"mesh3d\": [{\"colorbar\": {\"outlinewidth\": 0, \"ticks\": \"\"}, \"type\": \"mesh3d\"}], \"parcoords\": [{\"line\": {\"colorbar\": {\"outlinewidth\": 0, \"ticks\": \"\"}}, \"type\": \"parcoords\"}], \"pie\": [{\"automargin\": true, \"type\": \"pie\"}], \"scatter\": [{\"marker\": {\"colorbar\": {\"outlinewidth\": 0, \"ticks\": \"\"}}, \"type\": \"scatter\"}], \"scatter3d\": [{\"line\": {\"colorbar\": {\"outlinewidth\": 0, \"ticks\": \"\"}}, \"marker\": {\"colorbar\": {\"outlinewidth\": 0, \"ticks\": \"\"}}, \"type\": \"scatter3d\"}], \"scattercarpet\": [{\"marker\": {\"colorbar\": {\"outlinewidth\": 0, \"ticks\": \"\"}}, \"type\": \"scattercarpet\"}], \"scattergeo\": [{\"marker\": {\"colorbar\": {\"outlinewidth\": 0, \"ticks\": \"\"}}, \"type\": \"scattergeo\"}], \"scattergl\": [{\"marker\": {\"colorbar\": {\"outlinewidth\": 0, \"ticks\": \"\"}}, \"type\": \"scattergl\"}], \"scattermapbox\": [{\"marker\": {\"colorbar\": {\"outlinewidth\": 0, \"ticks\": \"\"}}, \"type\": \"scattermapbox\"}], \"scatterpolar\": [{\"marker\": {\"colorbar\": {\"outlinewidth\": 0, \"ticks\": \"\"}}, \"type\": \"scatterpolar\"}], \"scatterpolargl\": [{\"marker\": {\"colorbar\": {\"outlinewidth\": 0, \"ticks\": \"\"}}, \"type\": \"scatterpolargl\"}], \"scatterternary\": [{\"marker\": {\"colorbar\": {\"outlinewidth\": 0, \"ticks\": \"\"}}, \"type\": \"scatterternary\"}], \"surface\": [{\"colorbar\": {\"outlinewidth\": 0, \"ticks\": \"\"}, \"colorscale\": [[0.0, \"#0d0887\"], [0.1111111111111111, \"#46039f\"], [0.2222222222222222, \"#7201a8\"], [0.3333333333333333, \"#9c179e\"], [0.4444444444444444, \"#bd3786\"], [0.5555555555555556, \"#d8576b\"], [0.6666666666666666, \"#ed7953\"], [0.7777777777777778, \"#fb9f3a\"], [0.8888888888888888, \"#fdca26\"], [1.0, \"#f0f921\"]], \"type\": \"surface\"}], \"table\": [{\"cells\": {\"fill\": {\"color\": \"#EBF0F8\"}, \"line\": {\"color\": \"white\"}}, \"header\": {\"fill\": {\"color\": \"#C8D4E3\"}, \"line\": {\"color\": \"white\"}}, \"type\": \"table\"}]}, \"layout\": {\"annotationdefaults\": {\"arrowcolor\": \"#2a3f5f\", \"arrowhead\": 0, \"arrowwidth\": 1}, \"autotypenumbers\": \"strict\", \"coloraxis\": {\"colorbar\": {\"outlinewidth\": 0, \"ticks\": \"\"}}, \"colorscale\": {\"diverging\": [[0, \"#8e0152\"], [0.1, \"#c51b7d\"], [0.2, \"#de77ae\"], [0.3, \"#f1b6da\"], [0.4, \"#fde0ef\"], [0.5, \"#f7f7f7\"], [0.6, \"#e6f5d0\"], [0.7, \"#b8e186\"], [0.8, \"#7fbc41\"], [0.9, \"#4d9221\"], [1, \"#276419\"]], \"sequential\": [[0.0, \"#0d0887\"], [0.1111111111111111, \"#46039f\"], [0.2222222222222222, \"#7201a8\"], [0.3333333333333333, \"#9c179e\"], [0.4444444444444444, \"#bd3786\"], [0.5555555555555556, \"#d8576b\"], [0.6666666666666666, \"#ed7953\"], [0.7777777777777778, \"#fb9f3a\"], [0.8888888888888888, \"#fdca26\"], [1.0, \"#f0f921\"]], \"sequentialminus\": [[0.0, \"#0d0887\"], [0.1111111111111111, \"#46039f\"], [0.2222222222222222, \"#7201a8\"], [0.3333333333333333, \"#9c179e\"], [0.4444444444444444, \"#bd3786\"], [0.5555555555555556, \"#d8576b\"], [0.6666666666666666, \"#ed7953\"], [0.7777777777777778, \"#fb9f3a\"], [0.8888888888888888, \"#fdca26\"], [1.0, \"#f0f921\"]]}, \"colorway\": [\"#636efa\", \"#EF553B\", \"#00cc96\", \"#ab63fa\", \"#FFA15A\", \"#19d3f3\", \"#FF6692\", \"#B6E880\", \"#FF97FF\", \"#FECB52\"], \"font\": {\"color\": \"#2a3f5f\"}, \"geo\": {\"bgcolor\": \"white\", \"lakecolor\": \"white\", \"landcolor\": \"white\", \"showlakes\": true, \"showland\": true, \"subunitcolor\": \"#C8D4E3\"}, \"hoverlabel\": {\"align\": \"left\"}, \"hovermode\": \"closest\", \"mapbox\": {\"style\": \"light\"}, \"paper_bgcolor\": \"white\", \"plot_bgcolor\": \"white\", \"polar\": {\"angularaxis\": {\"gridcolor\": \"#EBF0F8\", \"linecolor\": \"#EBF0F8\", \"ticks\": \"\"}, \"bgcolor\": \"white\", \"radialaxis\": {\"gridcolor\": \"#EBF0F8\", \"linecolor\": \"#EBF0F8\", \"ticks\": \"\"}}, \"scene\": {\"xaxis\": {\"backgroundcolor\": \"white\", \"gridcolor\": \"#DFE8F3\", \"gridwidth\": 2, \"linecolor\": \"#EBF0F8\", \"showbackground\": true, \"ticks\": \"\", \"zerolinecolor\": \"#EBF0F8\"}, \"yaxis\": {\"backgroundcolor\": \"white\", \"gridcolor\": \"#DFE8F3\", \"gridwidth\": 2, \"linecolor\": \"#EBF0F8\", \"showbackground\": true, \"ticks\": \"\", \"zerolinecolor\": \"#EBF0F8\"}, \"zaxis\": {\"backgroundcolor\": \"white\", \"gridcolor\": \"#DFE8F3\", \"gridwidth\": 2, \"linecolor\": \"#EBF0F8\", \"showbackground\": true, \"ticks\": \"\", \"zerolinecolor\": \"#EBF0F8\"}}, \"shapedefaults\": {\"line\": {\"color\": \"#2a3f5f\"}}, \"ternary\": {\"aaxis\": {\"gridcolor\": \"#DFE8F3\", \"linecolor\": \"#A2B1C6\", \"ticks\": \"\"}, \"baxis\": {\"gridcolor\": \"#DFE8F3\", \"linecolor\": \"#A2B1C6\", \"ticks\": \"\"}, \"bgcolor\": \"white\", \"caxis\": {\"gridcolor\": \"#DFE8F3\", \"linecolor\": \"#A2B1C6\", \"ticks\": \"\"}}, \"title\": {\"x\": 0.05}, \"xaxis\": {\"automargin\": true, \"gridcolor\": \"#EBF0F8\", \"linecolor\": \"#EBF0F8\", \"ticks\": \"\", \"title\": {\"standoff\": 15}, \"zerolinecolor\": \"#EBF0F8\", \"zerolinewidth\": 2}, \"yaxis\": {\"automargin\": true, \"gridcolor\": \"#EBF0F8\", \"linecolor\": \"#EBF0F8\", \"ticks\": \"\", \"title\": {\"standoff\": 15}, \"zerolinecolor\": \"#EBF0F8\", \"zerolinewidth\": 2}}}, \"title\": {\"text\": \"Spread of COVID-19 over time in Tunisia per total cases and total deaths\"}, \"xaxis\": {\"tickformat\": \"%d %B (%a)<br>%Y\"}},                        {\"responsive\": true}                    ).then(function(){\n",
       "                            \n",
       "var gd = document.getElementById('caa09e46-a678-4c7c-950a-e6a736a57235');\n",
       "var x = new MutationObserver(function (mutations, observer) {{\n",
       "        var display = window.getComputedStyle(gd).display;\n",
       "        if (!display || display === 'none') {{\n",
       "            console.log([gd, 'removed!']);\n",
       "            Plotly.purge(gd);\n",
       "            observer.disconnect();\n",
       "        }}\n",
       "}});\n",
       "\n",
       "// Listen for the removal of the full notebook cells\n",
       "var notebookContainer = gd.closest('#notebook-container');\n",
       "if (notebookContainer) {{\n",
       "    x.observe(notebookContainer, {childList: true});\n",
       "}}\n",
       "\n",
       "// Listen for the clearing of the current output cell\n",
       "var outputEl = gd.closest('.output');\n",
       "if (outputEl) {{\n",
       "    x.observe(outputEl, {childList: true});\n",
       "}}\n",
       "\n",
       "                        })                };                });            </script>        </div>"
      ]
     },
     "metadata": {},
     "output_type": "display_data"
    }
   ],
   "source": [
    "import plotly.graph_objects as go\n",
    "\n",
    "x=[i.split('-')[1]+'-'+i.split('-')[0] for i in covid_total.date ]\n",
    "fig = go.Figure()\n",
    "fig.update_layout(template='plotly_white')\n",
    "fig.add_trace(go.Scatter(x=x, \n",
    "                         y=covid_total['total_cases'],\n",
    "                         mode='lines+markers',\n",
    "                         name='total_cases',\n",
    "                         line=dict(color='rgb(102, 102, 255)', width=2)))\n",
    "fig.add_trace(go.Scatter(x=x, \n",
    "                         y=covid_total['total_deaths'],\n",
    "                         mode='lines+markers',\n",
    "                         name='total_deaths',\n",
    "                         line=dict(color='rgb(255, 102, 102)', width=2)))\n",
    "\n",
    "fig.update_layout(\n",
    "    title = 'Spread of COVID-19 over time in '+str(string)+' per total cases and total deaths',\n",
    "    xaxis_tickformat = '%d %B (%a)<br>%Y'\n",
    ")\n",
    "fig.show()"
   ]
  },
  {
   "cell_type": "code",
   "execution_count": 18,
   "metadata": {},
   "outputs": [],
   "source": [
    "#import warnings\n",
    "\n",
    "import pandas as pd\n",
    "#from pandas.core.common import SettingWithCopyWarning\n",
    "\n",
    "#warnings.simplefilter(action=\"ignore\", category=SettingWithCopyWarning)\n",
    "\n",
    "df_1['date'] = pd.to_datetime(df_1['date'])\n",
    "df_1.set_index('date', inplace=True)\n",
    "df_ = df_1.drop([\"new_cases\",\"new_deaths\",\"new_cases_smoothed\",\"new_deaths_smoothed\"], axis = 1) \n",
    "\n",
    "df_2 = df_1.drop([\"total_cases\",\"total_deaths\",\"new_cases_smoothed\",\"new_deaths_smoothed\"], axis = 1) \n",
    "#df_.head()"
   ]
  },
  {
   "cell_type": "markdown",
   "metadata": {},
   "source": [
    "This is an Estimation for the  number of total_cases and total_deaths for the chosen country, we can establish for each date the exact number of total_cases and total_deaths in real-time! we do the same for new_cases and new_deaths."
   ]
  },
  {
   "cell_type": "code",
   "execution_count": 19,
   "metadata": {},
   "outputs": [
    {
     "data": {
      "text/html": [
       "\n",
       "\n",
       "\n",
       "\n",
       "\n",
       "\n",
       "  <div class=\"bk-root\" id=\"8cb68f57-5e55-4287-8ed8-aad82e447561\" data-root-id=\"1006\"></div>\n"
      ]
     },
     "metadata": {},
     "output_type": "display_data"
    },
    {
     "data": {
      "application/javascript": [
       "(function(root) {\n",
       "  function embed_document(root) {\n",
       "    \n",
       "  var docs_json = {\"ab16825d-8a96-446a-a18f-1e0970c3f628\":{\"roots\":{\"references\":[{\"attributes\":{\"below\":[{\"id\":\"1017\"}],\"center\":[{\"id\":\"1020\"},{\"id\":\"1024\"},{\"id\":\"1065\"}],\"left\":[{\"id\":\"1021\"}],\"output_backend\":\"webgl\",\"plot_height\":800,\"plot_width\":1000,\"renderers\":[{\"id\":\"1043\"},{\"id\":\"1073\"}],\"sizing_mode\":\"fixed\",\"title\":{\"id\":\"1007\"},\"toolbar\":{\"id\":\"1032\"},\"x_range\":{\"id\":\"1009\"},\"x_scale\":{\"id\":\"1013\"},\"y_range\":{\"id\":\"1011\"},\"y_scale\":{\"id\":\"1015\"}},\"id\":\"1006\",\"subtype\":\"Figure\",\"type\":\"Plot\"},{\"attributes\":{\"axis\":{\"id\":\"1017\"},\"ticker\":null},\"id\":\"1020\",\"type\":\"Grid\"},{\"attributes\":{},\"id\":\"1062\",\"type\":\"YearsTicker\"},{\"attributes\":{},\"id\":\"1015\",\"type\":\"LinearScale\"},{\"attributes\":{\"callback\":null,\"formatters\":{\"@__x__values_original\":\"datetime\"},\"mode\":\"vline\",\"renderers\":[{\"id\":\"1043\"}],\"tooltips\":[[\"Date\",\"@__x__values_original{%F}\"],[\"total_cases\",\"@{total_cases}\"]]},\"id\":\"1067\",\"type\":\"HoverTool\"},{\"attributes\":{\"callback\":null,\"formatters\":{\"@__x__values_original\":\"datetime\"},\"mode\":\"vline\",\"renderers\":[{\"id\":\"1073\"}],\"tooltips\":[[\"Date\",\"@__x__values_original{%F}\"],[\"total_deaths\",\"@{total_deaths}\"]]},\"id\":\"1098\",\"type\":\"HoverTool\"},{\"attributes\":{\"data_source\":{\"id\":\"1069\"},\"glyph\":{\"id\":\"1071\"},\"hover_glyph\":null,\"muted_glyph\":null,\"nonselection_glyph\":{\"id\":\"1072\"},\"selection_glyph\":null,\"view\":{\"id\":\"1074\"}},\"id\":\"1073\",\"type\":\"GlyphRenderer\"},{\"attributes\":{\"months\":[0,6]},\"id\":\"1061\",\"type\":\"MonthsTicker\"},{\"attributes\":{\"line_color\":\"#ff7f0e\",\"line_width\":2,\"x\":{\"field\":\"__x__values\"},\"y\":{\"field\":\"total_deaths\"}},\"id\":\"1071\",\"type\":\"Line\"},{\"attributes\":{\"months\":[0,2,4,6,8,10]},\"id\":\"1059\",\"type\":\"MonthsTicker\"},{\"attributes\":{\"label\":{\"value\":\" total_cases\"},\"renderers\":[{\"id\":\"1043\"}]},\"id\":\"1066\",\"type\":\"LegendItem\"},{\"attributes\":{},\"id\":\"1022\",\"type\":\"BasicTicker\"},{\"attributes\":{\"line_alpha\":0.1,\"line_color\":\"#1f77b4\",\"line_width\":2,\"x\":{\"field\":\"__x__values\"},\"y\":{\"field\":\"total_cases\"}},\"id\":\"1042\",\"type\":\"Line\"},{\"attributes\":{\"data\":{\"__x__values\":{\"__ndarray__\":\"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\",\"dtype\":\"float64\",\"order\":\"little\",\"shape\":[486]},\"__x__values_original\":{\"__ndarray__\":\"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\",\"dtype\":\"float64\",\"order\":\"little\",\"shape\":[486]},\"total_cases\":[39,54,60,75,89,114,173,197,227,278,312,312,394,423,455,495,553,574,596,623,628,643,671,685,707,726,747,780,822,864,864,879,884,884,909,918,922,939,949,967,975,980,994,998,1009,1013,1018,1022,1025,1026,1030,1032,1032,1032,1032,1032,1032,1035,1037,1037,1043,1044,1045,1046,1048,1048,1051,1051,1051,1051,1068,1071,1076,1077,1084,1086,1087,1087,1087,1087,1087,1087,1087,1087,1087,1093,1094,1096,1110,1125,1128,1132,1146,1156,1157,1159,1159,1160,1162,1164,1168,1169,1172,1174,1175,1178,1181,1186,1188,1199,1205,1221,1231,1240,1245,1263,1302,1306,1319,1327,1336,1348,1374,1381,1389,1394,1406,1425,1443,1452,1455,1468,1488,1514,1535,1552,1561,1565,1584,1601,1642,1656,1678,1697,1717,1738,1780,1847,1903,2023,2107,2185,2314,2427,2543,2607,2738,2818,2893,3069,3206,3323,3461,3572,3685,3803,3963,4196,4394,4542,4776,5041,5124,5417,5417,5882,6259,6635,6635,7382,7623,8100,8570,8570,9110,10732,11260,11260,12479,13305,14392,14392,16114,16114,17405,18413,18413,19721,20944,22230,22230,22230,24542,26899,26899,31259,32556,32556,32556,34790,34790,34790,40542,40542,42727,44450,45892,45892,47214,48799,48799,52399,52399,54278,54278,58029,59813,61115,61906,63126,64363,66334,66334,69543,71119,71569,72993,74522,76106,77668,79339,80404,81003,81723,83772,83772,86265,87471,88711,89196,90213,91307,92475,93770,94980,96251,96769,96769,99280,99280,101900,102991,104002,104329,105445,106856,107814,109104,110393,111361,111361,113241,114547,115966,117582,119151,120687,121718,123323,125000,126752,128578,130230,131592,133204,134802,137216,139140,140557,141979,143544,144796,147061,149881,152254,154903,157514,159276,162350,164936,168568,170895,175065,177231,180090,181885,184483,188373,190884,193273,195314,197373,198636,200662,202323,204351,206030,207468,208885,210045,211412,212679,213949,215112,216176,217086,217753,218564,219650,220478,221455,222504,223244,223549,224329,225116,226015,226740,227643,228362,228937,229781,230443,231298,231964,232615,233277,233669,234231,235008,235643,236356,237028,237704,238017,238613,239368,239977,240617,241257,241834,242124,242673,243439,243935,244776,245405,245706,245923,246507,247254,248037,248782,249703,250565,251169,252171,254018,255308,256931,258335,260044,261177,263043,264994,266827,268837,270297,271861,272940,274604,276727,279376,281777,283976,285490,287061,289230,291833,294138,296343,298572,300342,301627,303584,305313,307215,309119,310734,311743,312747,314152,315600,317010,318236,319512,320813,321837,322998,324103,324823,325280,325832,326572,327473,328528,329925,331674,332833,334099,335345,336414,337529,338853,340250,341952,343374,344688,345474,346986,348911,350487,352303,353782,355732,356750,358183,360285,362658,364819,367047,368908,370224,372221,374312,376691,378982,381175,382950,385428,387773,391411,395362,398829,403493,407017,408931,414182,420103,426879,432761,438945,443631,447161,455091,464914,473229,481735,491021,497613,501923,510396,518609,526487,533274,540798],\"total_deaths\":{\"__ndarray__\":\"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\",\"dtype\":\"float64\",\"order\":\"little\",\"shape\":[486]}},\"selected\":{\"id\":\"1095\"},\"selection_policy\":{\"id\":\"1096\"}},\"id\":\"1069\",\"type\":\"ColumnDataSource\"},{\"attributes\":{},\"id\":\"1096\",\"type\":\"UnionRenderers\"},{\"attributes\":{\"text\":\"Spread of COVID-19 Tunisia in real-time \"},\"id\":\"1007\",\"type\":\"Title\"},{\"attributes\":{\"line_color\":\"#1f77b4\",\"line_width\":2,\"x\":{\"field\":\"__x__values\"},\"y\":{\"field\":\"total_cases\"}},\"id\":\"1041\",\"type\":\"Line\"},{\"attributes\":{\"line_alpha\":0.1,\"line_color\":\"#ff7f0e\",\"line_width\":2,\"x\":{\"field\":\"__x__values\"},\"y\":{\"field\":\"total_deaths\"}},\"id\":\"1072\",\"type\":\"Line\"},{\"attributes\":{\"source\":{\"id\":\"1069\"}},\"id\":\"1074\",\"type\":\"CDSView\"},{\"attributes\":{},\"id\":\"1063\",\"type\":\"Selection\"},{\"attributes\":{},\"id\":\"1013\",\"type\":\"LinearScale\"},{\"attributes\":{\"overlay\":{\"id\":\"1031\"}},\"id\":\"1027\",\"type\":\"BoxZoomTool\"},{\"attributes\":{},\"id\":\"1064\",\"type\":\"UnionRenderers\"},{\"attributes\":{\"days\":[1,8,15,22]},\"id\":\"1056\",\"type\":\"DaysTicker\"},{\"attributes\":{\"source\":{\"id\":\"1039\"}},\"id\":\"1044\",\"type\":\"CDSView\"},{\"attributes\":{\"base\":24,\"mantissas\":[1,2,4,6,8,12],\"max_interval\":43200000.0,\"min_interval\":3600000.0,\"num_minor_ticks\":0},\"id\":\"1053\",\"type\":\"AdaptiveTicker\"},{\"attributes\":{\"active_drag\":\"auto\",\"active_inspect\":\"auto\",\"active_multi\":null,\"active_scroll\":{\"id\":\"1026\"},\"active_tap\":\"auto\",\"tools\":[{\"id\":\"1025\"},{\"id\":\"1026\"},{\"id\":\"1027\"},{\"id\":\"1028\"},{\"id\":\"1029\"},{\"id\":\"1030\"},{\"id\":\"1067\"},{\"id\":\"1098\"}]},\"id\":\"1032\",\"type\":\"Toolbar\"},{\"attributes\":{},\"id\":\"1009\",\"type\":\"DataRange1d\"},{\"attributes\":{\"data_source\":{\"id\":\"1039\"},\"glyph\":{\"id\":\"1041\"},\"hover_glyph\":null,\"muted_glyph\":null,\"nonselection_glyph\":{\"id\":\"1042\"},\"selection_glyph\":null,\"view\":{\"id\":\"1044\"}},\"id\":\"1043\",\"type\":\"GlyphRenderer\"},{\"attributes\":{\"axis_label\":\"Date\",\"formatter\":{\"id\":\"1100\"},\"ticker\":{\"id\":\"1018\"}},\"id\":\"1017\",\"type\":\"DatetimeAxis\"},{\"attributes\":{\"days\":[\"%d %B %Y\"],\"hours\":[\"%H:%M:%S\"],\"milliseconds\":[\"%H:%M:%S.%f\"],\"minutes\":[\"%H:%M:%S\"],\"months\":[\"%d %B %Y\"],\"seconds\":[\"%H:%M:%S\"],\"years\":[\"%d %B %Y\"]},\"id\":\"1100\",\"type\":\"DatetimeTickFormatter\"},{\"attributes\":{\"label\":{\"value\":\" total_deaths\"},\"renderers\":[{\"id\":\"1073\"}]},\"id\":\"1097\",\"type\":\"LegendItem\"},{\"attributes\":{},\"id\":\"1011\",\"type\":\"DataRange1d\"},{\"attributes\":{\"num_minor_ticks\":5,\"tickers\":[{\"id\":\"1051\"},{\"id\":\"1052\"},{\"id\":\"1053\"},{\"id\":\"1054\"},{\"id\":\"1055\"},{\"id\":\"1056\"},{\"id\":\"1057\"},{\"id\":\"1058\"},{\"id\":\"1059\"},{\"id\":\"1060\"},{\"id\":\"1061\"},{\"id\":\"1062\"}]},\"id\":\"1018\",\"type\":\"DatetimeTicker\"},{\"attributes\":{},\"id\":\"1026\",\"type\":\"WheelZoomTool\"},{\"attributes\":{},\"id\":\"1095\",\"type\":\"Selection\"},{\"attributes\":{},\"id\":\"1025\",\"type\":\"PanTool\"},{\"attributes\":{},\"id\":\"1046\",\"type\":\"BasicTickFormatter\"},{\"attributes\":{},\"id\":\"1028\",\"type\":\"SaveTool\"},{\"attributes\":{\"axis_label\":\"Estimation for the  number of total_cases and total_deaths \",\"formatter\":{\"id\":\"1046\"},\"ticker\":{\"id\":\"1022\"}},\"id\":\"1021\",\"type\":\"LinearAxis\"},{\"attributes\":{},\"id\":\"1030\",\"type\":\"HelpTool\"},{\"attributes\":{\"bottom_units\":\"screen\",\"fill_alpha\":0.5,\"fill_color\":\"lightgrey\",\"left_units\":\"screen\",\"level\":\"overlay\",\"line_alpha\":1.0,\"line_color\":\"black\",\"line_dash\":[4,4],\"line_width\":2,\"right_units\":\"screen\",\"top_units\":\"screen\"},\"id\":\"1031\",\"type\":\"BoxAnnotation\"},{\"attributes\":{},\"id\":\"1029\",\"type\":\"ResetTool\"},{\"attributes\":{\"days\":[1,4,7,10,13,16,19,22,25,28]},\"id\":\"1055\",\"type\":\"DaysTicker\"},{\"attributes\":{\"data\":{\"__x__values\":{\"__ndarray__\":\"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\",\"dtype\":\"float64\",\"order\":\"little\",\"shape\":[486]},\"__x__values_original\":{\"__ndarray__\":\"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\",\"dtype\":\"float64\",\"order\":\"little\",\"shape\":[486]},\"total_cases\":[39,54,60,75,89,114,173,197,227,278,312,312,394,423,455,495,553,574,596,623,628,643,671,685,707,726,747,780,822,864,864,879,884,884,909,918,922,939,949,967,975,980,994,998,1009,1013,1018,1022,1025,1026,1030,1032,1032,1032,1032,1032,1032,1035,1037,1037,1043,1044,1045,1046,1048,1048,1051,1051,1051,1051,1068,1071,1076,1077,1084,1086,1087,1087,1087,1087,1087,1087,1087,1087,1087,1093,1094,1096,1110,1125,1128,1132,1146,1156,1157,1159,1159,1160,1162,1164,1168,1169,1172,1174,1175,1178,1181,1186,1188,1199,1205,1221,1231,1240,1245,1263,1302,1306,1319,1327,1336,1348,1374,1381,1389,1394,1406,1425,1443,1452,1455,1468,1488,1514,1535,1552,1561,1565,1584,1601,1642,1656,1678,1697,1717,1738,1780,1847,1903,2023,2107,2185,2314,2427,2543,2607,2738,2818,2893,3069,3206,3323,3461,3572,3685,3803,3963,4196,4394,4542,4776,5041,5124,5417,5417,5882,6259,6635,6635,7382,7623,8100,8570,8570,9110,10732,11260,11260,12479,13305,14392,14392,16114,16114,17405,18413,18413,19721,20944,22230,22230,22230,24542,26899,26899,31259,32556,32556,32556,34790,34790,34790,40542,40542,42727,44450,45892,45892,47214,48799,48799,52399,52399,54278,54278,58029,59813,61115,61906,63126,64363,66334,66334,69543,71119,71569,72993,74522,76106,77668,79339,80404,81003,81723,83772,83772,86265,87471,88711,89196,90213,91307,92475,93770,94980,96251,96769,96769,99280,99280,101900,102991,104002,104329,105445,106856,107814,109104,110393,111361,111361,113241,114547,115966,117582,119151,120687,121718,123323,125000,126752,128578,130230,131592,133204,134802,137216,139140,140557,141979,143544,144796,147061,149881,152254,154903,157514,159276,162350,164936,168568,170895,175065,177231,180090,181885,184483,188373,190884,193273,195314,197373,198636,200662,202323,204351,206030,207468,208885,210045,211412,212679,213949,215112,216176,217086,217753,218564,219650,220478,221455,222504,223244,223549,224329,225116,226015,226740,227643,228362,228937,229781,230443,231298,231964,232615,233277,233669,234231,235008,235643,236356,237028,237704,238017,238613,239368,239977,240617,241257,241834,242124,242673,243439,243935,244776,245405,245706,245923,246507,247254,248037,248782,249703,250565,251169,252171,254018,255308,256931,258335,260044,261177,263043,264994,266827,268837,270297,271861,272940,274604,276727,279376,281777,283976,285490,287061,289230,291833,294138,296343,298572,300342,301627,303584,305313,307215,309119,310734,311743,312747,314152,315600,317010,318236,319512,320813,321837,322998,324103,324823,325280,325832,326572,327473,328528,329925,331674,332833,334099,335345,336414,337529,338853,340250,341952,343374,344688,345474,346986,348911,350487,352303,353782,355732,356750,358183,360285,362658,364819,367047,368908,370224,372221,374312,376691,378982,381175,382950,385428,387773,391411,395362,398829,403493,407017,408931,414182,420103,426879,432761,438945,443631,447161,455091,464914,473229,481735,491021,497613,501923,510396,518609,526487,533274,540798],\"total_deaths\":{\"__ndarray__\":\"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\",\"dtype\":\"float64\",\"order\":\"little\",\"shape\":[486]}},\"selected\":{\"id\":\"1063\"},\"selection_policy\":{\"id\":\"1064\"}},\"id\":\"1039\",\"type\":\"ColumnDataSource\"},{\"attributes\":{\"months\":[0,1,2,3,4,5,6,7,8,9,10,11]},\"id\":\"1058\",\"type\":\"MonthsTicker\"},{\"attributes\":{\"months\":[0,4,8]},\"id\":\"1060\",\"type\":\"MonthsTicker\"},{\"attributes\":{\"axis\":{\"id\":\"1021\"},\"dimension\":1,\"ticker\":null},\"id\":\"1024\",\"type\":\"Grid\"},{\"attributes\":{\"click_policy\":\"hide\",\"items\":[{\"id\":\"1066\"},{\"id\":\"1097\"}]},\"id\":\"1065\",\"type\":\"Legend\"},{\"attributes\":{\"mantissas\":[1,2,5],\"max_interval\":500.0,\"num_minor_ticks\":0},\"id\":\"1051\",\"type\":\"AdaptiveTicker\"},{\"attributes\":{\"days\":[1,15]},\"id\":\"1057\",\"type\":\"DaysTicker\"},{\"attributes\":{\"base\":60,\"mantissas\":[1,2,5,10,15,20,30],\"max_interval\":1800000.0,\"min_interval\":1000.0,\"num_minor_ticks\":0},\"id\":\"1052\",\"type\":\"AdaptiveTicker\"},{\"attributes\":{\"days\":[1,2,3,4,5,6,7,8,9,10,11,12,13,14,15,16,17,18,19,20,21,22,23,24,25,26,27,28,29,30,31]},\"id\":\"1054\",\"type\":\"DaysTicker\"}],\"root_ids\":[\"1006\"]},\"title\":\"Bokeh Application\",\"version\":\"2.2.3\"}};\n",
       "  var render_items = [{\"docid\":\"ab16825d-8a96-446a-a18f-1e0970c3f628\",\"root_ids\":[\"1006\"],\"roots\":{\"1006\":\"8cb68f57-5e55-4287-8ed8-aad82e447561\"}}];\n",
       "  root.Bokeh.embed.embed_items_notebook(docs_json, render_items);\n",
       "\n",
       "  }\n",
       "  if (root.Bokeh !== undefined) {\n",
       "    embed_document(root);\n",
       "  } else {\n",
       "    var attempts = 0;\n",
       "    var timer = setInterval(function(root) {\n",
       "      if (root.Bokeh !== undefined) {\n",
       "        clearInterval(timer);\n",
       "        embed_document(root);\n",
       "      } else {\n",
       "        attempts++;\n",
       "        if (attempts > 100) {\n",
       "          clearInterval(timer);\n",
       "          console.log(\"Bokeh: ERROR: Unable to run BokehJS code because BokehJS library is missing\");\n",
       "        }\n",
       "      }\n",
       "    }, 10, root)\n",
       "  }\n",
       "})(window);"
      ],
      "application/vnd.bokehjs_exec.v0+json": ""
     },
     "metadata": {
      "application/vnd.bokehjs_exec.v0+json": {
       "id": "1006"
      }
     },
     "output_type": "display_data"
    },
    {
     "data": {
      "text/html": [
       "<div style=\"display: table;\"><div style=\"display: table-row;\"><div style=\"display: table-cell;\"><b title=\"bokeh.plotting.figure.Figure\">Figure</b>(</div><div style=\"display: table-cell;\">id&nbsp;=&nbsp;'1006', <span id=\"1229\" style=\"cursor: pointer;\">&hellip;)</span></div></div><div class=\"1228\" style=\"display: none;\"><div style=\"display: table-cell;\"></div><div style=\"display: table-cell;\">above&nbsp;=&nbsp;[],</div></div><div class=\"1228\" style=\"display: none;\"><div style=\"display: table-cell;\"></div><div style=\"display: table-cell;\">align&nbsp;=&nbsp;'start',</div></div><div class=\"1228\" style=\"display: none;\"><div style=\"display: table-cell;\"></div><div style=\"display: table-cell;\">aspect_ratio&nbsp;=&nbsp;None,</div></div><div class=\"1228\" style=\"display: none;\"><div style=\"display: table-cell;\"></div><div style=\"display: table-cell;\">aspect_scale&nbsp;=&nbsp;1,</div></div><div class=\"1228\" style=\"display: none;\"><div style=\"display: table-cell;\"></div><div style=\"display: table-cell;\">background&nbsp;=&nbsp;None,</div></div><div class=\"1228\" style=\"display: none;\"><div style=\"display: table-cell;\"></div><div style=\"display: table-cell;\">background_fill_alpha&nbsp;=&nbsp;1.0,</div></div><div class=\"1228\" style=\"display: none;\"><div style=\"display: table-cell;\"></div><div style=\"display: table-cell;\">background_fill_color&nbsp;=&nbsp;'#ffffff',</div></div><div class=\"1228\" style=\"display: none;\"><div style=\"display: table-cell;\"></div><div style=\"display: table-cell;\">below&nbsp;=&nbsp;[DatetimeAxis(id='1017', ...)],</div></div><div class=\"1228\" style=\"display: none;\"><div style=\"display: table-cell;\"></div><div style=\"display: table-cell;\">border_fill_alpha&nbsp;=&nbsp;1.0,</div></div><div class=\"1228\" style=\"display: none;\"><div style=\"display: table-cell;\"></div><div style=\"display: table-cell;\">border_fill_color&nbsp;=&nbsp;'#ffffff',</div></div><div class=\"1228\" style=\"display: none;\"><div style=\"display: table-cell;\"></div><div style=\"display: table-cell;\">center&nbsp;=&nbsp;[Grid(id='1020', ...), Grid(id='1024', ...), Legend(id='1065', ...)],</div></div><div class=\"1228\" style=\"display: none;\"><div style=\"display: table-cell;\"></div><div style=\"display: table-cell;\">css_classes&nbsp;=&nbsp;[],</div></div><div class=\"1228\" style=\"display: none;\"><div style=\"display: table-cell;\"></div><div style=\"display: table-cell;\">disabled&nbsp;=&nbsp;False,</div></div><div class=\"1228\" style=\"display: none;\"><div style=\"display: table-cell;\"></div><div style=\"display: table-cell;\">extra_x_ranges&nbsp;=&nbsp;{},</div></div><div class=\"1228\" style=\"display: none;\"><div style=\"display: table-cell;\"></div><div style=\"display: table-cell;\">extra_y_ranges&nbsp;=&nbsp;{},</div></div><div class=\"1228\" style=\"display: none;\"><div style=\"display: table-cell;\"></div><div style=\"display: table-cell;\">frame_height&nbsp;=&nbsp;None,</div></div><div class=\"1228\" style=\"display: none;\"><div style=\"display: table-cell;\"></div><div style=\"display: table-cell;\">frame_width&nbsp;=&nbsp;None,</div></div><div class=\"1228\" style=\"display: none;\"><div style=\"display: table-cell;\"></div><div style=\"display: table-cell;\">height&nbsp;=&nbsp;None,</div></div><div class=\"1228\" style=\"display: none;\"><div style=\"display: table-cell;\"></div><div style=\"display: table-cell;\">height_policy&nbsp;=&nbsp;'auto',</div></div><div class=\"1228\" style=\"display: none;\"><div style=\"display: table-cell;\"></div><div style=\"display: table-cell;\">hidpi&nbsp;=&nbsp;True,</div></div><div class=\"1228\" style=\"display: none;\"><div style=\"display: table-cell;\"></div><div style=\"display: table-cell;\">js_event_callbacks&nbsp;=&nbsp;{},</div></div><div class=\"1228\" style=\"display: none;\"><div style=\"display: table-cell;\"></div><div style=\"display: table-cell;\">js_property_callbacks&nbsp;=&nbsp;{},</div></div><div class=\"1228\" style=\"display: none;\"><div style=\"display: table-cell;\"></div><div style=\"display: table-cell;\">left&nbsp;=&nbsp;[LinearAxis(id='1021', ...)],</div></div><div class=\"1228\" style=\"display: none;\"><div style=\"display: table-cell;\"></div><div style=\"display: table-cell;\">lod_factor&nbsp;=&nbsp;10,</div></div><div class=\"1228\" style=\"display: none;\"><div style=\"display: table-cell;\"></div><div style=\"display: table-cell;\">lod_interval&nbsp;=&nbsp;300,</div></div><div class=\"1228\" style=\"display: none;\"><div style=\"display: table-cell;\"></div><div style=\"display: table-cell;\">lod_threshold&nbsp;=&nbsp;2000,</div></div><div class=\"1228\" style=\"display: none;\"><div style=\"display: table-cell;\"></div><div style=\"display: table-cell;\">lod_timeout&nbsp;=&nbsp;500,</div></div><div class=\"1228\" style=\"display: none;\"><div style=\"display: table-cell;\"></div><div style=\"display: table-cell;\">margin&nbsp;=&nbsp;(0, 0, 0, 0),</div></div><div class=\"1228\" style=\"display: none;\"><div style=\"display: table-cell;\"></div><div style=\"display: table-cell;\">match_aspect&nbsp;=&nbsp;False,</div></div><div class=\"1228\" style=\"display: none;\"><div style=\"display: table-cell;\"></div><div style=\"display: table-cell;\">max_height&nbsp;=&nbsp;None,</div></div><div class=\"1228\" style=\"display: none;\"><div style=\"display: table-cell;\"></div><div style=\"display: table-cell;\">max_width&nbsp;=&nbsp;None,</div></div><div class=\"1228\" style=\"display: none;\"><div style=\"display: table-cell;\"></div><div style=\"display: table-cell;\">min_border&nbsp;=&nbsp;5,</div></div><div class=\"1228\" style=\"display: none;\"><div style=\"display: table-cell;\"></div><div style=\"display: table-cell;\">min_border_bottom&nbsp;=&nbsp;None,</div></div><div class=\"1228\" style=\"display: none;\"><div style=\"display: table-cell;\"></div><div style=\"display: table-cell;\">min_border_left&nbsp;=&nbsp;None,</div></div><div class=\"1228\" style=\"display: none;\"><div style=\"display: table-cell;\"></div><div style=\"display: table-cell;\">min_border_right&nbsp;=&nbsp;None,</div></div><div class=\"1228\" style=\"display: none;\"><div style=\"display: table-cell;\"></div><div style=\"display: table-cell;\">min_border_top&nbsp;=&nbsp;None,</div></div><div class=\"1228\" style=\"display: none;\"><div style=\"display: table-cell;\"></div><div style=\"display: table-cell;\">min_height&nbsp;=&nbsp;None,</div></div><div class=\"1228\" style=\"display: none;\"><div style=\"display: table-cell;\"></div><div style=\"display: table-cell;\">min_width&nbsp;=&nbsp;None,</div></div><div class=\"1228\" style=\"display: none;\"><div style=\"display: table-cell;\"></div><div style=\"display: table-cell;\">name&nbsp;=&nbsp;None,</div></div><div class=\"1228\" style=\"display: none;\"><div style=\"display: table-cell;\"></div><div style=\"display: table-cell;\">outline_line_alpha&nbsp;=&nbsp;1.0,</div></div><div class=\"1228\" style=\"display: none;\"><div style=\"display: table-cell;\"></div><div style=\"display: table-cell;\">outline_line_cap&nbsp;=&nbsp;'butt',</div></div><div class=\"1228\" style=\"display: none;\"><div style=\"display: table-cell;\"></div><div style=\"display: table-cell;\">outline_line_color&nbsp;=&nbsp;'#e5e5e5',</div></div><div class=\"1228\" style=\"display: none;\"><div style=\"display: table-cell;\"></div><div style=\"display: table-cell;\">outline_line_dash&nbsp;=&nbsp;[],</div></div><div class=\"1228\" style=\"display: none;\"><div style=\"display: table-cell;\"></div><div style=\"display: table-cell;\">outline_line_dash_offset&nbsp;=&nbsp;0,</div></div><div class=\"1228\" style=\"display: none;\"><div style=\"display: table-cell;\"></div><div style=\"display: table-cell;\">outline_line_join&nbsp;=&nbsp;'bevel',</div></div><div class=\"1228\" style=\"display: none;\"><div style=\"display: table-cell;\"></div><div style=\"display: table-cell;\">outline_line_width&nbsp;=&nbsp;1,</div></div><div class=\"1228\" style=\"display: none;\"><div style=\"display: table-cell;\"></div><div style=\"display: table-cell;\">output_backend&nbsp;=&nbsp;'webgl',</div></div><div class=\"1228\" style=\"display: none;\"><div style=\"display: table-cell;\"></div><div style=\"display: table-cell;\">plot_height&nbsp;=&nbsp;800,</div></div><div class=\"1228\" style=\"display: none;\"><div style=\"display: table-cell;\"></div><div style=\"display: table-cell;\">plot_width&nbsp;=&nbsp;1000,</div></div><div class=\"1228\" style=\"display: none;\"><div style=\"display: table-cell;\"></div><div style=\"display: table-cell;\">renderers&nbsp;=&nbsp;[GlyphRenderer(id='1043', ...), GlyphRenderer(id='1073', ...)],</div></div><div class=\"1228\" style=\"display: none;\"><div style=\"display: table-cell;\"></div><div style=\"display: table-cell;\">reset_policy&nbsp;=&nbsp;'standard',</div></div><div class=\"1228\" style=\"display: none;\"><div style=\"display: table-cell;\"></div><div style=\"display: table-cell;\">right&nbsp;=&nbsp;[],</div></div><div class=\"1228\" style=\"display: none;\"><div style=\"display: table-cell;\"></div><div style=\"display: table-cell;\">sizing_mode&nbsp;=&nbsp;'fixed',</div></div><div class=\"1228\" style=\"display: none;\"><div style=\"display: table-cell;\"></div><div style=\"display: table-cell;\">subscribed_events&nbsp;=&nbsp;[],</div></div><div class=\"1228\" style=\"display: none;\"><div style=\"display: table-cell;\"></div><div style=\"display: table-cell;\">tags&nbsp;=&nbsp;[],</div></div><div class=\"1228\" style=\"display: none;\"><div style=\"display: table-cell;\"></div><div style=\"display: table-cell;\">title&nbsp;=&nbsp;Title(id='1007', ...),</div></div><div class=\"1228\" style=\"display: none;\"><div style=\"display: table-cell;\"></div><div style=\"display: table-cell;\">title_location&nbsp;=&nbsp;'above',</div></div><div class=\"1228\" style=\"display: none;\"><div style=\"display: table-cell;\"></div><div style=\"display: table-cell;\">toolbar&nbsp;=&nbsp;Toolbar(id='1032', ...),</div></div><div class=\"1228\" style=\"display: none;\"><div style=\"display: table-cell;\"></div><div style=\"display: table-cell;\">toolbar_location&nbsp;=&nbsp;'right',</div></div><div class=\"1228\" style=\"display: none;\"><div style=\"display: table-cell;\"></div><div style=\"display: table-cell;\">toolbar_sticky&nbsp;=&nbsp;True,</div></div><div class=\"1228\" style=\"display: none;\"><div style=\"display: table-cell;\"></div><div style=\"display: table-cell;\">visible&nbsp;=&nbsp;True,</div></div><div class=\"1228\" style=\"display: none;\"><div style=\"display: table-cell;\"></div><div style=\"display: table-cell;\">width&nbsp;=&nbsp;None,</div></div><div class=\"1228\" style=\"display: none;\"><div style=\"display: table-cell;\"></div><div style=\"display: table-cell;\">width_policy&nbsp;=&nbsp;'auto',</div></div><div class=\"1228\" style=\"display: none;\"><div style=\"display: table-cell;\"></div><div style=\"display: table-cell;\">x_range&nbsp;=&nbsp;DataRange1d(id='1009', ...),</div></div><div class=\"1228\" style=\"display: none;\"><div style=\"display: table-cell;\"></div><div style=\"display: table-cell;\">x_scale&nbsp;=&nbsp;LinearScale(id='1013', ...),</div></div><div class=\"1228\" style=\"display: none;\"><div style=\"display: table-cell;\"></div><div style=\"display: table-cell;\">y_range&nbsp;=&nbsp;DataRange1d(id='1011', ...),</div></div><div class=\"1228\" style=\"display: none;\"><div style=\"display: table-cell;\"></div><div style=\"display: table-cell;\">y_scale&nbsp;=&nbsp;LinearScale(id='1015', ...))</div></div></div>\n",
       "<script>\n",
       "(function() {\n",
       "  var expanded = false;\n",
       "  var ellipsis = document.getElementById(\"1229\");\n",
       "  ellipsis.addEventListener(\"click\", function() {\n",
       "    var rows = document.getElementsByClassName(\"1228\");\n",
       "    for (var i = 0; i < rows.length; i++) {\n",
       "      var el = rows[i];\n",
       "      el.style.display = expanded ? \"none\" : \"table-row\";\n",
       "    }\n",
       "    ellipsis.innerHTML = expanded ? \"&hellip;)\" : \"&lsaquo;&lsaquo;&lsaquo;\";\n",
       "    expanded = !expanded;\n",
       "  });\n",
       "})();\n",
       "</script>\n"
      ],
      "text/plain": [
       "Figure(id='1006', ...)"
      ]
     },
     "execution_count": 19,
     "metadata": {},
     "output_type": "execute_result"
    }
   ],
   "source": [
    "df_.plot_bokeh(kind=\"line\",title ='Spread of COVID-19 '+str(string)+' in real-time ',\n",
    "                   figsize =(1000,800),\n",
    "                   xlabel = \"Date\",ylabel=\"Estimation for the  number of total_cases and total_deaths \"\n",
    "                   )"
   ]
  },
  {
   "cell_type": "code",
   "execution_count": 20,
   "metadata": {},
   "outputs": [],
   "source": [
    "%%capture\n",
    "df_.plot_bokeh(kind=\"bar\",title ='Spread of COVID-19 '+str(string)+' in real-time',figsize =(1000,800),xlabel = \"Date\",ylabel=\"Estimation for the  number of total_cases and total_deaths \")"
   ]
  },
  {
   "cell_type": "code",
   "execution_count": 21,
   "metadata": {},
   "outputs": [
    {
     "data": {
      "text/html": [
       "\n",
       "\n",
       "\n",
       "\n",
       "\n",
       "\n",
       "  <div class=\"bk-root\" id=\"b21db54c-d867-4044-9eda-b39ff465e1cf\" data-root-id=\"1397\"></div>\n"
      ]
     },
     "metadata": {},
     "output_type": "display_data"
    },
    {
     "data": {
      "application/javascript": [
       "(function(root) {\n",
       "  function embed_document(root) {\n",
       "    \n",
       "  var docs_json = {\"368b282f-7fdc-4714-b3f2-6a69a96a08d8\":{\"roots\":{\"references\":[{\"attributes\":{\"below\":[{\"id\":\"1408\"}],\"center\":[{\"id\":\"1411\"},{\"id\":\"1415\"},{\"id\":\"1456\"}],\"left\":[{\"id\":\"1412\"}],\"output_backend\":\"webgl\",\"plot_height\":800,\"plot_width\":1000,\"renderers\":[{\"id\":\"1434\"},{\"id\":\"1464\"}],\"sizing_mode\":\"fixed\",\"title\":{\"id\":\"1398\"},\"toolbar\":{\"id\":\"1423\"},\"x_range\":{\"id\":\"1400\"},\"x_scale\":{\"id\":\"1404\"},\"y_range\":{\"id\":\"1402\"},\"y_scale\":{\"id\":\"1406\"}},\"id\":\"1397\",\"subtype\":\"Figure\",\"type\":\"Plot\"},{\"attributes\":{\"line_color\":\"#1f77b4\",\"line_width\":2,\"x\":{\"field\":\"__x__values\"},\"y\":{\"field\":\"new_cases\"}},\"id\":\"1432\",\"type\":\"Line\"},{\"attributes\":{\"label\":{\"value\":\" new_cases\"},\"renderers\":[{\"id\":\"1434\"}]},\"id\":\"1457\",\"type\":\"LegendItem\"},{\"attributes\":{},\"id\":\"1453\",\"type\":\"YearsTicker\"},{\"attributes\":{\"line_alpha\":0.1,\"line_color\":\"#1f77b4\",\"line_width\":2,\"x\":{\"field\":\"__x__values\"},\"y\":{\"field\":\"new_cases\"}},\"id\":\"1433\",\"type\":\"Line\"},{\"attributes\":{},\"id\":\"1420\",\"type\":\"ResetTool\"},{\"attributes\":{},\"id\":\"1455\",\"type\":\"UnionRenderers\"},{\"attributes\":{\"axis_label\":\"Date\",\"formatter\":{\"id\":\"1491\"},\"ticker\":{\"id\":\"1409\"}},\"id\":\"1408\",\"type\":\"DatetimeAxis\"},{\"attributes\":{\"source\":{\"id\":\"1430\"}},\"id\":\"1435\",\"type\":\"CDSView\"},{\"attributes\":{\"axis\":{\"id\":\"1412\"},\"dimension\":1,\"ticker\":null},\"id\":\"1415\",\"type\":\"Grid\"},{\"attributes\":{\"callback\":null,\"formatters\":{\"@__x__values_original\":\"datetime\"},\"mode\":\"vline\",\"renderers\":[{\"id\":\"1464\"}],\"tooltips\":[[\"Date\",\"@__x__values_original{%F}\"],[\"new_deaths\",\"@{new_deaths}\"]]},\"id\":\"1489\",\"type\":\"HoverTool\"},{\"attributes\":{\"data\":{\"__x__values\":{\"__ndarray__\":\"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\",\"dtype\":\"float64\",\"order\":\"little\",\"shape\":[486]},\"__x__values_original\":{\"__ndarray__\":\"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\",\"dtype\":\"float64\",\"order\":\"little\",\"shape\":[486]},\"new_cases\":[10,15,6,15,14,25,59,24,30,51,34,0,82,29,32,40,58,21,22,27,5,15,28,14,22,19,21,33,42,42,0,15,5,0,25,9,4,17,10,18,8,5,14,4,11,4,5,4,3,1,4,2,0,0,0,0,0,3,2,0,6,1,1,1,2,0,3,0,0,0,17,3,5,1,7,2,1,0,0,0,0,0,0,0,0,6,1,2,14,15,3,4,14,10,1,2,0,1,2,2,4,1,3,2,1,3,3,5,2,11,6,16,10,9,5,18,39,4,13,8,9,12,26,7,8,5,12,19,18,9,3,13,20,26,21,17,9,4,19,17,41,14,22,19,20,21,42,67,56,120,84,78,129,113,116,64,131,80,75,176,137,117,138,111,113,118,160,233,198,148,234,265,83,293,0,465,377,376,0,747,241,477,470,0,540,1622,528,0,1219,826,1087,0,1722,0,1291,1008,0,1308,1223,1286,0,0,2312,2357,0,4360,1297,0,0,2234,0,0,5752,0,2185,1723,1442,0,1322,1585,0,3600,0,1879,0,3751,1784,1302,791,1220,1237,1971,0,3209,1576,450,1424,1529,1584,1562,1671,1065,599,720,2049,0,2493,1206,1240,485,1017,1094,1168,1295,1210,1271,518,0,2511,0,2620,1091,1011,327,1116,1411,958,1290,1289,968,0,1880,1306,1419,1616,1569,1536,1031,1605,1677,1752,1826,1652,1362,1612,1598,2414,1924,1417,1422,1565,1252,2265,2820,2373,2649,2611,1762,3074,2586,3632,2327,4170,2166,2859,1795,2598,3890,2511,2389,2041,2059,1263,2026,1661,2028,1679,1438,1417,1160,1367,1267,1270,1163,1064,910,667,811,1086,828,977,1049,740,305,780,787,899,725,903,719,575,844,662,855,666,651,662,392,562,777,635,713,672,676,313,596,755,609,640,640,577,290,549,766,496,841,629,301,217,584,747,783,745,921,862,604,1002,1847,1290,1623,1404,1709,1133,1866,1951,1833,2010,1460,1564,1079,1664,2123,2649,2401,2199,1514,1571,2169,2603,2305,2205,2229,1770,1285,1957,1729,1902,1904,1615,1009,1004,1405,1448,1410,1226,1276,1301,1024,1161,1105,720,457,552,740,901,1055,1397,1749,1159,1266,1246,1069,1115,1324,1397,1702,1422,1314,786,1512,1925,1576,1816,1479,1950,1018,1433,2102,2373,2161,2228,1861,1316,1997,2091,2379,2291,2193,1775,2478,2345,3638,3951,3467,4664,3524,1914,5251,5921,6776,5882,6184,4686,3530,7930,9823,8315,8506,9286,6592,4310,8473,8213,7878,6787,7524],\"new_deaths\":{\"__ndarray__\":\"AAAAAAAA8D8AAAAAAAAAAAAAAAAAAAAAAAAAAAAAAEAAAAAAAAAAAAAAAAAAAPA/AAAAAAAA8D8AAAAAAADwPwAAAAAAAAAAAAAAAAAAAEAAAAAAAAAAAAAAAAAAAAAAAAAAAAAAAEAAAAAAAAAAQAAAAAAAAABAAAAAAAAAEEAAAAAAAAAAAAAAAAAAABBAAAAAAAAAAAAAAAAAAADwPwAAAAAAAPA/AAAAAAAA8D8AAAAAAAAAAAAAAAAAAAhAAAAAAAAACEAAAAAAAAAIQAAAAAAAAAAAAAAAAAAA8D8AAAAAAAAAQAAAAAAAAAAAAAAAAAAAAAAAAAAAAADwPwAAAAAAAAAAAAAAAAAAAAAAAAAAAAAAAAAAAAAAAAAAAAAAAAAAAAAAAAAAAAAAAAAAAAAAAAAAAAAAAAAA8D8AAAAAAADwPwAAAAAAAAAAAAAAAAAA8D8AAAAAAAAAAAAAAAAAAPA/AAAAAAAAAAAAAAAAAADwPwAAAAAAAAAAAAAAAAAAAAAAAAAAAADwPwAAAAAAAPA/AAAAAAAAAAAAAAAAAAAAAAAAAAAAAAAAAAAAAAAAAAAAAAAAAAAAAAAAAAAAAAAAAAAAAAAAAAAAAAAAAAAAAAAAAAAAAAAAAAAAAAAA8D8AAAAAAADwPwAAAAAAAAAAAAAAAAAAAAAAAAAAAAAAAAAAAAAAAPA/AAAAAAAAAAAAAAAAAAAAAAAAAAAAAAAAAAAAAAAAAAAAAAAAAAAAAAAAAAAAAAAAAAAAAAAAAAAAAAAAAAAAAAAAAAAAAAAAAAAAAAAAAAAAAAAAAADwPwAAAAAAAAAAAAAAAAAAAAAAAAAAAAAAAAAAAAAAAAAAAAAAAAAAAAAAAAAAAAAAAAAAAAAAAAAAAAAAAAAAAAAAAAAAAAAAAAAAAAAAAAAAAAAAAAAAAAAAAAAAAAAAAAAAAAAAAAAAAAAAAAAA8D8AAAAAAAAAAAAAAAAAAAAAAAAAAAAAAAAAAAAAAAAAAAAAAAAAAAAAAAAAAAAAAAAAAAAAAAAAAAAAAAAAAAAAAAAAAAAAAAAAAAAAAAAAAAAAAAAAAAAAAAAAAAAAAAAAAAAAAAAAAAAAAAAAAAAAAAAAAAAAAAAAAAAAAAAAAAAAAAAAAAAAAAAAAAAAAAAAAAAAAAAAAAAAAAAAAAAAAAAAAAAAAAAAAAAAAAAAAAAAAAAAAAAAAAAAAAAAAAAAAAAAAAAAAAAAAAAAAAAAAAAAAAAAAAAAAAAAAAAAAAAAAAAAAAAAAAAAAAAAAAAAAAAAAAAAAAAAAAAAAAAAAAAAAAAAAAAAAAAAAAAAAAAAAAAAAAAAAAAAAAAAAAAAAAAAAAAAAAAAAAAAAAAAAAAAAAAAAAAAAAAAAAAAAAAAAAAAAAAAAAAAAAAAAAAAAAAAAAAAAAAAAAAAAAAAAAAAAAAA8D8AAAAAAAAAAAAAAAAAAAAAAAAAAAAAAAAAAAAAAAAAAAAAAAAAAAAAAAAAAAAAAAAAAAAAAAAAAAAAAAAAAAAAAAAAAAAAAAAAAAAAAADwPwAAAAAAAAAAAAAAAAAA8D8AAAAAAAAAAAAAAAAAAPA/AAAAAAAAAAAAAAAAAAAAQAAAAAAAAPA/AAAAAAAACEAAAAAAAAAIQAAAAAAAAPA/AAAAAAAAEEAAAAAAAAAIQAAAAAAAAAAAAAAAAAAAAAAAAAAAAAAAAAAAAAAAAABAAAAAAAAA8D8AAAAAAAAAQAAAAAAAAAAAAAAAAAAA8D8AAAAAAAAIQAAAAAAAAPA/AAAAAAAACEAAAAAAAAAIQAAAAAAAABhAAAAAAAAAAAAAAAAAAADwPwAAAAAAAABAAAAAAAAAAAAAAAAAAAAIQAAAAAAAABBAAAAAAAAAEEAAAAAAAAAAAAAAAAAAACRAAAAAAAAAGEAAAAAAAAAYQAAAAAAAABBAAAAAAAAAAAAAAAAAAAAUQAAAAAAAADVAAAAAAAAAFEAAAAAAAAAAAAAAAAAAACRAAAAAAAAAGEAAAAAAAAAmQAAAAAAAAAAAAAAAAAAAN0AAAAAAAAAAAAAAAAAAAEBAAAAAAAAAM0AAAAAAAAAAAAAAAAAAABhAAAAAAAAAFEAAAAAAAIBGQAAAAAAAAAAAAAAAAAAAAAAAAAAAAIBFQAAAAAAAgEZAAAAAAAAAAAAAAAAAAIBHQAAAAAAAADZAAAAAAAAAAAAAAAAAAAAAAAAAAAAAAEFAAAAAAAAAAAAAAAAAAAAAAAAAAAAAgFxAAAAAAAAAAAAAAAAAAIBOQAAAAAAAADhAAAAAAAAAPUAAAAAAAAAAAAAAAAAAAEZAAAAAAACAQUAAAAAAAAAAAAAAAAAAgGRAAAAAAAAAAAAAAAAAAEBlQAAAAAAAAAAAAAAAAAAAWUAAAAAAAABQQAAAAAAAAD9AAAAAAACAQEAAAAAAAIBZQAAAAAAAAD1AAAAAAABAUEAAAAAAAAAAAAAAAAAAIGtAAAAAAADAU0AAAAAAAIBHQAAAAAAAgFVAAAAAAACAV0AAAAAAAIBJQAAAAAAAAE1AAAAAAACAUUAAAAAAAIBQQAAAAAAAgElAAAAAAACASEAAAAAAAABYQAAAAAAAAAAAAAAAAADgYUAAAAAAAABRQAAAAAAAQFFAAAAAAACAREAAAAAAAEBSQAAAAAAAAEhAAAAAAACASUAAAAAAAABSQAAAAAAAgEdAAAAAAACAUEAAAAAAAIBEQAAAAAAAAAAAAAAAAADAWEAAAAAAAAAAAAAAAAAAgF5AAAAAAACARkAAAAAAAIBBQAAAAAAAgEFAAAAAAAAAUkAAAAAAAIBIQAAAAAAAgERAAAAAAACARUAAAAAAAIBBQAAAAAAAAE1AAAAAAAAAAAAAAAAAAABPQAAAAAAAgERAAAAAAACAQUAAAAAAAABNQAAAAAAAAEJAAAAAAAAAQEAAAAAAAIBEQAAAAAAAAENAAAAAAAAAQ0AAAAAAAIBIQAAAAAAAgE5AAAAAAACAREAAAAAAAABEQAAAAAAAAEpAAAAAAAAASkAAAAAAAABJQAAAAAAAAExAAAAAAAAAS0AAAAAAAIBBQAAAAAAAgEFAAAAAAAAAT0AAAAAAAABSQAAAAAAAgFFAAAAAAAAASEAAAAAAAABMQAAAAAAAgEZAAAAAAAAAT0AAAAAAAEBRQAAAAAAAgE1AAAAAAAAAUkAAAAAAAIBPQAAAAAAAAElAAAAAAAAAVkAAAAAAAABTQAAAAAAAAE1AAAAAAACAV0AAAAAAAEBTQAAAAAAAAFFAAAAAAADAWUAAAAAAAABPQAAAAAAAAFRAAAAAAACASkAAAAAAAMBUQAAAAAAAAFNAAAAAAAAAT0AAAAAAAMBWQAAAAAAAQFRAAAAAAACAUkAAAAAAAABIQAAAAAAAwFZAAAAAAADAVUAAAAAAAABRQAAAAAAAgElAAAAAAACAT0AAAAAAAABKQAAAAAAAgEVAAAAAAADAUkAAAAAAAABHQAAAAAAAgElAAAAAAAAAQEAAAAAAAIBHQAAAAAAAAEJAAAAAAAAAP0AAAAAAAABFQAAAAAAAAEFAAAAAAACAQEAAAAAAAIBBQAAAAAAAAEJAAAAAAAAAQ0AAAAAAAAAyQAAAAAAAAEBAAAAAAAAAOkAAAAAAAABFQAAAAAAAAD9AAAAAAAAAQEAAAAAAAAA7QAAAAAAAADVAAAAAAAAAOUAAAAAAAAA7QAAAAAAAAEBAAAAAAAAAOEAAAAAAAIBCQAAAAAAAAEFAAAAAAAAAOEAAAAAAAIBFQAAAAAAAADhAAAAAAAAANUAAAAAAAAAwQAAAAAAAAD5AAAAAAAAAPkAAAAAAAAAuQAAAAAAAADlAAAAAAAAAQUAAAAAAAAA7QAAAAAAAADBAAAAAAAAANEAAAAAAAAA0QAAAAAAAADdAAAAAAACAREAAAAAAAAA7QAAAAAAAADpAAAAAAAAANUAAAAAAAAA1QAAAAAAAAD5AAAAAAAAAOUAAAAAAAAA8QAAAAAAAADhAAAAAAAAAP0AAAAAAAIBHQAAAAAAAgERAAAAAAAAAQUAAAAAAAAA8QAAAAAAAAEdAAAAAAAAASEAAAAAAAIBIQAAAAAAAgEVAAAAAAAAATEAAAAAAAABNQAAAAAAAgENAAAAAAAAAUEAAAAAAAABVQAAAAAAAQFJAAAAAAACAVUAAAAAAAIBTQAAAAAAAgFBAAAAAAAAARUAAAAAAAEBXQAAAAAAAwFJAAAAAAACAUUAAAAAAAMBaQAAAAAAAgE5AAAAAAABAUkAAAAAAAABIQAAAAAAAAFdAAAAAAADAXUAAAAAAAIBTQAAAAAAAQFRAAAAAAACAVUAAAAAAAABOQAAAAAAAgEdAAAAAAABAWUAAAAAAAIBaQAAAAAAAgFVAAAAAAABAUUAAAAAAAEBSQAAAAAAAwFNAAAAAAACAQ0AAAAAAAABWQAAAAAAAQFRAAAAAAAAATEAAAAAAAABBQAAAAAAAAEpAAAAAAACAUUAAAAAAAABJQAAAAAAAAFJAAAAAAACATkAAAAAAAIBMQAAAAAAAAEpAAAAAAACAREAAAAAAAABLQAAAAAAAgEJAAAAAAABAUUAAAAAAAABMQAAAAAAAgEpAAAAAAAAAT0AAAAAAAIBOQAAAAAAAgEhAAAAAAAAAP0AAAAAAAIBQQAAAAAAAQFJAAAAAAAAAR0AAAAAAAIBPQAAAAAAAAEdAAAAAAAAAQEAAAAAAAIBHQAAAAAAAwFhAAAAAAADAWUAAAAAAAABTQAAAAAAAAE5AAAAAAADAUUAAAAAAAMBTQAAAAAAAAEpAAAAAAABAVkAAAAAAAEBQQAAAAAAAwFFAAAAAAACAVEAAAAAAAIBVQAAAAAAAgFNAAAAAAAAAVEAAAAAAAEBaQAAAAAAAwFdAAAAAAAAAVkAAAAAAAMBUQAAAAAAAgFZAAAAAAADAUkAAAAAAAMBUQAAAAAAAgFpAAAAAAAAAXUAAAAAAAIBaQAAAAAAAgFxAAAAAAACAVEAAAAAAAABdQAAAAAAAQFpAAAAAAADAXUAAAAAAAMBgQAAAAAAAgF9AAAAAAACgZ0AAAAAAAEBoQAAAAAAAAGJAAAAAAACAWkAAAAAAAKBjQAAAAAAAQGhAAAAAAACAZEAAAAAAAKBpQAAAAAAAgGFA\",\"dtype\":\"float64\",\"order\":\"little\",\"shape\":[486]}},\"selected\":{\"id\":\"1486\"},\"selection_policy\":{\"id\":\"1487\"}},\"id\":\"1460\",\"type\":\"ColumnDataSource\"},{\"attributes\":{\"data\":{\"__x__values\":{\"__ndarray__\":\"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\",\"dtype\":\"float64\",\"order\":\"little\",\"shape\":[486]},\"__x__values_original\":{\"__ndarray__\":\"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\",\"dtype\":\"float64\",\"order\":\"little\",\"shape\":[486]},\"new_cases\":[10,15,6,15,14,25,59,24,30,51,34,0,82,29,32,40,58,21,22,27,5,15,28,14,22,19,21,33,42,42,0,15,5,0,25,9,4,17,10,18,8,5,14,4,11,4,5,4,3,1,4,2,0,0,0,0,0,3,2,0,6,1,1,1,2,0,3,0,0,0,17,3,5,1,7,2,1,0,0,0,0,0,0,0,0,6,1,2,14,15,3,4,14,10,1,2,0,1,2,2,4,1,3,2,1,3,3,5,2,11,6,16,10,9,5,18,39,4,13,8,9,12,26,7,8,5,12,19,18,9,3,13,20,26,21,17,9,4,19,17,41,14,22,19,20,21,42,67,56,120,84,78,129,113,116,64,131,80,75,176,137,117,138,111,113,118,160,233,198,148,234,265,83,293,0,465,377,376,0,747,241,477,470,0,540,1622,528,0,1219,826,1087,0,1722,0,1291,1008,0,1308,1223,1286,0,0,2312,2357,0,4360,1297,0,0,2234,0,0,5752,0,2185,1723,1442,0,1322,1585,0,3600,0,1879,0,3751,1784,1302,791,1220,1237,1971,0,3209,1576,450,1424,1529,1584,1562,1671,1065,599,720,2049,0,2493,1206,1240,485,1017,1094,1168,1295,1210,1271,518,0,2511,0,2620,1091,1011,327,1116,1411,958,1290,1289,968,0,1880,1306,1419,1616,1569,1536,1031,1605,1677,1752,1826,1652,1362,1612,1598,2414,1924,1417,1422,1565,1252,2265,2820,2373,2649,2611,1762,3074,2586,3632,2327,4170,2166,2859,1795,2598,3890,2511,2389,2041,2059,1263,2026,1661,2028,1679,1438,1417,1160,1367,1267,1270,1163,1064,910,667,811,1086,828,977,1049,740,305,780,787,899,725,903,719,575,844,662,855,666,651,662,392,562,777,635,713,672,676,313,596,755,609,640,640,577,290,549,766,496,841,629,301,217,584,747,783,745,921,862,604,1002,1847,1290,1623,1404,1709,1133,1866,1951,1833,2010,1460,1564,1079,1664,2123,2649,2401,2199,1514,1571,2169,2603,2305,2205,2229,1770,1285,1957,1729,1902,1904,1615,1009,1004,1405,1448,1410,1226,1276,1301,1024,1161,1105,720,457,552,740,901,1055,1397,1749,1159,1266,1246,1069,1115,1324,1397,1702,1422,1314,786,1512,1925,1576,1816,1479,1950,1018,1433,2102,2373,2161,2228,1861,1316,1997,2091,2379,2291,2193,1775,2478,2345,3638,3951,3467,4664,3524,1914,5251,5921,6776,5882,6184,4686,3530,7930,9823,8315,8506,9286,6592,4310,8473,8213,7878,6787,7524],\"new_deaths\":{\"__ndarray__\":\"AAAAAAAA8D8AAAAAAAAAAAAAAAAAAAAAAAAAAAAAAEAAAAAAAAAAAAAAAAAAAPA/AAAAAAAA8D8AAAAAAADwPwAAAAAAAAAAAAAAAAAAAEAAAAAAAAAAAAAAAAAAAAAAAAAAAAAAAEAAAAAAAAAAQAAAAAAAAABAAAAAAAAAEEAAAAAAAAAAAAAAAAAAABBAAAAAAAAAAAAAAAAAAADwPwAAAAAAAPA/AAAAAAAA8D8AAAAAAAAAAAAAAAAAAAhAAAAAAAAACEAAAAAAAAAIQAAAAAAAAAAAAAAAAAAA8D8AAAAAAAAAQAAAAAAAAAAAAAAAAAAAAAAAAAAAAADwPwAAAAAAAAAAAAAAAAAAAAAAAAAAAAAAAAAAAAAAAAAAAAAAAAAAAAAAAAAAAAAAAAAAAAAAAAAAAAAAAAAA8D8AAAAAAADwPwAAAAAAAAAAAAAAAAAA8D8AAAAAAAAAAAAAAAAAAPA/AAAAAAAAAAAAAAAAAADwPwAAAAAAAAAAAAAAAAAAAAAAAAAAAADwPwAAAAAAAPA/AAAAAAAAAAAAAAAAAAAAAAAAAAAAAAAAAAAAAAAAAAAAAAAAAAAAAAAAAAAAAAAAAAAAAAAAAAAAAAAAAAAAAAAAAAAAAAAAAAAAAAAA8D8AAAAAAADwPwAAAAAAAAAAAAAAAAAAAAAAAAAAAAAAAAAAAAAAAPA/AAAAAAAAAAAAAAAAAAAAAAAAAAAAAAAAAAAAAAAAAAAAAAAAAAAAAAAAAAAAAAAAAAAAAAAAAAAAAAAAAAAAAAAAAAAAAAAAAAAAAAAAAAAAAAAAAADwPwAAAAAAAAAAAAAAAAAAAAAAAAAAAAAAAAAAAAAAAAAAAAAAAAAAAAAAAAAAAAAAAAAAAAAAAAAAAAAAAAAAAAAAAAAAAAAAAAAAAAAAAAAAAAAAAAAAAAAAAAAAAAAAAAAAAAAAAAAAAAAAAAAA8D8AAAAAAAAAAAAAAAAAAAAAAAAAAAAAAAAAAAAAAAAAAAAAAAAAAAAAAAAAAAAAAAAAAAAAAAAAAAAAAAAAAAAAAAAAAAAAAAAAAAAAAAAAAAAAAAAAAAAAAAAAAAAAAAAAAAAAAAAAAAAAAAAAAAAAAAAAAAAAAAAAAAAAAAAAAAAAAAAAAAAAAAAAAAAAAAAAAAAAAAAAAAAAAAAAAAAAAAAAAAAAAAAAAAAAAAAAAAAAAAAAAAAAAAAAAAAAAAAAAAAAAAAAAAAAAAAAAAAAAAAAAAAAAAAAAAAAAAAAAAAAAAAAAAAAAAAAAAAAAAAAAAAAAAAAAAAAAAAAAAAAAAAAAAAAAAAAAAAAAAAAAAAAAAAAAAAAAAAAAAAAAAAAAAAAAAAAAAAAAAAAAAAAAAAAAAAAAAAAAAAAAAAAAAAAAAAAAAAAAAAAAAAAAAAAAAAAAAAAAAAAAAAAAAAAAAAAAAAA8D8AAAAAAAAAAAAAAAAAAAAAAAAAAAAAAAAAAAAAAAAAAAAAAAAAAAAAAAAAAAAAAAAAAAAAAAAAAAAAAAAAAAAAAAAAAAAAAAAAAAAAAADwPwAAAAAAAAAAAAAAAAAA8D8AAAAAAAAAAAAAAAAAAPA/AAAAAAAAAAAAAAAAAAAAQAAAAAAAAPA/AAAAAAAACEAAAAAAAAAIQAAAAAAAAPA/AAAAAAAAEEAAAAAAAAAIQAAAAAAAAAAAAAAAAAAAAAAAAAAAAAAAAAAAAAAAAABAAAAAAAAA8D8AAAAAAAAAQAAAAAAAAAAAAAAAAAAA8D8AAAAAAAAIQAAAAAAAAPA/AAAAAAAACEAAAAAAAAAIQAAAAAAAABhAAAAAAAAAAAAAAAAAAADwPwAAAAAAAABAAAAAAAAAAAAAAAAAAAAIQAAAAAAAABBAAAAAAAAAEEAAAAAAAAAAAAAAAAAAACRAAAAAAAAAGEAAAAAAAAAYQAAAAAAAABBAAAAAAAAAAAAAAAAAAAAUQAAAAAAAADVAAAAAAAAAFEAAAAAAAAAAAAAAAAAAACRAAAAAAAAAGEAAAAAAAAAmQAAAAAAAAAAAAAAAAAAAN0AAAAAAAAAAAAAAAAAAAEBAAAAAAAAAM0AAAAAAAAAAAAAAAAAAABhAAAAAAAAAFEAAAAAAAIBGQAAAAAAAAAAAAAAAAAAAAAAAAAAAAIBFQAAAAAAAgEZAAAAAAAAAAAAAAAAAAIBHQAAAAAAAADZAAAAAAAAAAAAAAAAAAAAAAAAAAAAAAEFAAAAAAAAAAAAAAAAAAAAAAAAAAAAAgFxAAAAAAAAAAAAAAAAAAIBOQAAAAAAAADhAAAAAAAAAPUAAAAAAAAAAAAAAAAAAAEZAAAAAAACAQUAAAAAAAAAAAAAAAAAAgGRAAAAAAAAAAAAAAAAAAEBlQAAAAAAAAAAAAAAAAAAAWUAAAAAAAABQQAAAAAAAAD9AAAAAAACAQEAAAAAAAIBZQAAAAAAAAD1AAAAAAABAUEAAAAAAAAAAAAAAAAAAIGtAAAAAAADAU0AAAAAAAIBHQAAAAAAAgFVAAAAAAACAV0AAAAAAAIBJQAAAAAAAAE1AAAAAAACAUUAAAAAAAIBQQAAAAAAAgElAAAAAAACASEAAAAAAAABYQAAAAAAAAAAAAAAAAADgYUAAAAAAAABRQAAAAAAAQFFAAAAAAACAREAAAAAAAEBSQAAAAAAAAEhAAAAAAACASUAAAAAAAABSQAAAAAAAgEdAAAAAAACAUEAAAAAAAIBEQAAAAAAAAAAAAAAAAADAWEAAAAAAAAAAAAAAAAAAgF5AAAAAAACARkAAAAAAAIBBQAAAAAAAgEFAAAAAAAAAUkAAAAAAAIBIQAAAAAAAgERAAAAAAACARUAAAAAAAIBBQAAAAAAAAE1AAAAAAAAAAAAAAAAAAABPQAAAAAAAgERAAAAAAACAQUAAAAAAAABNQAAAAAAAAEJAAAAAAAAAQEAAAAAAAIBEQAAAAAAAAENAAAAAAAAAQ0AAAAAAAIBIQAAAAAAAgE5AAAAAAACAREAAAAAAAABEQAAAAAAAAEpAAAAAAAAASkAAAAAAAABJQAAAAAAAAExAAAAAAAAAS0AAAAAAAIBBQAAAAAAAgEFAAAAAAAAAT0AAAAAAAABSQAAAAAAAgFFAAAAAAAAASEAAAAAAAABMQAAAAAAAgEZAAAAAAAAAT0AAAAAAAEBRQAAAAAAAgE1AAAAAAAAAUkAAAAAAAIBPQAAAAAAAAElAAAAAAAAAVkAAAAAAAABTQAAAAAAAAE1AAAAAAACAV0AAAAAAAEBTQAAAAAAAAFFAAAAAAADAWUAAAAAAAABPQAAAAAAAAFRAAAAAAACASkAAAAAAAMBUQAAAAAAAAFNAAAAAAAAAT0AAAAAAAMBWQAAAAAAAQFRAAAAAAACAUkAAAAAAAABIQAAAAAAAwFZAAAAAAADAVUAAAAAAAABRQAAAAAAAgElAAAAAAACAT0AAAAAAAABKQAAAAAAAgEVAAAAAAADAUkAAAAAAAABHQAAAAAAAgElAAAAAAAAAQEAAAAAAAIBHQAAAAAAAAEJAAAAAAAAAP0AAAAAAAABFQAAAAAAAAEFAAAAAAACAQEAAAAAAAIBBQAAAAAAAAEJAAAAAAAAAQ0AAAAAAAAAyQAAAAAAAAEBAAAAAAAAAOkAAAAAAAABFQAAAAAAAAD9AAAAAAAAAQEAAAAAAAAA7QAAAAAAAADVAAAAAAAAAOUAAAAAAAAA7QAAAAAAAAEBAAAAAAAAAOEAAAAAAAIBCQAAAAAAAAEFAAAAAAAAAOEAAAAAAAIBFQAAAAAAAADhAAAAAAAAANUAAAAAAAAAwQAAAAAAAAD5AAAAAAAAAPkAAAAAAAAAuQAAAAAAAADlAAAAAAAAAQUAAAAAAAAA7QAAAAAAAADBAAAAAAAAANEAAAAAAAAA0QAAAAAAAADdAAAAAAACAREAAAAAAAAA7QAAAAAAAADpAAAAAAAAANUAAAAAAAAA1QAAAAAAAAD5AAAAAAAAAOUAAAAAAAAA8QAAAAAAAADhAAAAAAAAAP0AAAAAAAIBHQAAAAAAAgERAAAAAAAAAQUAAAAAAAAA8QAAAAAAAAEdAAAAAAAAASEAAAAAAAIBIQAAAAAAAgEVAAAAAAAAATEAAAAAAAABNQAAAAAAAgENAAAAAAAAAUEAAAAAAAABVQAAAAAAAQFJAAAAAAACAVUAAAAAAAIBTQAAAAAAAgFBAAAAAAAAARUAAAAAAAEBXQAAAAAAAwFJAAAAAAACAUUAAAAAAAMBaQAAAAAAAgE5AAAAAAABAUkAAAAAAAABIQAAAAAAAAFdAAAAAAADAXUAAAAAAAIBTQAAAAAAAQFRAAAAAAACAVUAAAAAAAABOQAAAAAAAgEdAAAAAAABAWUAAAAAAAIBaQAAAAAAAgFVAAAAAAABAUUAAAAAAAEBSQAAAAAAAwFNAAAAAAACAQ0AAAAAAAABWQAAAAAAAQFRAAAAAAAAATEAAAAAAAABBQAAAAAAAAEpAAAAAAACAUUAAAAAAAABJQAAAAAAAAFJAAAAAAACATkAAAAAAAIBMQAAAAAAAAEpAAAAAAACAREAAAAAAAABLQAAAAAAAgEJAAAAAAABAUUAAAAAAAABMQAAAAAAAgEpAAAAAAAAAT0AAAAAAAIBOQAAAAAAAgEhAAAAAAAAAP0AAAAAAAIBQQAAAAAAAQFJAAAAAAAAAR0AAAAAAAIBPQAAAAAAAAEdAAAAAAAAAQEAAAAAAAIBHQAAAAAAAwFhAAAAAAADAWUAAAAAAAABTQAAAAAAAAE5AAAAAAADAUUAAAAAAAMBTQAAAAAAAAEpAAAAAAABAVkAAAAAAAEBQQAAAAAAAwFFAAAAAAACAVEAAAAAAAIBVQAAAAAAAgFNAAAAAAAAAVEAAAAAAAEBaQAAAAAAAwFdAAAAAAAAAVkAAAAAAAMBUQAAAAAAAgFZAAAAAAADAUkAAAAAAAMBUQAAAAAAAgFpAAAAAAAAAXUAAAAAAAIBaQAAAAAAAgFxAAAAAAACAVEAAAAAAAABdQAAAAAAAQFpAAAAAAADAXUAAAAAAAMBgQAAAAAAAgF9AAAAAAACgZ0AAAAAAAEBoQAAAAAAAAGJAAAAAAACAWkAAAAAAAKBjQAAAAAAAQGhAAAAAAACAZEAAAAAAAKBpQAAAAAAAgGFA\",\"dtype\":\"float64\",\"order\":\"little\",\"shape\":[486]}},\"selected\":{\"id\":\"1454\"},\"selection_policy\":{\"id\":\"1455\"}},\"id\":\"1430\",\"type\":\"ColumnDataSource\"},{\"attributes\":{\"months\":[0,6]},\"id\":\"1452\",\"type\":\"MonthsTicker\"},{\"attributes\":{},\"id\":\"1454\",\"type\":\"Selection\"},{\"attributes\":{\"axis_label\":\"Estimation for the  number of new_cases and new_deaths \",\"formatter\":{\"id\":\"1437\"},\"ticker\":{\"id\":\"1413\"}},\"id\":\"1412\",\"type\":\"LinearAxis\"},{\"attributes\":{\"months\":[0,1,2,3,4,5,6,7,8,9,10,11]},\"id\":\"1449\",\"type\":\"MonthsTicker\"},{\"attributes\":{\"mantissas\":[1,2,5],\"max_interval\":500.0,\"num_minor_ticks\":0},\"id\":\"1442\",\"type\":\"AdaptiveTicker\"},{\"attributes\":{\"base\":60,\"mantissas\":[1,2,5,10,15,20,30],\"max_interval\":1800000.0,\"min_interval\":1000.0,\"num_minor_ticks\":0},\"id\":\"1443\",\"type\":\"AdaptiveTicker\"},{\"attributes\":{\"days\":[1,8,15,22]},\"id\":\"1447\",\"type\":\"DaysTicker\"},{\"attributes\":{\"days\":[1,2,3,4,5,6,7,8,9,10,11,12,13,14,15,16,17,18,19,20,21,22,23,24,25,26,27,28,29,30,31]},\"id\":\"1445\",\"type\":\"DaysTicker\"},{\"attributes\":{},\"id\":\"1487\",\"type\":\"UnionRenderers\"},{\"attributes\":{\"base\":24,\"mantissas\":[1,2,4,6,8,12],\"max_interval\":43200000.0,\"min_interval\":3600000.0,\"num_minor_ticks\":0},\"id\":\"1444\",\"type\":\"AdaptiveTicker\"},{\"attributes\":{\"num_minor_ticks\":5,\"tickers\":[{\"id\":\"1442\"},{\"id\":\"1443\"},{\"id\":\"1444\"},{\"id\":\"1445\"},{\"id\":\"1446\"},{\"id\":\"1447\"},{\"id\":\"1448\"},{\"id\":\"1449\"},{\"id\":\"1450\"},{\"id\":\"1451\"},{\"id\":\"1452\"},{\"id\":\"1453\"}]},\"id\":\"1409\",\"type\":\"DatetimeTicker\"},{\"attributes\":{},\"id\":\"1419\",\"type\":\"SaveTool\"},{\"attributes\":{},\"id\":\"1416\",\"type\":\"PanTool\"},{\"attributes\":{\"days\":[1,4,7,10,13,16,19,22,25,28]},\"id\":\"1446\",\"type\":\"DaysTicker\"},{\"attributes\":{},\"id\":\"1486\",\"type\":\"Selection\"},{\"attributes\":{\"label\":{\"value\":\" new_deaths\"},\"renderers\":[{\"id\":\"1464\"}]},\"id\":\"1488\",\"type\":\"LegendItem\"},{\"attributes\":{\"days\":[\"%d %B %Y\"],\"hours\":[\"%H:%M:%S\"],\"milliseconds\":[\"%H:%M:%S.%f\"],\"minutes\":[\"%H:%M:%S\"],\"months\":[\"%d %B %Y\"],\"seconds\":[\"%H:%M:%S\"],\"years\":[\"%d %B %Y\"]},\"id\":\"1491\",\"type\":\"DatetimeTickFormatter\"},{\"attributes\":{\"months\":[0,4,8]},\"id\":\"1451\",\"type\":\"MonthsTicker\"},{\"attributes\":{\"data_source\":{\"id\":\"1460\"},\"glyph\":{\"id\":\"1462\"},\"hover_glyph\":null,\"muted_glyph\":null,\"nonselection_glyph\":{\"id\":\"1463\"},\"selection_glyph\":null,\"view\":{\"id\":\"1465\"}},\"id\":\"1464\",\"type\":\"GlyphRenderer\"},{\"attributes\":{\"months\":[0,2,4,6,8,10]},\"id\":\"1450\",\"type\":\"MonthsTicker\"},{\"attributes\":{\"axis\":{\"id\":\"1408\"},\"ticker\":null},\"id\":\"1411\",\"type\":\"Grid\"},{\"attributes\":{\"days\":[1,15]},\"id\":\"1448\",\"type\":\"DaysTicker\"},{\"attributes\":{},\"id\":\"1437\",\"type\":\"BasicTickFormatter\"},{\"attributes\":{},\"id\":\"1402\",\"type\":\"DataRange1d\"},{\"attributes\":{\"text\":\"Spread of COVID-19 Tunisia in real-time \"},\"id\":\"1398\",\"type\":\"Title\"},{\"attributes\":{\"overlay\":{\"id\":\"1422\"}},\"id\":\"1418\",\"type\":\"BoxZoomTool\"},{\"attributes\":{},\"id\":\"1417\",\"type\":\"WheelZoomTool\"},{\"attributes\":{\"bottom_units\":\"screen\",\"fill_alpha\":0.5,\"fill_color\":\"lightgrey\",\"left_units\":\"screen\",\"level\":\"overlay\",\"line_alpha\":1.0,\"line_color\":\"black\",\"line_dash\":[4,4],\"line_width\":2,\"right_units\":\"screen\",\"top_units\":\"screen\"},\"id\":\"1422\",\"type\":\"BoxAnnotation\"},{\"attributes\":{\"click_policy\":\"hide\",\"items\":[{\"id\":\"1457\"},{\"id\":\"1488\"}]},\"id\":\"1456\",\"type\":\"Legend\"},{\"attributes\":{\"callback\":null,\"formatters\":{\"@__x__values_original\":\"datetime\"},\"mode\":\"vline\",\"renderers\":[{\"id\":\"1434\"}],\"tooltips\":[[\"Date\",\"@__x__values_original{%F}\"],[\"new_cases\",\"@{new_cases}\"]]},\"id\":\"1458\",\"type\":\"HoverTool\"},{\"attributes\":{\"data_source\":{\"id\":\"1430\"},\"glyph\":{\"id\":\"1432\"},\"hover_glyph\":null,\"muted_glyph\":null,\"nonselection_glyph\":{\"id\":\"1433\"},\"selection_glyph\":null,\"view\":{\"id\":\"1435\"}},\"id\":\"1434\",\"type\":\"GlyphRenderer\"},{\"attributes\":{},\"id\":\"1400\",\"type\":\"DataRange1d\"},{\"attributes\":{\"active_drag\":\"auto\",\"active_inspect\":\"auto\",\"active_multi\":null,\"active_scroll\":{\"id\":\"1417\"},\"active_tap\":\"auto\",\"tools\":[{\"id\":\"1416\"},{\"id\":\"1417\"},{\"id\":\"1418\"},{\"id\":\"1419\"},{\"id\":\"1420\"},{\"id\":\"1421\"},{\"id\":\"1458\"},{\"id\":\"1489\"}]},\"id\":\"1423\",\"type\":\"Toolbar\"},{\"attributes\":{},\"id\":\"1413\",\"type\":\"BasicTicker\"},{\"attributes\":{\"source\":{\"id\":\"1460\"}},\"id\":\"1465\",\"type\":\"CDSView\"},{\"attributes\":{},\"id\":\"1421\",\"type\":\"HelpTool\"},{\"attributes\":{\"line_alpha\":0.1,\"line_color\":\"#ff7f0e\",\"line_width\":2,\"x\":{\"field\":\"__x__values\"},\"y\":{\"field\":\"new_deaths\"}},\"id\":\"1463\",\"type\":\"Line\"},{\"attributes\":{\"line_color\":\"#ff7f0e\",\"line_width\":2,\"x\":{\"field\":\"__x__values\"},\"y\":{\"field\":\"new_deaths\"}},\"id\":\"1462\",\"type\":\"Line\"},{\"attributes\":{},\"id\":\"1406\",\"type\":\"LinearScale\"},{\"attributes\":{},\"id\":\"1404\",\"type\":\"LinearScale\"}],\"root_ids\":[\"1397\"]},\"title\":\"Bokeh Application\",\"version\":\"2.2.3\"}};\n",
       "  var render_items = [{\"docid\":\"368b282f-7fdc-4714-b3f2-6a69a96a08d8\",\"root_ids\":[\"1397\"],\"roots\":{\"1397\":\"b21db54c-d867-4044-9eda-b39ff465e1cf\"}}];\n",
       "  root.Bokeh.embed.embed_items_notebook(docs_json, render_items);\n",
       "\n",
       "  }\n",
       "  if (root.Bokeh !== undefined) {\n",
       "    embed_document(root);\n",
       "  } else {\n",
       "    var attempts = 0;\n",
       "    var timer = setInterval(function(root) {\n",
       "      if (root.Bokeh !== undefined) {\n",
       "        clearInterval(timer);\n",
       "        embed_document(root);\n",
       "      } else {\n",
       "        attempts++;\n",
       "        if (attempts > 100) {\n",
       "          clearInterval(timer);\n",
       "          console.log(\"Bokeh: ERROR: Unable to run BokehJS code because BokehJS library is missing\");\n",
       "        }\n",
       "      }\n",
       "    }, 10, root)\n",
       "  }\n",
       "})(window);"
      ],
      "application/vnd.bokehjs_exec.v0+json": ""
     },
     "metadata": {
      "application/vnd.bokehjs_exec.v0+json": {
       "id": "1397"
      }
     },
     "output_type": "display_data"
    },
    {
     "data": {
      "text/html": [
       "<div style=\"display: table;\"><div style=\"display: table-row;\"><div style=\"display: table-cell;\"><b title=\"bokeh.plotting.figure.Figure\">Figure</b>(</div><div style=\"display: table-cell;\">id&nbsp;=&nbsp;'1397', <span id=\"1647\" style=\"cursor: pointer;\">&hellip;)</span></div></div><div class=\"1646\" style=\"display: none;\"><div style=\"display: table-cell;\"></div><div style=\"display: table-cell;\">above&nbsp;=&nbsp;[],</div></div><div class=\"1646\" style=\"display: none;\"><div style=\"display: table-cell;\"></div><div style=\"display: table-cell;\">align&nbsp;=&nbsp;'start',</div></div><div class=\"1646\" style=\"display: none;\"><div style=\"display: table-cell;\"></div><div style=\"display: table-cell;\">aspect_ratio&nbsp;=&nbsp;None,</div></div><div class=\"1646\" style=\"display: none;\"><div style=\"display: table-cell;\"></div><div style=\"display: table-cell;\">aspect_scale&nbsp;=&nbsp;1,</div></div><div class=\"1646\" style=\"display: none;\"><div style=\"display: table-cell;\"></div><div style=\"display: table-cell;\">background&nbsp;=&nbsp;None,</div></div><div class=\"1646\" style=\"display: none;\"><div style=\"display: table-cell;\"></div><div style=\"display: table-cell;\">background_fill_alpha&nbsp;=&nbsp;1.0,</div></div><div class=\"1646\" style=\"display: none;\"><div style=\"display: table-cell;\"></div><div style=\"display: table-cell;\">background_fill_color&nbsp;=&nbsp;'#ffffff',</div></div><div class=\"1646\" style=\"display: none;\"><div style=\"display: table-cell;\"></div><div style=\"display: table-cell;\">below&nbsp;=&nbsp;[DatetimeAxis(id='1408', ...)],</div></div><div class=\"1646\" style=\"display: none;\"><div style=\"display: table-cell;\"></div><div style=\"display: table-cell;\">border_fill_alpha&nbsp;=&nbsp;1.0,</div></div><div class=\"1646\" style=\"display: none;\"><div style=\"display: table-cell;\"></div><div style=\"display: table-cell;\">border_fill_color&nbsp;=&nbsp;'#ffffff',</div></div><div class=\"1646\" style=\"display: none;\"><div style=\"display: table-cell;\"></div><div style=\"display: table-cell;\">center&nbsp;=&nbsp;[Grid(id='1411', ...), Grid(id='1415', ...), Legend(id='1456', ...)],</div></div><div class=\"1646\" style=\"display: none;\"><div style=\"display: table-cell;\"></div><div style=\"display: table-cell;\">css_classes&nbsp;=&nbsp;[],</div></div><div class=\"1646\" style=\"display: none;\"><div style=\"display: table-cell;\"></div><div style=\"display: table-cell;\">disabled&nbsp;=&nbsp;False,</div></div><div class=\"1646\" style=\"display: none;\"><div style=\"display: table-cell;\"></div><div style=\"display: table-cell;\">extra_x_ranges&nbsp;=&nbsp;{},</div></div><div class=\"1646\" style=\"display: none;\"><div style=\"display: table-cell;\"></div><div style=\"display: table-cell;\">extra_y_ranges&nbsp;=&nbsp;{},</div></div><div class=\"1646\" style=\"display: none;\"><div style=\"display: table-cell;\"></div><div style=\"display: table-cell;\">frame_height&nbsp;=&nbsp;None,</div></div><div class=\"1646\" style=\"display: none;\"><div style=\"display: table-cell;\"></div><div style=\"display: table-cell;\">frame_width&nbsp;=&nbsp;None,</div></div><div class=\"1646\" style=\"display: none;\"><div style=\"display: table-cell;\"></div><div style=\"display: table-cell;\">height&nbsp;=&nbsp;None,</div></div><div class=\"1646\" style=\"display: none;\"><div style=\"display: table-cell;\"></div><div style=\"display: table-cell;\">height_policy&nbsp;=&nbsp;'auto',</div></div><div class=\"1646\" style=\"display: none;\"><div style=\"display: table-cell;\"></div><div style=\"display: table-cell;\">hidpi&nbsp;=&nbsp;True,</div></div><div class=\"1646\" style=\"display: none;\"><div style=\"display: table-cell;\"></div><div style=\"display: table-cell;\">js_event_callbacks&nbsp;=&nbsp;{},</div></div><div class=\"1646\" style=\"display: none;\"><div style=\"display: table-cell;\"></div><div style=\"display: table-cell;\">js_property_callbacks&nbsp;=&nbsp;{},</div></div><div class=\"1646\" style=\"display: none;\"><div style=\"display: table-cell;\"></div><div style=\"display: table-cell;\">left&nbsp;=&nbsp;[LinearAxis(id='1412', ...)],</div></div><div class=\"1646\" style=\"display: none;\"><div style=\"display: table-cell;\"></div><div style=\"display: table-cell;\">lod_factor&nbsp;=&nbsp;10,</div></div><div class=\"1646\" style=\"display: none;\"><div style=\"display: table-cell;\"></div><div style=\"display: table-cell;\">lod_interval&nbsp;=&nbsp;300,</div></div><div class=\"1646\" style=\"display: none;\"><div style=\"display: table-cell;\"></div><div style=\"display: table-cell;\">lod_threshold&nbsp;=&nbsp;2000,</div></div><div class=\"1646\" style=\"display: none;\"><div style=\"display: table-cell;\"></div><div style=\"display: table-cell;\">lod_timeout&nbsp;=&nbsp;500,</div></div><div class=\"1646\" style=\"display: none;\"><div style=\"display: table-cell;\"></div><div style=\"display: table-cell;\">margin&nbsp;=&nbsp;(0, 0, 0, 0),</div></div><div class=\"1646\" style=\"display: none;\"><div style=\"display: table-cell;\"></div><div style=\"display: table-cell;\">match_aspect&nbsp;=&nbsp;False,</div></div><div class=\"1646\" style=\"display: none;\"><div style=\"display: table-cell;\"></div><div style=\"display: table-cell;\">max_height&nbsp;=&nbsp;None,</div></div><div class=\"1646\" style=\"display: none;\"><div style=\"display: table-cell;\"></div><div style=\"display: table-cell;\">max_width&nbsp;=&nbsp;None,</div></div><div class=\"1646\" style=\"display: none;\"><div style=\"display: table-cell;\"></div><div style=\"display: table-cell;\">min_border&nbsp;=&nbsp;5,</div></div><div class=\"1646\" style=\"display: none;\"><div style=\"display: table-cell;\"></div><div style=\"display: table-cell;\">min_border_bottom&nbsp;=&nbsp;None,</div></div><div class=\"1646\" style=\"display: none;\"><div style=\"display: table-cell;\"></div><div style=\"display: table-cell;\">min_border_left&nbsp;=&nbsp;None,</div></div><div class=\"1646\" style=\"display: none;\"><div style=\"display: table-cell;\"></div><div style=\"display: table-cell;\">min_border_right&nbsp;=&nbsp;None,</div></div><div class=\"1646\" style=\"display: none;\"><div style=\"display: table-cell;\"></div><div style=\"display: table-cell;\">min_border_top&nbsp;=&nbsp;None,</div></div><div class=\"1646\" style=\"display: none;\"><div style=\"display: table-cell;\"></div><div style=\"display: table-cell;\">min_height&nbsp;=&nbsp;None,</div></div><div class=\"1646\" style=\"display: none;\"><div style=\"display: table-cell;\"></div><div style=\"display: table-cell;\">min_width&nbsp;=&nbsp;None,</div></div><div class=\"1646\" style=\"display: none;\"><div style=\"display: table-cell;\"></div><div style=\"display: table-cell;\">name&nbsp;=&nbsp;None,</div></div><div class=\"1646\" style=\"display: none;\"><div style=\"display: table-cell;\"></div><div style=\"display: table-cell;\">outline_line_alpha&nbsp;=&nbsp;1.0,</div></div><div class=\"1646\" style=\"display: none;\"><div style=\"display: table-cell;\"></div><div style=\"display: table-cell;\">outline_line_cap&nbsp;=&nbsp;'butt',</div></div><div class=\"1646\" style=\"display: none;\"><div style=\"display: table-cell;\"></div><div style=\"display: table-cell;\">outline_line_color&nbsp;=&nbsp;'#e5e5e5',</div></div><div class=\"1646\" style=\"display: none;\"><div style=\"display: table-cell;\"></div><div style=\"display: table-cell;\">outline_line_dash&nbsp;=&nbsp;[],</div></div><div class=\"1646\" style=\"display: none;\"><div style=\"display: table-cell;\"></div><div style=\"display: table-cell;\">outline_line_dash_offset&nbsp;=&nbsp;0,</div></div><div class=\"1646\" style=\"display: none;\"><div style=\"display: table-cell;\"></div><div style=\"display: table-cell;\">outline_line_join&nbsp;=&nbsp;'bevel',</div></div><div class=\"1646\" style=\"display: none;\"><div style=\"display: table-cell;\"></div><div style=\"display: table-cell;\">outline_line_width&nbsp;=&nbsp;1,</div></div><div class=\"1646\" style=\"display: none;\"><div style=\"display: table-cell;\"></div><div style=\"display: table-cell;\">output_backend&nbsp;=&nbsp;'webgl',</div></div><div class=\"1646\" style=\"display: none;\"><div style=\"display: table-cell;\"></div><div style=\"display: table-cell;\">plot_height&nbsp;=&nbsp;800,</div></div><div class=\"1646\" style=\"display: none;\"><div style=\"display: table-cell;\"></div><div style=\"display: table-cell;\">plot_width&nbsp;=&nbsp;1000,</div></div><div class=\"1646\" style=\"display: none;\"><div style=\"display: table-cell;\"></div><div style=\"display: table-cell;\">renderers&nbsp;=&nbsp;[GlyphRenderer(id='1434', ...), GlyphRenderer(id='1464', ...)],</div></div><div class=\"1646\" style=\"display: none;\"><div style=\"display: table-cell;\"></div><div style=\"display: table-cell;\">reset_policy&nbsp;=&nbsp;'standard',</div></div><div class=\"1646\" style=\"display: none;\"><div style=\"display: table-cell;\"></div><div style=\"display: table-cell;\">right&nbsp;=&nbsp;[],</div></div><div class=\"1646\" style=\"display: none;\"><div style=\"display: table-cell;\"></div><div style=\"display: table-cell;\">sizing_mode&nbsp;=&nbsp;'fixed',</div></div><div class=\"1646\" style=\"display: none;\"><div style=\"display: table-cell;\"></div><div style=\"display: table-cell;\">subscribed_events&nbsp;=&nbsp;[],</div></div><div class=\"1646\" style=\"display: none;\"><div style=\"display: table-cell;\"></div><div style=\"display: table-cell;\">tags&nbsp;=&nbsp;[],</div></div><div class=\"1646\" style=\"display: none;\"><div style=\"display: table-cell;\"></div><div style=\"display: table-cell;\">title&nbsp;=&nbsp;Title(id='1398', ...),</div></div><div class=\"1646\" style=\"display: none;\"><div style=\"display: table-cell;\"></div><div style=\"display: table-cell;\">title_location&nbsp;=&nbsp;'above',</div></div><div class=\"1646\" style=\"display: none;\"><div style=\"display: table-cell;\"></div><div style=\"display: table-cell;\">toolbar&nbsp;=&nbsp;Toolbar(id='1423', ...),</div></div><div class=\"1646\" style=\"display: none;\"><div style=\"display: table-cell;\"></div><div style=\"display: table-cell;\">toolbar_location&nbsp;=&nbsp;'right',</div></div><div class=\"1646\" style=\"display: none;\"><div style=\"display: table-cell;\"></div><div style=\"display: table-cell;\">toolbar_sticky&nbsp;=&nbsp;True,</div></div><div class=\"1646\" style=\"display: none;\"><div style=\"display: table-cell;\"></div><div style=\"display: table-cell;\">visible&nbsp;=&nbsp;True,</div></div><div class=\"1646\" style=\"display: none;\"><div style=\"display: table-cell;\"></div><div style=\"display: table-cell;\">width&nbsp;=&nbsp;None,</div></div><div class=\"1646\" style=\"display: none;\"><div style=\"display: table-cell;\"></div><div style=\"display: table-cell;\">width_policy&nbsp;=&nbsp;'auto',</div></div><div class=\"1646\" style=\"display: none;\"><div style=\"display: table-cell;\"></div><div style=\"display: table-cell;\">x_range&nbsp;=&nbsp;DataRange1d(id='1400', ...),</div></div><div class=\"1646\" style=\"display: none;\"><div style=\"display: table-cell;\"></div><div style=\"display: table-cell;\">x_scale&nbsp;=&nbsp;LinearScale(id='1404', ...),</div></div><div class=\"1646\" style=\"display: none;\"><div style=\"display: table-cell;\"></div><div style=\"display: table-cell;\">y_range&nbsp;=&nbsp;DataRange1d(id='1402', ...),</div></div><div class=\"1646\" style=\"display: none;\"><div style=\"display: table-cell;\"></div><div style=\"display: table-cell;\">y_scale&nbsp;=&nbsp;LinearScale(id='1406', ...))</div></div></div>\n",
       "<script>\n",
       "(function() {\n",
       "  var expanded = false;\n",
       "  var ellipsis = document.getElementById(\"1647\");\n",
       "  ellipsis.addEventListener(\"click\", function() {\n",
       "    var rows = document.getElementsByClassName(\"1646\");\n",
       "    for (var i = 0; i < rows.length; i++) {\n",
       "      var el = rows[i];\n",
       "      el.style.display = expanded ? \"none\" : \"table-row\";\n",
       "    }\n",
       "    ellipsis.innerHTML = expanded ? \"&hellip;)\" : \"&lsaquo;&lsaquo;&lsaquo;\";\n",
       "    expanded = !expanded;\n",
       "  });\n",
       "})();\n",
       "</script>\n"
      ],
      "text/plain": [
       "Figure(id='1397', ...)"
      ]
     },
     "execution_count": 21,
     "metadata": {},
     "output_type": "execute_result"
    }
   ],
   "source": [
    "df_2.plot_bokeh(kind=\"line\",title ='Spread of COVID-19 '+str(string)+' in real-time ',\n",
    "                   figsize =(1000,800),\n",
    "                   xlabel = \"Date\",\n",
    "                   ylabel=\"Estimation for the  number of new_cases and new_deaths \"\n",
    "                   )"
   ]
  },
  {
   "cell_type": "code",
   "execution_count": 22,
   "metadata": {},
   "outputs": [],
   "source": [
    "%%capture\n",
    "df_2.plot_bokeh(kind=\"bar\",title ='Spread of COVID-19 '+str(string)+' in real-time ',\n",
    "                   figsize =(1000,800),\n",
    "                   xlabel = \"Date\",\n",
    "                   ylabel=\"Estimation for the  number of new_cases and new_deaths \"\n",
    "                   )"
   ]
  },
  {
   "cell_type": "markdown",
   "metadata": {},
   "source": [
    "# OWID_Dataset"
   ]
  },
  {
   "cell_type": "markdown",
   "metadata": {},
   "source": [
    "Our World In Data (OWID) is an online publication that presents empirical research and data that shows how living conditions around the world change over time.Online publications on global development use interactive data visualizations (tables and maps) to present the results of development research and explain the causes and consequences of observed changes.\n",
    "OWID dataset is used to evaluate the impact of Vaccination for the chosen country. We can go deeply into the details about the Total_Fully_Vaccinated ( People who received two doses of the Vaccine ) and the Number of Total_Vaccinations (vaccines) that represents the Total Number of Vaccines delivered!"
   ]
  },
  {
   "cell_type": "code",
   "execution_count": 24,
   "metadata": {},
   "outputs": [],
   "source": [
    "%%capture\n",
    "df_owid = pd.read_csv('../Distribution/OWID-Vaccine-Progress.csv')\n",
    "df_owid = df_owid.drop([\"Unnamed: 0\"], axis = 1)\n",
    "df_owid = df_owid.sort_values(by=\"Date\")\n",
    "df_owid =df_owid.dropna()\n",
    "d = {\"ARE\": \"United_Arab_Emirates\" , \"BHR\" : 'Bahrain',\"DZA\": 'Algeria',\"EGY\": 'Egypt',\"IRQ\": 'Iraq',  \"ISR\": 'Israel', \"JOR\": 'Jordan',\"KWT\":'Kuwait',\"LBN\":'Lebanon',\"LBY\":'Libya',  \"MAR\":'Marocco' ,\"MRT\": 'Mauritania', \"OMN\":'Oman',\"PSE\": 'Palestine', \"QAT\":'Qatar',\"SAU\":'Saudi-Arabia',\"SOM\":'Somalia',\"SDN\":'Sudan',\"SSD\":'South_Sudan',\"SYR\":'Syria',\"TUN\":'Tunisia',\"YEM\":'Yemen'}\n",
    "df_owid['Country'] = df_owid.replace({\"Country\": d})\n",
    "\n",
    "\n",
    "# line plot\n",
    "df_1_ = df_owid[df_owid['Country'] == str(string)] \n",
    "trace1 = go.Scatter(\n",
    "    x=df_1_.Date,\n",
    "    y=df_1_['Total_Vaccinated'],\n",
    "    name = \"Total_Vaccinated\",\n",
    "    marker = dict(color = 'rgba(16, 112, 2, 0.8)'),\n",
    ")\n",
    "\n",
    "\n",
    "data = [trace1]\n",
    "layout = go.Layout(\n",
    "    xaxis2=dict(\n",
    "        domain=[0.6, 0.95],\n",
    "        anchor='y2',        \n",
    "    \n",
    "    ),\n",
    "    title = 'Total_Vaccinated in '+ str(string)\n",
    "\n",
    ")\n",
    "fig = go.Figure(data=data, layout=layout)\n",
    "    \n",
    "iplot(fig)"
   ]
  },
  {
   "cell_type": "code",
   "execution_count": 25,
   "metadata": {},
   "outputs": [
    {
     "data": {
      "text/html": [
       "\n",
       "\n",
       "\n",
       "\n",
       "\n",
       "\n",
       "  <div class=\"bk-root\" id=\"2c434708-d04f-44f2-861c-05898ce0962a\" data-root-id=\"1842\"></div>\n"
      ]
     },
     "metadata": {},
     "output_type": "display_data"
    },
    {
     "data": {
      "application/javascript": [
       "(function(root) {\n",
       "  function embed_document(root) {\n",
       "    \n",
       "  var docs_json = {\"7277c030-bf0a-497d-9c9b-118f0c478aed\":{\"roots\":{\"references\":[{\"attributes\":{\"below\":[{\"id\":\"1853\"}],\"center\":[{\"id\":\"1856\"},{\"id\":\"1860\"},{\"id\":\"1901\"}],\"left\":[{\"id\":\"1857\"}],\"output_backend\":\"webgl\",\"plot_height\":800,\"plot_width\":1000,\"renderers\":[{\"id\":\"1879\"},{\"id\":\"1909\"},{\"id\":\"1940\"}],\"sizing_mode\":\"fixed\",\"title\":{\"id\":\"1843\"},\"toolbar\":{\"id\":\"1868\"},\"x_range\":{\"id\":\"1845\"},\"x_scale\":{\"id\":\"1849\"},\"y_range\":{\"id\":\"1847\"},\"y_scale\":{\"id\":\"1851\"}},\"id\":\"1842\",\"subtype\":\"Figure\",\"type\":\"Plot\"},{\"attributes\":{\"data\":{\"Total_Fully_Vaccinated\":{\"__ndarray__\":\"AAAAAAAAAAAAAAAAAAAAAAAAAAAAAAAAAAAAAAAAAAAAAAAAAAAAAAAAAAAAAAAAAAAAAAAAAAAAAAAAAAAAAAAAAAAAAAAAAAAAAAAAAAAAAAAAAAAAAAAAAAAAAAAAAAAAAAAAAAAAAAAAAAAAAAAAAAAAAAAAAAAAAAAAAAAAAAAAAAAAAAAAAAAAKK9AAAAAAAD8skAAAAAAAHOzQAAAAAAAX79AAAAAAIBVwEAAAAAAAI7AQAAAAAAAkMBAAAAAAICVwEAAAAAAABbFQAAAAABgH+BAAAAAACB95EAAAAAAIErnQAAAAADgAelAAAAAAABl6kAAAAAAAOHrQAAAAAAgYu5AAAAAAJAX8EAAAAAAMAvxQAAAAAAQQvJAAAAAAMC780AAAAAAoPb1QAAAAAAAKvdAAAAAAEDE+EAAAAAAkFn5QAAAAAAgKPpAAAAAAADC+0AAAAAA0Dj+QAAAAACA0QBBAAAAAHguAkEAAAAAqBgDQQAAAACgKARBAAAAALDJBUEAAAAA0LIGQQAAAACY3QdBAAAAAGAiCUEAAAAA8IUKQQAAAACwwQ1BAAAAAEj2DkEAAAAAALUPQQAAAAD4SBBBAAAAADSUEEEAAAAA1MgQQQAAAADM+RBBAAAAAIw4EUEAAAAAiKgRQQAAAABoNhJBAAAAAJyNEkEAAAAAHPwSQQAAAACUVRNBAAAAADi1E0EAAAAAVB8UQQAAAABYnhRBAAAAAFwQFUEAAAAAkHkVQQAAAAC4fxVBAAAAAOiEFUEAAAAApIkVQQAAAACclhVBAAAAAHAWFkEAAAAAoH8WQQAAAAAM0BZBAAAAAHANF0EAAAAACDYXQQAAAACoUxdBAAAAACzdF0EAAAAAXLEYQQAAAABcfxlBAAAAAKwfGkEAAAAANL4aQQAAAAA8OBtBAAAAAOguHEEAAAAAtA0dQQAAAADMUB5BAAAAAMBUH0EAAAAA9EAgQQAAAAAKwSBBAAAAAIbmIEEAAAAAvkYhQQAAAAAQZSFBAAAAAFKIIUEAAAAAaLwhQQAAAAC8EyJBAAAAAHpVIkEAAAAAmJAiQQAAAABswiJBAAAAAJzcIkEAAAAAygMjQQAAAABWQiNBAAAAAPzZI0EAAAAACqYkQQAAAAAUcSVBAAAAAIg3JkE=\",\"dtype\":\"float64\",\"order\":\"little\",\"shape\":[109]},\"Total_Vaccinated\":{\"__ndarray__\":\"AAAAAAAAAAAAAAAAADiHQAAAAAAAOKBAAAAAAAD2o0AAAAAAAM26QAAAAAAAaMhAAAAAAACZ0UAAAAAAAIbVQAAAAACARt9AAAAAAKD44kAAAAAA4KLlQAAAAAAg7OlAAAAAABBH8UAAAAAAwJDzQAAAAADwnfVAAAAAAJDw90AAAAAAoJ35QAAAAACgbvpAAAAAAPBG/UAAAAAAMJ3+QAAAAACodwBBAAAAAGDbAUEAAAAAiD0DQQAAAAB4YQRBAAAAADBOBUEAAAAA6BIGQQAAAACIiwdBAAAAAOgZCEEAAAAAeAUJQQAAAAAwJApBAAAAAFCRC0EAAAAASM4MQQAAAAAY1Q1BAAAAAIAED0EAAAAAVBAQQQAAAABkjBBBAAAAAHj2EEEAAAAAJDgRQQAAAAAwpRJBAAAAANQvE0EAAAAAMJITQQAAAACw4RNBAAAAAKgwFEEAAAAATF8UQQAAAADMzxRBAAAAAGhjFUEAAAAA1BkWQQAAAABAuBZBAAAAAAzuF0EAAAAAHEUZQQAAAABgZxpBAAAAAAR6G0EAAAAAPH8cQQAAAADUNB5BAAAAALhBH0EAAAAAhCMgQQAAAAAajSBBAAAAAIYYIUEAAAAABqchQQAAAABaPSJBAAAAAATUIkEAAAAAaFUjQQAAAABUqCNBAAAAAAD9I0EAAAAAsIYkQQAAAABuXSVBAAAAADg4JkEAAAAAkiUnQQAAAAD8DShBAAAAALrdKEEAAAAAtqopQQAAAAA6lypBAAAAAMZzK0EAAAAA3iIsQQAAAACGQC1BAAAAACoXLkEAAAAADOouQQAAAAAAgC9BAAAAAFkbMEEAAAAAwngwQQAAAADW2TBBAAAAAPwxMUEAAAAAkoExQQAAAABayDFBAAAAAMgHMkEAAAAAPkkyQQAAAACQjTJBAAAAADGtMkEAAAAATMMyQQAAAAAf7TJBAAAAAD8aM0EAAAAAFj0zQQAAAAByajNBAAAAAGiyM0EAAAAAihA0QQAAAADYejRBAAAAAHbfNEEAAAAADjk1QQAAAAAleDVBAAAAAJi6NUEAAAAAOAk2QQAAAACXZjZBAAAAAE3aNkEAAAAAxB03QQAAAAClRTdBAAAAAKVPN0EAAAAA/1k3QQAAAADpYDdBAAAAALGEN0E=\",\"dtype\":\"float64\",\"order\":\"little\",\"shape\":[109]},\"Total_Vaccinations\":{\"__ndarray__\":\"AAAAAAAAAAAAAAAAADiHQAAAAAAAOKBAAAAAAAD2o0AAAAAAAM26QAAAAAAAaMhAAAAAAACZ0UAAAAAAAIbVQAAAAACARt9AAAAAAKD44kAAAAAA4KLlQAAAAAAg7OlAAAAAABBH8UAAAAAAwJDzQAAAAADwnfVAAAAAAJDw90AAAAAAoJ35QAAAAADgZ/tAAAAAALB2/kAAAAAAYNT/QAAAAACgcgFBAAAAALjgAkEAAAAAaEYEQQAAAAB4agVBAAAAAIhXBkEAAAAASGQHQQAAAABgkwtBAAAAADA5DUEAAAAAANgOQQAAAABUMhBBAAAAAEgVEUEAAAAAROMRQQAAAADQthJBAAAAACSIE0EAAAAAIFMUQQAAAADoHBVBAAAAAGjlFUEAAAAAzLUWQQAAAACwbxhBAAAAAORgGUEAAAAAlOgZQQAAAAC4axpBAAAAACghG0EAAAAAgO0bQQAAAACMOB1BAAAAAKR6HkEAAAAAKKYfQQAAAABIZiBBAAAAAHJpIUEAAAAAQk8iQQAAAAAWKyNBAAAAAJoFJEEAAAAAGuEkQQAAAADWiiZBAAAAAG5eJ0EAAAAAxBAoQQAAAACWsShBAAAAAKBiKUEAAAAAcAsqQQAAAABAuipBAAAAAEpwK0EAAAAArCksQQAAAACIwyxBAAAAAM5DLUEAAAAAvgQuQQAAAAA4CC9BAAAAAJQMMEEAAAAAnpowQQAAAACULjFBAAAAAPSyMUEAAAAAvzMyQQAAAACLqzJBAAAAAB0bM0EAAAAA2HMzQQAAAADqBTRBAAAAADGRNEEAAAAA7hQ1QQAAAAADdDVBAAAAALXeNUEAAAAAREY2QQAAAADArjZBAAAAAEcpN0EAAAAA6a03QQAAAAAxKDhBAAAAALOPOEEAAAAAy/g4QQAAAACfWzlBAAAAAOu4OUEAAAAAuQY6QQAAAABSgTpBAAAAAG/vOkEAAAAAkF07QQAAAAD3yjtBAAAAAKslPEEAAAAA6bM8QQAAAABgLT1BAAAAAJ+jPUEAAAAAQhc+QQAAAAADgj5BAAAAAFXlPkEAAAAAhFE/QQAAAADNxz9BAAAAgE0kQEEAAACA1E9AQQAAAABoc0BBAAAAgFGeQEEAAAAAgtZAQQAAAIC5DEFBAAAAgDpQQUE=\",\"dtype\":\"float64\",\"order\":\"little\",\"shape\":[109]},\"__x__values\":{\"__ndarray__\":\"AACAuTuCd0IAAEAfjoJ3QgAAAIXggndCAADA6jKDd0IAAMCBfIR3QgAAQE0hhXdCAAAAs3OFd0IAAMAYxoV3QgAAQORqhndCAAAASr2Gd0IAAMCvD4d3QgAAQHu0h3dCAABAEv6Id0IAAAB4UIl3QgAAwN2iiXdCAACAQ/WJd0IAAECpR4p3QgAAAA+aindCAADAdOyKd0IAAIDaPot3QgAAQECRi3dCAAAApuOLd0IAAMALNox3QgAAgHGIjHdCAABA19qMd0IAAAA9LY13QgAAQG4kjndCAAAA1HaOd0IAAMA5yY53QgAAgJ8bj3dCAABABW6Pd0IAAABrwI93QgAAwNASkHdCAACANmWQd0IAAECct5B3QgAAAAIKkXdCAADAZ1yRd0IAAEAzAZJ3QgAAAJlTkndCAADA/qWSd0IAAIBk+JJ3QgAAQMpKk3dCAAAAMJ2Td0IAAMCV75N3QgAAgPtBlHdCAABAYZSUd0IAAADH5pR3QgAAwCw5lXdCAACAKdWWd0IAAECPJ5d3QgAAAPV5l3dCAADAWsyXd0IAAIDAHph3QgAAAIzDmHdCAADA8RWZd0IAAIBXaJl3QgAAQL26mXdCAAAAIw2ad0IAAMCIX5p3QgAAgO6xmndCAABAVASbd0IAAAC6Vpt3QgAAwB+pm3dCAACAhfubd0IAAEDrTZx3QgAAAFGgnHdCAADAtvKcd0IAAIAcRZ13QgAAQIKXnXdCAAAA6Omdd0IAAMBNPJ53QgAAgLOOnndCAABAGeGed0IAAAB/M593QgAAwOSFn3dCAACAStifd0IAAECwKqB3QgAAABZ9oHdCAADAe8+gd0IAAIDhIaF3QgAAQEd0oXdCAAAArcahd0IAAMASGaJ3QgAAgHhrondCAABA3r2id0IAAABEEKN3QgAAwKlio3dCAACAD7Wjd0IAAEB1B6R3QgAAANtZpHdCAADAQKykd0IAAICm/qR3QgAAQAxRpXdCAAAAcqOld0IAAMDX9aV3QgAAgD1IpndCAABAo5qmd0IAAAAJ7aZ3QgAAwG4/p3dCAACA1JGnd0IAAEA65Kd3QgAAAKA2qHdCAADABYmod0IAAIBr26h3QgAAQNEtqXdCAAAAN4Cpd0IAAMCc0ql3QgAAgAIlqndCAABAaHeqd0I=\",\"dtype\":\"float64\",\"order\":\"little\",\"shape\":[109]},\"__x__values_original\":{\"__ndarray__\":\"AACAuTuCd0IAAEAfjoJ3QgAAAIXggndCAADA6jKDd0IAAMCBfIR3QgAAQE0hhXdCAAAAs3OFd0IAAMAYxoV3QgAAQORqhndCAAAASr2Gd0IAAMCvD4d3QgAAQHu0h3dCAABAEv6Id0IAAAB4UIl3QgAAwN2iiXdCAACAQ/WJd0IAAECpR4p3QgAAAA+aindCAADAdOyKd0IAAIDaPot3QgAAQECRi3dCAAAApuOLd0IAAMALNox3QgAAgHGIjHdCAABA19qMd0IAAAA9LY13QgAAQG4kjndCAAAA1HaOd0IAAMA5yY53QgAAgJ8bj3dCAABABW6Pd0IAAABrwI93QgAAwNASkHdCAACANmWQd0IAAECct5B3QgAAAAIKkXdCAADAZ1yRd0IAAEAzAZJ3QgAAAJlTkndCAADA/qWSd0IAAIBk+JJ3QgAAQMpKk3dCAAAAMJ2Td0IAAMCV75N3QgAAgPtBlHdCAABAYZSUd0IAAADH5pR3QgAAwCw5lXdCAACAKdWWd0IAAECPJ5d3QgAAAPV5l3dCAADAWsyXd0IAAIDAHph3QgAAAIzDmHdCAADA8RWZd0IAAIBXaJl3QgAAQL26mXdCAAAAIw2ad0IAAMCIX5p3QgAAgO6xmndCAABAVASbd0IAAAC6Vpt3QgAAwB+pm3dCAACAhfubd0IAAEDrTZx3QgAAAFGgnHdCAADAtvKcd0IAAIAcRZ13QgAAQIKXnXdCAAAA6Omdd0IAAMBNPJ53QgAAgLOOnndCAABAGeGed0IAAAB/M593QgAAwOSFn3dCAACAStifd0IAAECwKqB3QgAAABZ9oHdCAADAe8+gd0IAAIDhIaF3QgAAQEd0oXdCAAAArcahd0IAAMASGaJ3QgAAgHhrondCAABA3r2id0IAAABEEKN3QgAAwKlio3dCAACAD7Wjd0IAAEB1B6R3QgAAANtZpHdCAADAQKykd0IAAICm/qR3QgAAQAxRpXdCAAAAcqOld0IAAMDX9aV3QgAAgD1IpndCAABAo5qmd0IAAAAJ7aZ3QgAAwG4/p3dCAACA1JGnd0IAAEA65Kd3QgAAAKA2qHdCAADABYmod0IAAIBr26h3QgAAQNEtqXdCAAAAN4Cpd0IAAMCc0ql3QgAAgAIlqndCAABAaHeqd0I=\",\"dtype\":\"float64\",\"order\":\"little\",\"shape\":[109]}},\"selected\":{\"id\":\"1899\"},\"selection_policy\":{\"id\":\"1900\"}},\"id\":\"1875\",\"type\":\"ColumnDataSource\"},{\"attributes\":{},\"id\":\"1862\",\"type\":\"WheelZoomTool\"},{\"attributes\":{\"days\":[1,4,7,10,13,16,19,22,25,28]},\"id\":\"1891\",\"type\":\"DaysTicker\"},{\"attributes\":{\"months\":[0,4,8]},\"id\":\"1896\",\"type\":\"MonthsTicker\"},{\"attributes\":{},\"id\":\"1861\",\"type\":\"PanTool\"},{\"attributes\":{},\"id\":\"1847\",\"type\":\"DataRange1d\"},{\"attributes\":{\"base\":60,\"mantissas\":[1,2,5,10,15,20,30],\"max_interval\":1800000.0,\"min_interval\":1000.0,\"num_minor_ticks\":0},\"id\":\"1888\",\"type\":\"AdaptiveTicker\"},{\"attributes\":{\"days\":[\"%d %B %Y\"],\"hours\":[\"%H:%M:%S\"],\"milliseconds\":[\"%H:%M:%S.%f\"],\"minutes\":[\"%H:%M:%S\"],\"months\":[\"%d %B %Y\"],\"seconds\":[\"%H:%M:%S\"],\"years\":[\"%d %B %Y\"]},\"id\":\"1969\",\"type\":\"DatetimeTickFormatter\"},{\"attributes\":{\"overlay\":{\"id\":\"1867\"}},\"id\":\"1863\",\"type\":\"BoxZoomTool\"},{\"attributes\":{},\"id\":\"1849\",\"type\":\"LinearScale\"},{\"attributes\":{\"callback\":null,\"formatters\":{\"@__x__values_original\":\"datetime\"},\"mode\":\"vline\",\"renderers\":[{\"id\":\"1940\"}],\"tooltips\":[[\"Date\",\"@__x__values_original{%F}\"],[\"Total_Fully_Vaccinated\",\"@{Total_Fully_Vaccinated}\"]]},\"id\":\"1967\",\"type\":\"HoverTool\"},{\"attributes\":{\"bottom_units\":\"screen\",\"fill_alpha\":0.5,\"fill_color\":\"lightgrey\",\"left_units\":\"screen\",\"level\":\"overlay\",\"line_alpha\":1.0,\"line_color\":\"black\",\"line_dash\":[4,4],\"line_width\":2,\"right_units\":\"screen\",\"top_units\":\"screen\"},\"id\":\"1867\",\"type\":\"BoxAnnotation\"},{\"attributes\":{\"line_color\":\"#1f77b4\",\"line_width\":2,\"x\":{\"field\":\"__x__values\"},\"y\":{\"field\":\"Total_Vaccinations\"}},\"id\":\"1877\",\"type\":\"Line\"},{\"attributes\":{\"axis\":{\"id\":\"1857\"},\"dimension\":1,\"ticker\":null},\"id\":\"1860\",\"type\":\"Grid\"},{\"attributes\":{\"data_source\":{\"id\":\"1936\"},\"glyph\":{\"id\":\"1938\"},\"hover_glyph\":null,\"muted_glyph\":null,\"nonselection_glyph\":{\"id\":\"1939\"},\"selection_glyph\":null,\"view\":{\"id\":\"1941\"}},\"id\":\"1940\",\"type\":\"GlyphRenderer\"},{\"attributes\":{\"days\":[1,2,3,4,5,6,7,8,9,10,11,12,13,14,15,16,17,18,19,20,21,22,23,24,25,26,27,28,29,30,31]},\"id\":\"1890\",\"type\":\"DaysTicker\"},{\"attributes\":{},\"id\":\"1865\",\"type\":\"ResetTool\"},{\"attributes\":{\"months\":[0,2,4,6,8,10]},\"id\":\"1895\",\"type\":\"MonthsTicker\"},{\"attributes\":{},\"id\":\"1898\",\"type\":\"YearsTicker\"},{\"attributes\":{\"callback\":null,\"formatters\":{\"@__x__values_original\":\"datetime\"},\"mode\":\"vline\",\"renderers\":[{\"id\":\"1909\"}],\"tooltips\":[[\"Date\",\"@__x__values_original{%F}\"],[\"Total_Vaccinated\",\"@{Total_Vaccinated}\"]]},\"id\":\"1934\",\"type\":\"HoverTool\"},{\"attributes\":{\"num_minor_ticks\":5,\"tickers\":[{\"id\":\"1887\"},{\"id\":\"1888\"},{\"id\":\"1889\"},{\"id\":\"1890\"},{\"id\":\"1891\"},{\"id\":\"1892\"},{\"id\":\"1893\"},{\"id\":\"1894\"},{\"id\":\"1895\"},{\"id\":\"1896\"},{\"id\":\"1897\"},{\"id\":\"1898\"}]},\"id\":\"1854\",\"type\":\"DatetimeTicker\"},{\"attributes\":{\"data\":{\"Total_Fully_Vaccinated\":{\"__ndarray__\":\"AAAAAAAAAAAAAAAAAAAAAAAAAAAAAAAAAAAAAAAAAAAAAAAAAAAAAAAAAAAAAAAAAAAAAAAAAAAAAAAAAAAAAAAAAAAAAAAAAAAAAAAAAAAAAAAAAAAAAAAAAAAAAAAAAAAAAAAAAAAAAAAAAAAAAAAAAAAAAAAAAAAAAAAAAAAAAAAAAAAAAAAAAAAAKK9AAAAAAAD8skAAAAAAAHOzQAAAAAAAX79AAAAAAIBVwEAAAAAAAI7AQAAAAAAAkMBAAAAAAICVwEAAAAAAABbFQAAAAABgH+BAAAAAACB95EAAAAAAIErnQAAAAADgAelAAAAAAABl6kAAAAAAAOHrQAAAAAAgYu5AAAAAAJAX8EAAAAAAMAvxQAAAAAAQQvJAAAAAAMC780AAAAAAoPb1QAAAAAAAKvdAAAAAAEDE+EAAAAAAkFn5QAAAAAAgKPpAAAAAAADC+0AAAAAA0Dj+QAAAAACA0QBBAAAAAHguAkEAAAAAqBgDQQAAAACgKARBAAAAALDJBUEAAAAA0LIGQQAAAACY3QdBAAAAAGAiCUEAAAAA8IUKQQAAAACwwQ1BAAAAAEj2DkEAAAAAALUPQQAAAAD4SBBBAAAAADSUEEEAAAAA1MgQQQAAAADM+RBBAAAAAIw4EUEAAAAAiKgRQQAAAABoNhJBAAAAAJyNEkEAAAAAHPwSQQAAAACUVRNBAAAAADi1E0EAAAAAVB8UQQAAAABYnhRBAAAAAFwQFUEAAAAAkHkVQQAAAAC4fxVBAAAAAOiEFUEAAAAApIkVQQAAAACclhVBAAAAAHAWFkEAAAAAoH8WQQAAAAAM0BZBAAAAAHANF0EAAAAACDYXQQAAAACoUxdBAAAAACzdF0EAAAAAXLEYQQAAAABcfxlBAAAAAKwfGkEAAAAANL4aQQAAAAA8OBtBAAAAAOguHEEAAAAAtA0dQQAAAADMUB5BAAAAAMBUH0EAAAAA9EAgQQAAAAAKwSBBAAAAAIbmIEEAAAAAvkYhQQAAAAAQZSFBAAAAAFKIIUEAAAAAaLwhQQAAAAC8EyJBAAAAAHpVIkEAAAAAmJAiQQAAAABswiJBAAAAAJzcIkEAAAAAygMjQQAAAABWQiNBAAAAAPzZI0EAAAAACqYkQQAAAAAUcSVBAAAAAIg3JkE=\",\"dtype\":\"float64\",\"order\":\"little\",\"shape\":[109]},\"Total_Vaccinated\":{\"__ndarray__\":\"AAAAAAAAAAAAAAAAADiHQAAAAAAAOKBAAAAAAAD2o0AAAAAAAM26QAAAAAAAaMhAAAAAAACZ0UAAAAAAAIbVQAAAAACARt9AAAAAAKD44kAAAAAA4KLlQAAAAAAg7OlAAAAAABBH8UAAAAAAwJDzQAAAAADwnfVAAAAAAJDw90AAAAAAoJ35QAAAAACgbvpAAAAAAPBG/UAAAAAAMJ3+QAAAAACodwBBAAAAAGDbAUEAAAAAiD0DQQAAAAB4YQRBAAAAADBOBUEAAAAA6BIGQQAAAACIiwdBAAAAAOgZCEEAAAAAeAUJQQAAAAAwJApBAAAAAFCRC0EAAAAASM4MQQAAAAAY1Q1BAAAAAIAED0EAAAAAVBAQQQAAAABkjBBBAAAAAHj2EEEAAAAAJDgRQQAAAAAwpRJBAAAAANQvE0EAAAAAMJITQQAAAACw4RNBAAAAAKgwFEEAAAAATF8UQQAAAADMzxRBAAAAAGhjFUEAAAAA1BkWQQAAAABAuBZBAAAAAAzuF0EAAAAAHEUZQQAAAABgZxpBAAAAAAR6G0EAAAAAPH8cQQAAAADUNB5BAAAAALhBH0EAAAAAhCMgQQAAAAAajSBBAAAAAIYYIUEAAAAABqchQQAAAABaPSJBAAAAAATUIkEAAAAAaFUjQQAAAABUqCNBAAAAAAD9I0EAAAAAsIYkQQAAAABuXSVBAAAAADg4JkEAAAAAkiUnQQAAAAD8DShBAAAAALrdKEEAAAAAtqopQQAAAAA6lypBAAAAAMZzK0EAAAAA3iIsQQAAAACGQC1BAAAAACoXLkEAAAAADOouQQAAAAAAgC9BAAAAAFkbMEEAAAAAwngwQQAAAADW2TBBAAAAAPwxMUEAAAAAkoExQQAAAABayDFBAAAAAMgHMkEAAAAAPkkyQQAAAACQjTJBAAAAADGtMkEAAAAATMMyQQAAAAAf7TJBAAAAAD8aM0EAAAAAFj0zQQAAAAByajNBAAAAAGiyM0EAAAAAihA0QQAAAADYejRBAAAAAHbfNEEAAAAADjk1QQAAAAAleDVBAAAAAJi6NUEAAAAAOAk2QQAAAACXZjZBAAAAAE3aNkEAAAAAxB03QQAAAAClRTdBAAAAAKVPN0EAAAAA/1k3QQAAAADpYDdBAAAAALGEN0E=\",\"dtype\":\"float64\",\"order\":\"little\",\"shape\":[109]},\"Total_Vaccinations\":{\"__ndarray__\":\"AAAAAAAAAAAAAAAAADiHQAAAAAAAOKBAAAAAAAD2o0AAAAAAAM26QAAAAAAAaMhAAAAAAACZ0UAAAAAAAIbVQAAAAACARt9AAAAAAKD44kAAAAAA4KLlQAAAAAAg7OlAAAAAABBH8UAAAAAAwJDzQAAAAADwnfVAAAAAAJDw90AAAAAAoJ35QAAAAADgZ/tAAAAAALB2/kAAAAAAYNT/QAAAAACgcgFBAAAAALjgAkEAAAAAaEYEQQAAAAB4agVBAAAAAIhXBkEAAAAASGQHQQAAAABgkwtBAAAAADA5DUEAAAAAANgOQQAAAABUMhBBAAAAAEgVEUEAAAAAROMRQQAAAADQthJBAAAAACSIE0EAAAAAIFMUQQAAAADoHBVBAAAAAGjlFUEAAAAAzLUWQQAAAACwbxhBAAAAAORgGUEAAAAAlOgZQQAAAAC4axpBAAAAACghG0EAAAAAgO0bQQAAAACMOB1BAAAAAKR6HkEAAAAAKKYfQQAAAABIZiBBAAAAAHJpIUEAAAAAQk8iQQAAAAAWKyNBAAAAAJoFJEEAAAAAGuEkQQAAAADWiiZBAAAAAG5eJ0EAAAAAxBAoQQAAAACWsShBAAAAAKBiKUEAAAAAcAsqQQAAAABAuipBAAAAAEpwK0EAAAAArCksQQAAAACIwyxBAAAAAM5DLUEAAAAAvgQuQQAAAAA4CC9BAAAAAJQMMEEAAAAAnpowQQAAAACULjFBAAAAAPSyMUEAAAAAvzMyQQAAAACLqzJBAAAAAB0bM0EAAAAA2HMzQQAAAADqBTRBAAAAADGRNEEAAAAA7hQ1QQAAAAADdDVBAAAAALXeNUEAAAAAREY2QQAAAADArjZBAAAAAEcpN0EAAAAA6a03QQAAAAAxKDhBAAAAALOPOEEAAAAAy/g4QQAAAACfWzlBAAAAAOu4OUEAAAAAuQY6QQAAAABSgTpBAAAAAG/vOkEAAAAAkF07QQAAAAD3yjtBAAAAAKslPEEAAAAA6bM8QQAAAABgLT1BAAAAAJ+jPUEAAAAAQhc+QQAAAAADgj5BAAAAAFXlPkEAAAAAhFE/QQAAAADNxz9BAAAAgE0kQEEAAACA1E9AQQAAAABoc0BBAAAAgFGeQEEAAAAAgtZAQQAAAIC5DEFBAAAAgDpQQUE=\",\"dtype\":\"float64\",\"order\":\"little\",\"shape\":[109]},\"__x__values\":{\"__ndarray__\":\"AACAuTuCd0IAAEAfjoJ3QgAAAIXggndCAADA6jKDd0IAAMCBfIR3QgAAQE0hhXdCAAAAs3OFd0IAAMAYxoV3QgAAQORqhndCAAAASr2Gd0IAAMCvD4d3QgAAQHu0h3dCAABAEv6Id0IAAAB4UIl3QgAAwN2iiXdCAACAQ/WJd0IAAECpR4p3QgAAAA+aindCAADAdOyKd0IAAIDaPot3QgAAQECRi3dCAAAApuOLd0IAAMALNox3QgAAgHGIjHdCAABA19qMd0IAAAA9LY13QgAAQG4kjndCAAAA1HaOd0IAAMA5yY53QgAAgJ8bj3dCAABABW6Pd0IAAABrwI93QgAAwNASkHdCAACANmWQd0IAAECct5B3QgAAAAIKkXdCAADAZ1yRd0IAAEAzAZJ3QgAAAJlTkndCAADA/qWSd0IAAIBk+JJ3QgAAQMpKk3dCAAAAMJ2Td0IAAMCV75N3QgAAgPtBlHdCAABAYZSUd0IAAADH5pR3QgAAwCw5lXdCAACAKdWWd0IAAECPJ5d3QgAAAPV5l3dCAADAWsyXd0IAAIDAHph3QgAAAIzDmHdCAADA8RWZd0IAAIBXaJl3QgAAQL26mXdCAAAAIw2ad0IAAMCIX5p3QgAAgO6xmndCAABAVASbd0IAAAC6Vpt3QgAAwB+pm3dCAACAhfubd0IAAEDrTZx3QgAAAFGgnHdCAADAtvKcd0IAAIAcRZ13QgAAQIKXnXdCAAAA6Omdd0IAAMBNPJ53QgAAgLOOnndCAABAGeGed0IAAAB/M593QgAAwOSFn3dCAACAStifd0IAAECwKqB3QgAAABZ9oHdCAADAe8+gd0IAAIDhIaF3QgAAQEd0oXdCAAAArcahd0IAAMASGaJ3QgAAgHhrondCAABA3r2id0IAAABEEKN3QgAAwKlio3dCAACAD7Wjd0IAAEB1B6R3QgAAANtZpHdCAADAQKykd0IAAICm/qR3QgAAQAxRpXdCAAAAcqOld0IAAMDX9aV3QgAAgD1IpndCAABAo5qmd0IAAAAJ7aZ3QgAAwG4/p3dCAACA1JGnd0IAAEA65Kd3QgAAAKA2qHdCAADABYmod0IAAIBr26h3QgAAQNEtqXdCAAAAN4Cpd0IAAMCc0ql3QgAAgAIlqndCAABAaHeqd0I=\",\"dtype\":\"float64\",\"order\":\"little\",\"shape\":[109]},\"__x__values_original\":{\"__ndarray__\":\"AACAuTuCd0IAAEAfjoJ3QgAAAIXggndCAADA6jKDd0IAAMCBfIR3QgAAQE0hhXdCAAAAs3OFd0IAAMAYxoV3QgAAQORqhndCAAAASr2Gd0IAAMCvD4d3QgAAQHu0h3dCAABAEv6Id0IAAAB4UIl3QgAAwN2iiXdCAACAQ/WJd0IAAECpR4p3QgAAAA+aindCAADAdOyKd0IAAIDaPot3QgAAQECRi3dCAAAApuOLd0IAAMALNox3QgAAgHGIjHdCAABA19qMd0IAAAA9LY13QgAAQG4kjndCAAAA1HaOd0IAAMA5yY53QgAAgJ8bj3dCAABABW6Pd0IAAABrwI93QgAAwNASkHdCAACANmWQd0IAAECct5B3QgAAAAIKkXdCAADAZ1yRd0IAAEAzAZJ3QgAAAJlTkndCAADA/qWSd0IAAIBk+JJ3QgAAQMpKk3dCAAAAMJ2Td0IAAMCV75N3QgAAgPtBlHdCAABAYZSUd0IAAADH5pR3QgAAwCw5lXdCAACAKdWWd0IAAECPJ5d3QgAAAPV5l3dCAADAWsyXd0IAAIDAHph3QgAAAIzDmHdCAADA8RWZd0IAAIBXaJl3QgAAQL26mXdCAAAAIw2ad0IAAMCIX5p3QgAAgO6xmndCAABAVASbd0IAAAC6Vpt3QgAAwB+pm3dCAACAhfubd0IAAEDrTZx3QgAAAFGgnHdCAADAtvKcd0IAAIAcRZ13QgAAQIKXnXdCAAAA6Omdd0IAAMBNPJ53QgAAgLOOnndCAABAGeGed0IAAAB/M593QgAAwOSFn3dCAACAStifd0IAAECwKqB3QgAAABZ9oHdCAADAe8+gd0IAAIDhIaF3QgAAQEd0oXdCAAAArcahd0IAAMASGaJ3QgAAgHhrondCAABA3r2id0IAAABEEKN3QgAAwKlio3dCAACAD7Wjd0IAAEB1B6R3QgAAANtZpHdCAADAQKykd0IAAICm/qR3QgAAQAxRpXdCAAAAcqOld0IAAMDX9aV3QgAAgD1IpndCAABAo5qmd0IAAAAJ7aZ3QgAAwG4/p3dCAACA1JGnd0IAAEA65Kd3QgAAAKA2qHdCAADABYmod0IAAIBr26h3QgAAQNEtqXdCAAAAN4Cpd0IAAMCc0ql3QgAAgAIlqndCAABAaHeqd0I=\",\"dtype\":\"float64\",\"order\":\"little\",\"shape\":[109]}},\"selected\":{\"id\":\"1964\"},\"selection_policy\":{\"id\":\"1965\"}},\"id\":\"1936\",\"type\":\"ColumnDataSource\"},{\"attributes\":{\"months\":[0,6]},\"id\":\"1897\",\"type\":\"MonthsTicker\"},{\"attributes\":{\"source\":{\"id\":\"1936\"}},\"id\":\"1941\",\"type\":\"CDSView\"},{\"attributes\":{\"data_source\":{\"id\":\"1905\"},\"glyph\":{\"id\":\"1907\"},\"hover_glyph\":null,\"muted_glyph\":null,\"nonselection_glyph\":{\"id\":\"1908\"},\"selection_glyph\":null,\"view\":{\"id\":\"1910\"}},\"id\":\"1909\",\"type\":\"GlyphRenderer\"},{\"attributes\":{\"data_source\":{\"id\":\"1875\"},\"glyph\":{\"id\":\"1877\"},\"hover_glyph\":null,\"muted_glyph\":null,\"nonselection_glyph\":{\"id\":\"1878\"},\"selection_glyph\":null,\"view\":{\"id\":\"1880\"}},\"id\":\"1879\",\"type\":\"GlyphRenderer\"},{\"attributes\":{\"line_alpha\":0.1,\"line_color\":\"#1f77b4\",\"line_width\":2,\"x\":{\"field\":\"__x__values\"},\"y\":{\"field\":\"Total_Vaccinations\"}},\"id\":\"1878\",\"type\":\"Line\"},{\"attributes\":{\"line_color\":\"#2ca02c\",\"line_width\":2,\"x\":{\"field\":\"__x__values\"},\"y\":{\"field\":\"Total_Fully_Vaccinated\"}},\"id\":\"1938\",\"type\":\"Line\"},{\"attributes\":{},\"id\":\"1845\",\"type\":\"DataRange1d\"},{\"attributes\":{\"data\":{\"Total_Fully_Vaccinated\":{\"__ndarray__\":\"AAAAAAAAAAAAAAAAAAAAAAAAAAAAAAAAAAAAAAAAAAAAAAAAAAAAAAAAAAAAAAAAAAAAAAAAAAAAAAAAAAAAAAAAAAAAAAAAAAAAAAAAAAAAAAAAAAAAAAAAAAAAAAAAAAAAAAAAAAAAAAAAAAAAAAAAAAAAAAAAAAAAAAAAAAAAAAAAAAAAAAAAAAAAKK9AAAAAAAD8skAAAAAAAHOzQAAAAAAAX79AAAAAAIBVwEAAAAAAAI7AQAAAAAAAkMBAAAAAAICVwEAAAAAAABbFQAAAAABgH+BAAAAAACB95EAAAAAAIErnQAAAAADgAelAAAAAAABl6kAAAAAAAOHrQAAAAAAgYu5AAAAAAJAX8EAAAAAAMAvxQAAAAAAQQvJAAAAAAMC780AAAAAAoPb1QAAAAAAAKvdAAAAAAEDE+EAAAAAAkFn5QAAAAAAgKPpAAAAAAADC+0AAAAAA0Dj+QAAAAACA0QBBAAAAAHguAkEAAAAAqBgDQQAAAACgKARBAAAAALDJBUEAAAAA0LIGQQAAAACY3QdBAAAAAGAiCUEAAAAA8IUKQQAAAACwwQ1BAAAAAEj2DkEAAAAAALUPQQAAAAD4SBBBAAAAADSUEEEAAAAA1MgQQQAAAADM+RBBAAAAAIw4EUEAAAAAiKgRQQAAAABoNhJBAAAAAJyNEkEAAAAAHPwSQQAAAACUVRNBAAAAADi1E0EAAAAAVB8UQQAAAABYnhRBAAAAAFwQFUEAAAAAkHkVQQAAAAC4fxVBAAAAAOiEFUEAAAAApIkVQQAAAACclhVBAAAAAHAWFkEAAAAAoH8WQQAAAAAM0BZBAAAAAHANF0EAAAAACDYXQQAAAACoUxdBAAAAACzdF0EAAAAAXLEYQQAAAABcfxlBAAAAAKwfGkEAAAAANL4aQQAAAAA8OBtBAAAAAOguHEEAAAAAtA0dQQAAAADMUB5BAAAAAMBUH0EAAAAA9EAgQQAAAAAKwSBBAAAAAIbmIEEAAAAAvkYhQQAAAAAQZSFBAAAAAFKIIUEAAAAAaLwhQQAAAAC8EyJBAAAAAHpVIkEAAAAAmJAiQQAAAABswiJBAAAAAJzcIkEAAAAAygMjQQAAAABWQiNBAAAAAPzZI0EAAAAACqYkQQAAAAAUcSVBAAAAAIg3JkE=\",\"dtype\":\"float64\",\"order\":\"little\",\"shape\":[109]},\"Total_Vaccinated\":{\"__ndarray__\":\"AAAAAAAAAAAAAAAAADiHQAAAAAAAOKBAAAAAAAD2o0AAAAAAAM26QAAAAAAAaMhAAAAAAACZ0UAAAAAAAIbVQAAAAACARt9AAAAAAKD44kAAAAAA4KLlQAAAAAAg7OlAAAAAABBH8UAAAAAAwJDzQAAAAADwnfVAAAAAAJDw90AAAAAAoJ35QAAAAACgbvpAAAAAAPBG/UAAAAAAMJ3+QAAAAACodwBBAAAAAGDbAUEAAAAAiD0DQQAAAAB4YQRBAAAAADBOBUEAAAAA6BIGQQAAAACIiwdBAAAAAOgZCEEAAAAAeAUJQQAAAAAwJApBAAAAAFCRC0EAAAAASM4MQQAAAAAY1Q1BAAAAAIAED0EAAAAAVBAQQQAAAABkjBBBAAAAAHj2EEEAAAAAJDgRQQAAAAAwpRJBAAAAANQvE0EAAAAAMJITQQAAAACw4RNBAAAAAKgwFEEAAAAATF8UQQAAAADMzxRBAAAAAGhjFUEAAAAA1BkWQQAAAABAuBZBAAAAAAzuF0EAAAAAHEUZQQAAAABgZxpBAAAAAAR6G0EAAAAAPH8cQQAAAADUNB5BAAAAALhBH0EAAAAAhCMgQQAAAAAajSBBAAAAAIYYIUEAAAAABqchQQAAAABaPSJBAAAAAATUIkEAAAAAaFUjQQAAAABUqCNBAAAAAAD9I0EAAAAAsIYkQQAAAABuXSVBAAAAADg4JkEAAAAAkiUnQQAAAAD8DShBAAAAALrdKEEAAAAAtqopQQAAAAA6lypBAAAAAMZzK0EAAAAA3iIsQQAAAACGQC1BAAAAACoXLkEAAAAADOouQQAAAAAAgC9BAAAAAFkbMEEAAAAAwngwQQAAAADW2TBBAAAAAPwxMUEAAAAAkoExQQAAAABayDFBAAAAAMgHMkEAAAAAPkkyQQAAAACQjTJBAAAAADGtMkEAAAAATMMyQQAAAAAf7TJBAAAAAD8aM0EAAAAAFj0zQQAAAAByajNBAAAAAGiyM0EAAAAAihA0QQAAAADYejRBAAAAAHbfNEEAAAAADjk1QQAAAAAleDVBAAAAAJi6NUEAAAAAOAk2QQAAAACXZjZBAAAAAE3aNkEAAAAAxB03QQAAAAClRTdBAAAAAKVPN0EAAAAA/1k3QQAAAADpYDdBAAAAALGEN0E=\",\"dtype\":\"float64\",\"order\":\"little\",\"shape\":[109]},\"Total_Vaccinations\":{\"__ndarray__\":\"AAAAAAAAAAAAAAAAADiHQAAAAAAAOKBAAAAAAAD2o0AAAAAAAM26QAAAAAAAaMhAAAAAAACZ0UAAAAAAAIbVQAAAAACARt9AAAAAAKD44kAAAAAA4KLlQAAAAAAg7OlAAAAAABBH8UAAAAAAwJDzQAAAAADwnfVAAAAAAJDw90AAAAAAoJ35QAAAAADgZ/tAAAAAALB2/kAAAAAAYNT/QAAAAACgcgFBAAAAALjgAkEAAAAAaEYEQQAAAAB4agVBAAAAAIhXBkEAAAAASGQHQQAAAABgkwtBAAAAADA5DUEAAAAAANgOQQAAAABUMhBBAAAAAEgVEUEAAAAAROMRQQAAAADQthJBAAAAACSIE0EAAAAAIFMUQQAAAADoHBVBAAAAAGjlFUEAAAAAzLUWQQAAAACwbxhBAAAAAORgGUEAAAAAlOgZQQAAAAC4axpBAAAAACghG0EAAAAAgO0bQQAAAACMOB1BAAAAAKR6HkEAAAAAKKYfQQAAAABIZiBBAAAAAHJpIUEAAAAAQk8iQQAAAAAWKyNBAAAAAJoFJEEAAAAAGuEkQQAAAADWiiZBAAAAAG5eJ0EAAAAAxBAoQQAAAACWsShBAAAAAKBiKUEAAAAAcAsqQQAAAABAuipBAAAAAEpwK0EAAAAArCksQQAAAACIwyxBAAAAAM5DLUEAAAAAvgQuQQAAAAA4CC9BAAAAAJQMMEEAAAAAnpowQQAAAACULjFBAAAAAPSyMUEAAAAAvzMyQQAAAACLqzJBAAAAAB0bM0EAAAAA2HMzQQAAAADqBTRBAAAAADGRNEEAAAAA7hQ1QQAAAAADdDVBAAAAALXeNUEAAAAAREY2QQAAAADArjZBAAAAAEcpN0EAAAAA6a03QQAAAAAxKDhBAAAAALOPOEEAAAAAy/g4QQAAAACfWzlBAAAAAOu4OUEAAAAAuQY6QQAAAABSgTpBAAAAAG/vOkEAAAAAkF07QQAAAAD3yjtBAAAAAKslPEEAAAAA6bM8QQAAAABgLT1BAAAAAJ+jPUEAAAAAQhc+QQAAAAADgj5BAAAAAFXlPkEAAAAAhFE/QQAAAADNxz9BAAAAgE0kQEEAAACA1E9AQQAAAABoc0BBAAAAgFGeQEEAAAAAgtZAQQAAAIC5DEFBAAAAgDpQQUE=\",\"dtype\":\"float64\",\"order\":\"little\",\"shape\":[109]},\"__x__values\":{\"__ndarray__\":\"AACAuTuCd0IAAEAfjoJ3QgAAAIXggndCAADA6jKDd0IAAMCBfIR3QgAAQE0hhXdCAAAAs3OFd0IAAMAYxoV3QgAAQORqhndCAAAASr2Gd0IAAMCvD4d3QgAAQHu0h3dCAABAEv6Id0IAAAB4UIl3QgAAwN2iiXdCAACAQ/WJd0IAAECpR4p3QgAAAA+aindCAADAdOyKd0IAAIDaPot3QgAAQECRi3dCAAAApuOLd0IAAMALNox3QgAAgHGIjHdCAABA19qMd0IAAAA9LY13QgAAQG4kjndCAAAA1HaOd0IAAMA5yY53QgAAgJ8bj3dCAABABW6Pd0IAAABrwI93QgAAwNASkHdCAACANmWQd0IAAECct5B3QgAAAAIKkXdCAADAZ1yRd0IAAEAzAZJ3QgAAAJlTkndCAADA/qWSd0IAAIBk+JJ3QgAAQMpKk3dCAAAAMJ2Td0IAAMCV75N3QgAAgPtBlHdCAABAYZSUd0IAAADH5pR3QgAAwCw5lXdCAACAKdWWd0IAAECPJ5d3QgAAAPV5l3dCAADAWsyXd0IAAIDAHph3QgAAAIzDmHdCAADA8RWZd0IAAIBXaJl3QgAAQL26mXdCAAAAIw2ad0IAAMCIX5p3QgAAgO6xmndCAABAVASbd0IAAAC6Vpt3QgAAwB+pm3dCAACAhfubd0IAAEDrTZx3QgAAAFGgnHdCAADAtvKcd0IAAIAcRZ13QgAAQIKXnXdCAAAA6Omdd0IAAMBNPJ53QgAAgLOOnndCAABAGeGed0IAAAB/M593QgAAwOSFn3dCAACAStifd0IAAECwKqB3QgAAABZ9oHdCAADAe8+gd0IAAIDhIaF3QgAAQEd0oXdCAAAArcahd0IAAMASGaJ3QgAAgHhrondCAABA3r2id0IAAABEEKN3QgAAwKlio3dCAACAD7Wjd0IAAEB1B6R3QgAAANtZpHdCAADAQKykd0IAAICm/qR3QgAAQAxRpXdCAAAAcqOld0IAAMDX9aV3QgAAgD1IpndCAABAo5qmd0IAAAAJ7aZ3QgAAwG4/p3dCAACA1JGnd0IAAEA65Kd3QgAAAKA2qHdCAADABYmod0IAAIBr26h3QgAAQNEtqXdCAAAAN4Cpd0IAAMCc0ql3QgAAgAIlqndCAABAaHeqd0I=\",\"dtype\":\"float64\",\"order\":\"little\",\"shape\":[109]},\"__x__values_original\":{\"__ndarray__\":\"AACAuTuCd0IAAEAfjoJ3QgAAAIXggndCAADA6jKDd0IAAMCBfIR3QgAAQE0hhXdCAAAAs3OFd0IAAMAYxoV3QgAAQORqhndCAAAASr2Gd0IAAMCvD4d3QgAAQHu0h3dCAABAEv6Id0IAAAB4UIl3QgAAwN2iiXdCAACAQ/WJd0IAAECpR4p3QgAAAA+aindCAADAdOyKd0IAAIDaPot3QgAAQECRi3dCAAAApuOLd0IAAMALNox3QgAAgHGIjHdCAABA19qMd0IAAAA9LY13QgAAQG4kjndCAAAA1HaOd0IAAMA5yY53QgAAgJ8bj3dCAABABW6Pd0IAAABrwI93QgAAwNASkHdCAACANmWQd0IAAECct5B3QgAAAAIKkXdCAADAZ1yRd0IAAEAzAZJ3QgAAAJlTkndCAADA/qWSd0IAAIBk+JJ3QgAAQMpKk3dCAAAAMJ2Td0IAAMCV75N3QgAAgPtBlHdCAABAYZSUd0IAAADH5pR3QgAAwCw5lXdCAACAKdWWd0IAAECPJ5d3QgAAAPV5l3dCAADAWsyXd0IAAIDAHph3QgAAAIzDmHdCAADA8RWZd0IAAIBXaJl3QgAAQL26mXdCAAAAIw2ad0IAAMCIX5p3QgAAgO6xmndCAABAVASbd0IAAAC6Vpt3QgAAwB+pm3dCAACAhfubd0IAAEDrTZx3QgAAAFGgnHdCAADAtvKcd0IAAIAcRZ13QgAAQIKXnXdCAAAA6Omdd0IAAMBNPJ53QgAAgLOOnndCAABAGeGed0IAAAB/M593QgAAwOSFn3dCAACAStifd0IAAECwKqB3QgAAABZ9oHdCAADAe8+gd0IAAIDhIaF3QgAAQEd0oXdCAAAArcahd0IAAMASGaJ3QgAAgHhrondCAABA3r2id0IAAABEEKN3QgAAwKlio3dCAACAD7Wjd0IAAEB1B6R3QgAAANtZpHdCAADAQKykd0IAAICm/qR3QgAAQAxRpXdCAAAAcqOld0IAAMDX9aV3QgAAgD1IpndCAABAo5qmd0IAAAAJ7aZ3QgAAwG4/p3dCAACA1JGnd0IAAEA65Kd3QgAAAKA2qHdCAADABYmod0IAAIBr26h3QgAAQNEtqXdCAAAAN4Cpd0IAAMCc0ql3QgAAgAIlqndCAABAaHeqd0I=\",\"dtype\":\"float64\",\"order\":\"little\",\"shape\":[109]}},\"selected\":{\"id\":\"1931\"},\"selection_policy\":{\"id\":\"1932\"}},\"id\":\"1905\",\"type\":\"ColumnDataSource\"},{\"attributes\":{\"line_alpha\":0.1,\"line_color\":\"#2ca02c\",\"line_width\":2,\"x\":{\"field\":\"__x__values\"},\"y\":{\"field\":\"Total_Fully_Vaccinated\"}},\"id\":\"1939\",\"type\":\"Line\"},{\"attributes\":{\"source\":{\"id\":\"1875\"}},\"id\":\"1880\",\"type\":\"CDSView\"},{\"attributes\":{\"mantissas\":[1,2,5],\"max_interval\":500.0,\"num_minor_ticks\":0},\"id\":\"1887\",\"type\":\"AdaptiveTicker\"},{\"attributes\":{},\"id\":\"1899\",\"type\":\"Selection\"},{\"attributes\":{\"base\":24,\"mantissas\":[1,2,4,6,8,12],\"max_interval\":43200000.0,\"min_interval\":3600000.0,\"num_minor_ticks\":0},\"id\":\"1889\",\"type\":\"AdaptiveTicker\"},{\"attributes\":{\"days\":[1,8,15,22]},\"id\":\"1892\",\"type\":\"DaysTicker\"},{\"attributes\":{\"source\":{\"id\":\"1905\"}},\"id\":\"1910\",\"type\":\"CDSView\"},{\"attributes\":{\"label\":{\"value\":\" Total_Fully_Vaccinated\"},\"renderers\":[{\"id\":\"1940\"}]},\"id\":\"1966\",\"type\":\"LegendItem\"},{\"attributes\":{},\"id\":\"1866\",\"type\":\"HelpTool\"},{\"attributes\":{\"line_color\":\"#ff7f0e\",\"line_width\":2,\"x\":{\"field\":\"__x__values\"},\"y\":{\"field\":\"Total_Vaccinated\"}},\"id\":\"1907\",\"type\":\"Line\"},{\"attributes\":{\"active_drag\":\"auto\",\"active_inspect\":\"auto\",\"active_multi\":null,\"active_scroll\":{\"id\":\"1862\"},\"active_tap\":\"auto\",\"tools\":[{\"id\":\"1861\"},{\"id\":\"1862\"},{\"id\":\"1863\"},{\"id\":\"1864\"},{\"id\":\"1865\"},{\"id\":\"1866\"},{\"id\":\"1903\"},{\"id\":\"1934\"},{\"id\":\"1967\"}]},\"id\":\"1868\",\"type\":\"Toolbar\"},{\"attributes\":{},\"id\":\"1900\",\"type\":\"UnionRenderers\"},{\"attributes\":{\"line_alpha\":0.1,\"line_color\":\"#ff7f0e\",\"line_width\":2,\"x\":{\"field\":\"__x__values\"},\"y\":{\"field\":\"Total_Vaccinated\"}},\"id\":\"1908\",\"type\":\"Line\"},{\"attributes\":{},\"id\":\"1864\",\"type\":\"SaveTool\"},{\"attributes\":{\"months\":[0,1,2,3,4,5,6,7,8,9,10,11]},\"id\":\"1894\",\"type\":\"MonthsTicker\"},{\"attributes\":{},\"id\":\"1965\",\"type\":\"UnionRenderers\"},{\"attributes\":{\"label\":{\"value\":\" Total_Vaccinated\"},\"renderers\":[{\"id\":\"1909\"}]},\"id\":\"1933\",\"type\":\"LegendItem\"},{\"attributes\":{},\"id\":\"1964\",\"type\":\"Selection\"},{\"attributes\":{\"click_policy\":\"hide\",\"items\":[{\"id\":\"1902\"},{\"id\":\"1933\"},{\"id\":\"1966\"}]},\"id\":\"1901\",\"type\":\"Legend\"},{\"attributes\":{\"callback\":null,\"formatters\":{\"@__x__values_original\":\"datetime\"},\"mode\":\"vline\",\"renderers\":[{\"id\":\"1879\"}],\"tooltips\":[[\"Date\",\"@__x__values_original{%F}\"],[\"Total_Vaccinations\",\"@{Total_Vaccinations}\"]]},\"id\":\"1903\",\"type\":\"HoverTool\"},{\"attributes\":{\"days\":[1,15]},\"id\":\"1893\",\"type\":\"DaysTicker\"},{\"attributes\":{\"axis_label\":\"Date\",\"formatter\":{\"id\":\"1969\"},\"ticker\":{\"id\":\"1854\"}},\"id\":\"1853\",\"type\":\"DatetimeAxis\"},{\"attributes\":{},\"id\":\"1851\",\"type\":\"LinearScale\"},{\"attributes\":{\"text\":\"Vaccination in Tunisia in real-time \"},\"id\":\"1843\",\"type\":\"Title\"},{\"attributes\":{},\"id\":\"1858\",\"type\":\"BasicTicker\"},{\"attributes\":{\"axis_label\":\"Vaccination Progress in  Tunisia\",\"formatter\":{\"id\":\"1882\"},\"ticker\":{\"id\":\"1858\"}},\"id\":\"1857\",\"type\":\"LinearAxis\"},{\"attributes\":{\"label\":{\"value\":\" Total_Vaccinations\"},\"renderers\":[{\"id\":\"1879\"}]},\"id\":\"1902\",\"type\":\"LegendItem\"},{\"attributes\":{},\"id\":\"1932\",\"type\":\"UnionRenderers\"},{\"attributes\":{},\"id\":\"1931\",\"type\":\"Selection\"},{\"attributes\":{\"axis\":{\"id\":\"1853\"},\"ticker\":null},\"id\":\"1856\",\"type\":\"Grid\"},{\"attributes\":{},\"id\":\"1882\",\"type\":\"BasicTickFormatter\"}],\"root_ids\":[\"1842\"]},\"title\":\"Bokeh Application\",\"version\":\"2.2.3\"}};\n",
       "  var render_items = [{\"docid\":\"7277c030-bf0a-497d-9c9b-118f0c478aed\",\"root_ids\":[\"1842\"],\"roots\":{\"1842\":\"2c434708-d04f-44f2-861c-05898ce0962a\"}}];\n",
       "  root.Bokeh.embed.embed_items_notebook(docs_json, render_items);\n",
       "\n",
       "  }\n",
       "  if (root.Bokeh !== undefined) {\n",
       "    embed_document(root);\n",
       "  } else {\n",
       "    var attempts = 0;\n",
       "    var timer = setInterval(function(root) {\n",
       "      if (root.Bokeh !== undefined) {\n",
       "        clearInterval(timer);\n",
       "        embed_document(root);\n",
       "      } else {\n",
       "        attempts++;\n",
       "        if (attempts > 100) {\n",
       "          clearInterval(timer);\n",
       "          console.log(\"Bokeh: ERROR: Unable to run BokehJS code because BokehJS library is missing\");\n",
       "        }\n",
       "      }\n",
       "    }, 10, root)\n",
       "  }\n",
       "})(window);"
      ],
      "application/vnd.bokehjs_exec.v0+json": ""
     },
     "metadata": {
      "application/vnd.bokehjs_exec.v0+json": {
       "id": "1842"
      }
     },
     "output_type": "display_data"
    },
    {
     "data": {
      "text/html": [
       "<div style=\"display: table;\"><div style=\"display: table-row;\"><div style=\"display: table-cell;\"><b title=\"bokeh.plotting.figure.Figure\">Figure</b>(</div><div style=\"display: table-cell;\">id&nbsp;=&nbsp;'1842', <span id=\"2164\" style=\"cursor: pointer;\">&hellip;)</span></div></div><div class=\"2163\" style=\"display: none;\"><div style=\"display: table-cell;\"></div><div style=\"display: table-cell;\">above&nbsp;=&nbsp;[],</div></div><div class=\"2163\" style=\"display: none;\"><div style=\"display: table-cell;\"></div><div style=\"display: table-cell;\">align&nbsp;=&nbsp;'start',</div></div><div class=\"2163\" style=\"display: none;\"><div style=\"display: table-cell;\"></div><div style=\"display: table-cell;\">aspect_ratio&nbsp;=&nbsp;None,</div></div><div class=\"2163\" style=\"display: none;\"><div style=\"display: table-cell;\"></div><div style=\"display: table-cell;\">aspect_scale&nbsp;=&nbsp;1,</div></div><div class=\"2163\" style=\"display: none;\"><div style=\"display: table-cell;\"></div><div style=\"display: table-cell;\">background&nbsp;=&nbsp;None,</div></div><div class=\"2163\" style=\"display: none;\"><div style=\"display: table-cell;\"></div><div style=\"display: table-cell;\">background_fill_alpha&nbsp;=&nbsp;1.0,</div></div><div class=\"2163\" style=\"display: none;\"><div style=\"display: table-cell;\"></div><div style=\"display: table-cell;\">background_fill_color&nbsp;=&nbsp;'#ffffff',</div></div><div class=\"2163\" style=\"display: none;\"><div style=\"display: table-cell;\"></div><div style=\"display: table-cell;\">below&nbsp;=&nbsp;[DatetimeAxis(id='1853', ...)],</div></div><div class=\"2163\" style=\"display: none;\"><div style=\"display: table-cell;\"></div><div style=\"display: table-cell;\">border_fill_alpha&nbsp;=&nbsp;1.0,</div></div><div class=\"2163\" style=\"display: none;\"><div style=\"display: table-cell;\"></div><div style=\"display: table-cell;\">border_fill_color&nbsp;=&nbsp;'#ffffff',</div></div><div class=\"2163\" style=\"display: none;\"><div style=\"display: table-cell;\"></div><div style=\"display: table-cell;\">center&nbsp;=&nbsp;[Grid(id='1856', ...), Grid(id='1860', ...), Legend(id='1901', ...)],</div></div><div class=\"2163\" style=\"display: none;\"><div style=\"display: table-cell;\"></div><div style=\"display: table-cell;\">css_classes&nbsp;=&nbsp;[],</div></div><div class=\"2163\" style=\"display: none;\"><div style=\"display: table-cell;\"></div><div style=\"display: table-cell;\">disabled&nbsp;=&nbsp;False,</div></div><div class=\"2163\" style=\"display: none;\"><div style=\"display: table-cell;\"></div><div style=\"display: table-cell;\">extra_x_ranges&nbsp;=&nbsp;{},</div></div><div class=\"2163\" style=\"display: none;\"><div style=\"display: table-cell;\"></div><div style=\"display: table-cell;\">extra_y_ranges&nbsp;=&nbsp;{},</div></div><div class=\"2163\" style=\"display: none;\"><div style=\"display: table-cell;\"></div><div style=\"display: table-cell;\">frame_height&nbsp;=&nbsp;None,</div></div><div class=\"2163\" style=\"display: none;\"><div style=\"display: table-cell;\"></div><div style=\"display: table-cell;\">frame_width&nbsp;=&nbsp;None,</div></div><div class=\"2163\" style=\"display: none;\"><div style=\"display: table-cell;\"></div><div style=\"display: table-cell;\">height&nbsp;=&nbsp;None,</div></div><div class=\"2163\" style=\"display: none;\"><div style=\"display: table-cell;\"></div><div style=\"display: table-cell;\">height_policy&nbsp;=&nbsp;'auto',</div></div><div class=\"2163\" style=\"display: none;\"><div style=\"display: table-cell;\"></div><div style=\"display: table-cell;\">hidpi&nbsp;=&nbsp;True,</div></div><div class=\"2163\" style=\"display: none;\"><div style=\"display: table-cell;\"></div><div style=\"display: table-cell;\">js_event_callbacks&nbsp;=&nbsp;{},</div></div><div class=\"2163\" style=\"display: none;\"><div style=\"display: table-cell;\"></div><div style=\"display: table-cell;\">js_property_callbacks&nbsp;=&nbsp;{},</div></div><div class=\"2163\" style=\"display: none;\"><div style=\"display: table-cell;\"></div><div style=\"display: table-cell;\">left&nbsp;=&nbsp;[LinearAxis(id='1857', ...)],</div></div><div class=\"2163\" style=\"display: none;\"><div style=\"display: table-cell;\"></div><div style=\"display: table-cell;\">lod_factor&nbsp;=&nbsp;10,</div></div><div class=\"2163\" style=\"display: none;\"><div style=\"display: table-cell;\"></div><div style=\"display: table-cell;\">lod_interval&nbsp;=&nbsp;300,</div></div><div class=\"2163\" style=\"display: none;\"><div style=\"display: table-cell;\"></div><div style=\"display: table-cell;\">lod_threshold&nbsp;=&nbsp;2000,</div></div><div class=\"2163\" style=\"display: none;\"><div style=\"display: table-cell;\"></div><div style=\"display: table-cell;\">lod_timeout&nbsp;=&nbsp;500,</div></div><div class=\"2163\" style=\"display: none;\"><div style=\"display: table-cell;\"></div><div style=\"display: table-cell;\">margin&nbsp;=&nbsp;(0, 0, 0, 0),</div></div><div class=\"2163\" style=\"display: none;\"><div style=\"display: table-cell;\"></div><div style=\"display: table-cell;\">match_aspect&nbsp;=&nbsp;False,</div></div><div class=\"2163\" style=\"display: none;\"><div style=\"display: table-cell;\"></div><div style=\"display: table-cell;\">max_height&nbsp;=&nbsp;None,</div></div><div class=\"2163\" style=\"display: none;\"><div style=\"display: table-cell;\"></div><div style=\"display: table-cell;\">max_width&nbsp;=&nbsp;None,</div></div><div class=\"2163\" style=\"display: none;\"><div style=\"display: table-cell;\"></div><div style=\"display: table-cell;\">min_border&nbsp;=&nbsp;5,</div></div><div class=\"2163\" style=\"display: none;\"><div style=\"display: table-cell;\"></div><div style=\"display: table-cell;\">min_border_bottom&nbsp;=&nbsp;None,</div></div><div class=\"2163\" style=\"display: none;\"><div style=\"display: table-cell;\"></div><div style=\"display: table-cell;\">min_border_left&nbsp;=&nbsp;None,</div></div><div class=\"2163\" style=\"display: none;\"><div style=\"display: table-cell;\"></div><div style=\"display: table-cell;\">min_border_right&nbsp;=&nbsp;None,</div></div><div class=\"2163\" style=\"display: none;\"><div style=\"display: table-cell;\"></div><div style=\"display: table-cell;\">min_border_top&nbsp;=&nbsp;None,</div></div><div class=\"2163\" style=\"display: none;\"><div style=\"display: table-cell;\"></div><div style=\"display: table-cell;\">min_height&nbsp;=&nbsp;None,</div></div><div class=\"2163\" style=\"display: none;\"><div style=\"display: table-cell;\"></div><div style=\"display: table-cell;\">min_width&nbsp;=&nbsp;None,</div></div><div class=\"2163\" style=\"display: none;\"><div style=\"display: table-cell;\"></div><div style=\"display: table-cell;\">name&nbsp;=&nbsp;None,</div></div><div class=\"2163\" style=\"display: none;\"><div style=\"display: table-cell;\"></div><div style=\"display: table-cell;\">outline_line_alpha&nbsp;=&nbsp;1.0,</div></div><div class=\"2163\" style=\"display: none;\"><div style=\"display: table-cell;\"></div><div style=\"display: table-cell;\">outline_line_cap&nbsp;=&nbsp;'butt',</div></div><div class=\"2163\" style=\"display: none;\"><div style=\"display: table-cell;\"></div><div style=\"display: table-cell;\">outline_line_color&nbsp;=&nbsp;'#e5e5e5',</div></div><div class=\"2163\" style=\"display: none;\"><div style=\"display: table-cell;\"></div><div style=\"display: table-cell;\">outline_line_dash&nbsp;=&nbsp;[],</div></div><div class=\"2163\" style=\"display: none;\"><div style=\"display: table-cell;\"></div><div style=\"display: table-cell;\">outline_line_dash_offset&nbsp;=&nbsp;0,</div></div><div class=\"2163\" style=\"display: none;\"><div style=\"display: table-cell;\"></div><div style=\"display: table-cell;\">outline_line_join&nbsp;=&nbsp;'bevel',</div></div><div class=\"2163\" style=\"display: none;\"><div style=\"display: table-cell;\"></div><div style=\"display: table-cell;\">outline_line_width&nbsp;=&nbsp;1,</div></div><div class=\"2163\" style=\"display: none;\"><div style=\"display: table-cell;\"></div><div style=\"display: table-cell;\">output_backend&nbsp;=&nbsp;'webgl',</div></div><div class=\"2163\" style=\"display: none;\"><div style=\"display: table-cell;\"></div><div style=\"display: table-cell;\">plot_height&nbsp;=&nbsp;800,</div></div><div class=\"2163\" style=\"display: none;\"><div style=\"display: table-cell;\"></div><div style=\"display: table-cell;\">plot_width&nbsp;=&nbsp;1000,</div></div><div class=\"2163\" style=\"display: none;\"><div style=\"display: table-cell;\"></div><div style=\"display: table-cell;\">renderers&nbsp;=&nbsp;[GlyphRenderer(id='1879', ...), GlyphRenderer(id='1909', ...), GlyphRenderer(id='1940', ...)],</div></div><div class=\"2163\" style=\"display: none;\"><div style=\"display: table-cell;\"></div><div style=\"display: table-cell;\">reset_policy&nbsp;=&nbsp;'standard',</div></div><div class=\"2163\" style=\"display: none;\"><div style=\"display: table-cell;\"></div><div style=\"display: table-cell;\">right&nbsp;=&nbsp;[],</div></div><div class=\"2163\" style=\"display: none;\"><div style=\"display: table-cell;\"></div><div style=\"display: table-cell;\">sizing_mode&nbsp;=&nbsp;'fixed',</div></div><div class=\"2163\" style=\"display: none;\"><div style=\"display: table-cell;\"></div><div style=\"display: table-cell;\">subscribed_events&nbsp;=&nbsp;[],</div></div><div class=\"2163\" style=\"display: none;\"><div style=\"display: table-cell;\"></div><div style=\"display: table-cell;\">tags&nbsp;=&nbsp;[],</div></div><div class=\"2163\" style=\"display: none;\"><div style=\"display: table-cell;\"></div><div style=\"display: table-cell;\">title&nbsp;=&nbsp;Title(id='1843', ...),</div></div><div class=\"2163\" style=\"display: none;\"><div style=\"display: table-cell;\"></div><div style=\"display: table-cell;\">title_location&nbsp;=&nbsp;'above',</div></div><div class=\"2163\" style=\"display: none;\"><div style=\"display: table-cell;\"></div><div style=\"display: table-cell;\">toolbar&nbsp;=&nbsp;Toolbar(id='1868', ...),</div></div><div class=\"2163\" style=\"display: none;\"><div style=\"display: table-cell;\"></div><div style=\"display: table-cell;\">toolbar_location&nbsp;=&nbsp;'right',</div></div><div class=\"2163\" style=\"display: none;\"><div style=\"display: table-cell;\"></div><div style=\"display: table-cell;\">toolbar_sticky&nbsp;=&nbsp;True,</div></div><div class=\"2163\" style=\"display: none;\"><div style=\"display: table-cell;\"></div><div style=\"display: table-cell;\">visible&nbsp;=&nbsp;True,</div></div><div class=\"2163\" style=\"display: none;\"><div style=\"display: table-cell;\"></div><div style=\"display: table-cell;\">width&nbsp;=&nbsp;None,</div></div><div class=\"2163\" style=\"display: none;\"><div style=\"display: table-cell;\"></div><div style=\"display: table-cell;\">width_policy&nbsp;=&nbsp;'auto',</div></div><div class=\"2163\" style=\"display: none;\"><div style=\"display: table-cell;\"></div><div style=\"display: table-cell;\">x_range&nbsp;=&nbsp;DataRange1d(id='1845', ...),</div></div><div class=\"2163\" style=\"display: none;\"><div style=\"display: table-cell;\"></div><div style=\"display: table-cell;\">x_scale&nbsp;=&nbsp;LinearScale(id='1849', ...),</div></div><div class=\"2163\" style=\"display: none;\"><div style=\"display: table-cell;\"></div><div style=\"display: table-cell;\">y_range&nbsp;=&nbsp;DataRange1d(id='1847', ...),</div></div><div class=\"2163\" style=\"display: none;\"><div style=\"display: table-cell;\"></div><div style=\"display: table-cell;\">y_scale&nbsp;=&nbsp;LinearScale(id='1851', ...))</div></div></div>\n",
       "<script>\n",
       "(function() {\n",
       "  var expanded = false;\n",
       "  var ellipsis = document.getElementById(\"2164\");\n",
       "  ellipsis.addEventListener(\"click\", function() {\n",
       "    var rows = document.getElementsByClassName(\"2163\");\n",
       "    for (var i = 0; i < rows.length; i++) {\n",
       "      var el = rows[i];\n",
       "      el.style.display = expanded ? \"none\" : \"table-row\";\n",
       "    }\n",
       "    ellipsis.innerHTML = expanded ? \"&hellip;)\" : \"&lsaquo;&lsaquo;&lsaquo;\";\n",
       "    expanded = !expanded;\n",
       "  });\n",
       "})();\n",
       "</script>\n"
      ],
      "text/plain": [
       "Figure(id='1842', ...)"
      ]
     },
     "execution_count": 25,
     "metadata": {},
     "output_type": "execute_result"
    }
   ],
   "source": [
    "df_1_['Date'] = pd.to_datetime(df_1_['Date'])\n",
    "df_1_.set_index('Date', inplace=True)\n",
    "\n",
    "df_1_.plot_bokeh(kind=\"line\",title ='Vaccination in ' +str(string)+ ' in real-time ',\n",
    "                   figsize =(1000,800),\n",
    "                   xlabel = \"Date\",\n",
    "                   ylabel=\"Vaccination Progress in  \" +str(string)\n",
    "                   )"
   ]
  },
  {
   "cell_type": "markdown",
   "metadata": {},
   "source": [
    "This histogram is a representation of the three variables that we play around within the OWID_dataset, this is an amazing visualisation tool to estimate the distribution for the Total_Fully_Vaccinated progress in real-time for the chosen country."
   ]
  },
  {
   "cell_type": "code",
   "execution_count": 26,
   "metadata": {},
   "outputs": [
    {
     "data": {
      "text/html": [
       "\n",
       "\n",
       "\n",
       "\n",
       "\n",
       "\n",
       "  <div class=\"bk-root\" id=\"126caa09-abbf-4f27-873f-1ed704cc958f\" data-root-id=\"2202\"></div>\n"
      ]
     },
     "metadata": {},
     "output_type": "display_data"
    },
    {
     "data": {
      "application/javascript": [
       "(function(root) {\n",
       "  function embed_document(root) {\n",
       "    \n",
       "  var docs_json = {\"79e855eb-017d-4171-957d-eb9697fda4ef\":{\"roots\":{\"references\":[{\"attributes\":{\"below\":[{\"id\":\"2213\"}],\"center\":[{\"id\":\"2216\"},{\"id\":\"2220\"},{\"id\":\"2250\"}],\"left\":[{\"id\":\"2217\"}],\"output_backend\":\"webgl\",\"plot_height\":800,\"plot_width\":1000,\"renderers\":[{\"id\":\"2241\"},{\"id\":\"2258\"},{\"id\":\"2274\"}],\"sizing_mode\":\"fixed\",\"title\":{\"id\":\"2203\"},\"toolbar\":{\"id\":\"2228\"},\"x_range\":{\"id\":\"2205\"},\"x_scale\":{\"id\":\"2209\"},\"y_range\":{\"id\":\"2207\"},\"y_scale\":{\"id\":\"2211\"}},\"id\":\"2202\",\"subtype\":\"Figure\",\"type\":\"Plot\"},{\"attributes\":{},\"id\":\"2248\",\"type\":\"Selection\"},{\"attributes\":{\"axis\":{\"id\":\"2213\"},\"ticker\":null},\"id\":\"2216\",\"type\":\"Grid\"},{\"attributes\":{\"callback\":null,\"mode\":\"vline\",\"renderers\":[{\"id\":\"2258\"}],\"tooltips\":[[\"Date\",\"@__x__values_original\"],[\"Total_Vaccinated\",\"@{Total_Vaccinated}\"]]},\"id\":\"2268\",\"type\":\"HoverTool\"},{\"attributes\":{},\"id\":\"2249\",\"type\":\"UnionRenderers\"},{\"attributes\":{\"fill_color\":{\"value\":\"#2ca02c\"},\"line_color\":{\"value\":\"#2ca02c\"},\"line_width\":{\"value\":2},\"top\":{\"field\":\"Total_Fully_Vaccinated\"},\"width\":{\"value\":0.2},\"x\":{\"field\":\"__x__values\",\"transform\":{\"id\":\"2270\"}}},\"id\":\"2272\",\"type\":\"VBar\"},{\"attributes\":{\"range\":{\"id\":\"2205\"},\"value\":-0.25},\"id\":\"2237\",\"type\":\"Dodge\"},{\"attributes\":{},\"id\":\"2209\",\"type\":\"LinearScale\"},{\"attributes\":{\"range\":{\"id\":\"2205\"},\"value\":0.25},\"id\":\"2270\",\"type\":\"Dodge\"},{\"attributes\":{\"data_source\":{\"id\":\"2201\"},\"glyph\":{\"id\":\"2272\"},\"hover_glyph\":null,\"muted_glyph\":null,\"nonselection_glyph\":{\"id\":\"2273\"},\"selection_glyph\":null,\"view\":{\"id\":\"2275\"}},\"id\":\"2274\",\"type\":\"GlyphRenderer\"},{\"attributes\":{\"axis_label\":\"Date\",\"formatter\":{\"id\":\"2235\"},\"ticker\":{\"id\":\"2286\"}},\"id\":\"2213\",\"type\":\"LinearAxis\"},{\"attributes\":{\"source\":{\"id\":\"2201\"}},\"id\":\"2275\",\"type\":\"CDSView\"},{\"attributes\":{\"label\":{\"value\":\" Total_Fully_Vaccinated\"},\"renderers\":[{\"id\":\"2274\"}]},\"id\":\"2283\",\"type\":\"LegendItem\"},{\"attributes\":{},\"id\":\"2225\",\"type\":\"ResetTool\"},{\"attributes\":{\"active_drag\":\"auto\",\"active_inspect\":\"auto\",\"active_multi\":null,\"active_scroll\":{\"id\":\"2222\"},\"active_tap\":\"auto\",\"tools\":[{\"id\":\"2221\"},{\"id\":\"2222\"},{\"id\":\"2223\"},{\"id\":\"2224\"},{\"id\":\"2225\"},{\"id\":\"2226\"},{\"id\":\"2252\"},{\"id\":\"2268\"},{\"id\":\"2284\"}]},\"id\":\"2228\",\"type\":\"Toolbar\"},{\"attributes\":{\"callback\":null,\"mode\":\"vline\",\"renderers\":[{\"id\":\"2241\"}],\"tooltips\":[[\"Date\",\"@__x__values_original\"],[\"Total_Vaccinations\",\"@{Total_Vaccinations}\"]]},\"id\":\"2252\",\"type\":\"HoverTool\"},{\"attributes\":{\"fill_color\":{\"value\":\"#ff7f0e\"},\"line_color\":{\"value\":\"#ff7f0e\"},\"line_width\":{\"value\":2},\"top\":{\"field\":\"Total_Vaccinated\"},\"width\":{\"value\":0.2},\"x\":{\"field\":\"__x__values\",\"transform\":{\"id\":\"2254\"}}},\"id\":\"2256\",\"type\":\"VBar\"},{\"attributes\":{\"bottom_units\":\"screen\",\"fill_alpha\":0.5,\"fill_color\":\"lightgrey\",\"left_units\":\"screen\",\"level\":\"overlay\",\"line_alpha\":1.0,\"line_color\":\"black\",\"line_dash\":[4,4],\"line_width\":2,\"right_units\":\"screen\",\"top_units\":\"screen\"},\"id\":\"2227\",\"type\":\"BoxAnnotation\"},{\"attributes\":{},\"id\":\"2211\",\"type\":\"LinearScale\"},{\"attributes\":{\"data\":{\"Total_Fully_Vaccinated\":{\"__ndarray__\":\"AAAAAAAAAAAAAAAAAAAAAAAAAAAAAAAAAAAAAAAAAAAAAAAAAAAAAAAAAAAAAAAAAAAAAAAAAAAAAAAAAAAAAAAAAAAAAAAAAAAAAAAAAAAAAAAAAAAAAAAAAAAAAAAAAAAAAAAAAAAAAAAAAAAAAAAAAAAAAAAAAAAAAAAAAAAAAAAAAAAAAAAAAAAAKK9AAAAAAAD8skAAAAAAAHOzQAAAAAAAX79AAAAAAIBVwEAAAAAAAI7AQAAAAAAAkMBAAAAAAICVwEAAAAAAABbFQAAAAABgH+BAAAAAACB95EAAAAAAIErnQAAAAADgAelAAAAAAABl6kAAAAAAAOHrQAAAAAAgYu5AAAAAAJAX8EAAAAAAMAvxQAAAAAAQQvJAAAAAAMC780AAAAAAoPb1QAAAAAAAKvdAAAAAAEDE+EAAAAAAkFn5QAAAAAAgKPpAAAAAAADC+0AAAAAA0Dj+QAAAAACA0QBBAAAAAHguAkEAAAAAqBgDQQAAAACgKARBAAAAALDJBUEAAAAA0LIGQQAAAACY3QdBAAAAAGAiCUEAAAAA8IUKQQAAAACwwQ1BAAAAAEj2DkEAAAAAALUPQQAAAAD4SBBBAAAAADSUEEEAAAAA1MgQQQAAAADM+RBBAAAAAIw4EUEAAAAAiKgRQQAAAABoNhJBAAAAAJyNEkEAAAAAHPwSQQAAAACUVRNBAAAAADi1E0EAAAAAVB8UQQAAAABYnhRBAAAAAFwQFUEAAAAAkHkVQQAAAAC4fxVBAAAAAOiEFUEAAAAApIkVQQAAAACclhVBAAAAAHAWFkEAAAAAoH8WQQAAAAAM0BZBAAAAAHANF0EAAAAACDYXQQAAAACoUxdBAAAAACzdF0EAAAAAXLEYQQAAAABcfxlBAAAAAKwfGkEAAAAANL4aQQAAAAA8OBtBAAAAAOguHEEAAAAAtA0dQQAAAADMUB5BAAAAAMBUH0EAAAAA9EAgQQAAAAAKwSBBAAAAAIbmIEEAAAAAvkYhQQAAAAAQZSFBAAAAAFKIIUEAAAAAaLwhQQAAAAC8EyJBAAAAAHpVIkEAAAAAmJAiQQAAAABswiJBAAAAAJzcIkEAAAAAygMjQQAAAABWQiNBAAAAAPzZI0EAAAAACqYkQQAAAAAUcSVBAAAAAIg3JkE=\",\"dtype\":\"float64\",\"order\":\"little\",\"shape\":[109]},\"Total_Vaccinated\":{\"__ndarray__\":\"AAAAAAAAAAAAAAAAADiHQAAAAAAAOKBAAAAAAAD2o0AAAAAAAM26QAAAAAAAaMhAAAAAAACZ0UAAAAAAAIbVQAAAAACARt9AAAAAAKD44kAAAAAA4KLlQAAAAAAg7OlAAAAAABBH8UAAAAAAwJDzQAAAAADwnfVAAAAAAJDw90AAAAAAoJ35QAAAAACgbvpAAAAAAPBG/UAAAAAAMJ3+QAAAAACodwBBAAAAAGDbAUEAAAAAiD0DQQAAAAB4YQRBAAAAADBOBUEAAAAA6BIGQQAAAACIiwdBAAAAAOgZCEEAAAAAeAUJQQAAAAAwJApBAAAAAFCRC0EAAAAASM4MQQAAAAAY1Q1BAAAAAIAED0EAAAAAVBAQQQAAAABkjBBBAAAAAHj2EEEAAAAAJDgRQQAAAAAwpRJBAAAAANQvE0EAAAAAMJITQQAAAACw4RNBAAAAAKgwFEEAAAAATF8UQQAAAADMzxRBAAAAAGhjFUEAAAAA1BkWQQAAAABAuBZBAAAAAAzuF0EAAAAAHEUZQQAAAABgZxpBAAAAAAR6G0EAAAAAPH8cQQAAAADUNB5BAAAAALhBH0EAAAAAhCMgQQAAAAAajSBBAAAAAIYYIUEAAAAABqchQQAAAABaPSJBAAAAAATUIkEAAAAAaFUjQQAAAABUqCNBAAAAAAD9I0EAAAAAsIYkQQAAAABuXSVBAAAAADg4JkEAAAAAkiUnQQAAAAD8DShBAAAAALrdKEEAAAAAtqopQQAAAAA6lypBAAAAAMZzK0EAAAAA3iIsQQAAAACGQC1BAAAAACoXLkEAAAAADOouQQAAAAAAgC9BAAAAAFkbMEEAAAAAwngwQQAAAADW2TBBAAAAAPwxMUEAAAAAkoExQQAAAABayDFBAAAAAMgHMkEAAAAAPkkyQQAAAACQjTJBAAAAADGtMkEAAAAATMMyQQAAAAAf7TJBAAAAAD8aM0EAAAAAFj0zQQAAAAByajNBAAAAAGiyM0EAAAAAihA0QQAAAADYejRBAAAAAHbfNEEAAAAADjk1QQAAAAAleDVBAAAAAJi6NUEAAAAAOAk2QQAAAACXZjZBAAAAAE3aNkEAAAAAxB03QQAAAAClRTdBAAAAAKVPN0EAAAAA/1k3QQAAAADpYDdBAAAAALGEN0E=\",\"dtype\":\"float64\",\"order\":\"little\",\"shape\":[109]},\"Total_Vaccinations\":{\"__ndarray__\":\"AAAAAAAAAAAAAAAAADiHQAAAAAAAOKBAAAAAAAD2o0AAAAAAAM26QAAAAAAAaMhAAAAAAACZ0UAAAAAAAIbVQAAAAACARt9AAAAAAKD44kAAAAAA4KLlQAAAAAAg7OlAAAAAABBH8UAAAAAAwJDzQAAAAADwnfVAAAAAAJDw90AAAAAAoJ35QAAAAADgZ/tAAAAAALB2/kAAAAAAYNT/QAAAAACgcgFBAAAAALjgAkEAAAAAaEYEQQAAAAB4agVBAAAAAIhXBkEAAAAASGQHQQAAAABgkwtBAAAAADA5DUEAAAAAANgOQQAAAABUMhBBAAAAAEgVEUEAAAAAROMRQQAAAADQthJBAAAAACSIE0EAAAAAIFMUQQAAAADoHBVBAAAAAGjlFUEAAAAAzLUWQQAAAACwbxhBAAAAAORgGUEAAAAAlOgZQQAAAAC4axpBAAAAACghG0EAAAAAgO0bQQAAAACMOB1BAAAAAKR6HkEAAAAAKKYfQQAAAABIZiBBAAAAAHJpIUEAAAAAQk8iQQAAAAAWKyNBAAAAAJoFJEEAAAAAGuEkQQAAAADWiiZBAAAAAG5eJ0EAAAAAxBAoQQAAAACWsShBAAAAAKBiKUEAAAAAcAsqQQAAAABAuipBAAAAAEpwK0EAAAAArCksQQAAAACIwyxBAAAAAM5DLUEAAAAAvgQuQQAAAAA4CC9BAAAAAJQMMEEAAAAAnpowQQAAAACULjFBAAAAAPSyMUEAAAAAvzMyQQAAAACLqzJBAAAAAB0bM0EAAAAA2HMzQQAAAADqBTRBAAAAADGRNEEAAAAA7hQ1QQAAAAADdDVBAAAAALXeNUEAAAAAREY2QQAAAADArjZBAAAAAEcpN0EAAAAA6a03QQAAAAAxKDhBAAAAALOPOEEAAAAAy/g4QQAAAACfWzlBAAAAAOu4OUEAAAAAuQY6QQAAAABSgTpBAAAAAG/vOkEAAAAAkF07QQAAAAD3yjtBAAAAAKslPEEAAAAA6bM8QQAAAABgLT1BAAAAAJ+jPUEAAAAAQhc+QQAAAAADgj5BAAAAAFXlPkEAAAAAhFE/QQAAAADNxz9BAAAAgE0kQEEAAACA1E9AQQAAAABoc0BBAAAAgFGeQEEAAAAAgtZAQQAAAIC5DEFBAAAAgDpQQUE=\",\"dtype\":\"float64\",\"order\":\"little\",\"shape\":[109]},\"__x__values\":[0,1,2,3,4,5,6,7,8,9,10,11,12,13,14,15,16,17,18,19,20,21,22,23,24,25,26,27,28,29,30,31,32,33,34,35,36,37,38,39,40,41,42,43,44,45,46,47,48,49,50,51,52,53,54,55,56,57,58,59,60,61,62,63,64,65,66,67,68,69,70,71,72,73,74,75,76,77,78,79,80,81,82,83,84,85,86,87,88,89,90,91,92,93,94,95,96,97,98,99,100,101,102,103,104,105,106,107,108],\"__x__values_original\":{\"__ndarray__\":\"AACAuTuCd0IAAEAfjoJ3QgAAAIXggndCAADA6jKDd0IAAMCBfIR3QgAAQE0hhXdCAAAAs3OFd0IAAMAYxoV3QgAAQORqhndCAAAASr2Gd0IAAMCvD4d3QgAAQHu0h3dCAABAEv6Id0IAAAB4UIl3QgAAwN2iiXdCAACAQ/WJd0IAAECpR4p3QgAAAA+aindCAADAdOyKd0IAAIDaPot3QgAAQECRi3dCAAAApuOLd0IAAMALNox3QgAAgHGIjHdCAABA19qMd0IAAAA9LY13QgAAQG4kjndCAAAA1HaOd0IAAMA5yY53QgAAgJ8bj3dCAABABW6Pd0IAAABrwI93QgAAwNASkHdCAACANmWQd0IAAECct5B3QgAAAAIKkXdCAADAZ1yRd0IAAEAzAZJ3QgAAAJlTkndCAADA/qWSd0IAAIBk+JJ3QgAAQMpKk3dCAAAAMJ2Td0IAAMCV75N3QgAAgPtBlHdCAABAYZSUd0IAAADH5pR3QgAAwCw5lXdCAACAKdWWd0IAAECPJ5d3QgAAAPV5l3dCAADAWsyXd0IAAIDAHph3QgAAAIzDmHdCAADA8RWZd0IAAIBXaJl3QgAAQL26mXdCAAAAIw2ad0IAAMCIX5p3QgAAgO6xmndCAABAVASbd0IAAAC6Vpt3QgAAwB+pm3dCAACAhfubd0IAAEDrTZx3QgAAAFGgnHdCAADAtvKcd0IAAIAcRZ13QgAAQIKXnXdCAAAA6Omdd0IAAMBNPJ53QgAAgLOOnndCAABAGeGed0IAAAB/M593QgAAwOSFn3dCAACAStifd0IAAECwKqB3QgAAABZ9oHdCAADAe8+gd0IAAIDhIaF3QgAAQEd0oXdCAAAArcahd0IAAMASGaJ3QgAAgHhrondCAABA3r2id0IAAABEEKN3QgAAwKlio3dCAACAD7Wjd0IAAEB1B6R3QgAAANtZpHdCAADAQKykd0IAAICm/qR3QgAAQAxRpXdCAAAAcqOld0IAAMDX9aV3QgAAgD1IpndCAABAo5qmd0IAAAAJ7aZ3QgAAwG4/p3dCAACA1JGnd0IAAEA65Kd3QgAAAKA2qHdCAADABYmod0IAAIBr26h3QgAAQNEtqXdCAAAAN4Cpd0IAAMCc0ql3QgAAgAIlqndCAABAaHeqd0I=\",\"dtype\":\"float64\",\"order\":\"little\",\"shape\":[109]}},\"selected\":{\"id\":\"2248\"},\"selection_policy\":{\"id\":\"2249\"}},\"id\":\"2201\",\"type\":\"ColumnDataSource\"},{\"attributes\":{\"data_source\":{\"id\":\"2201\"},\"glyph\":{\"id\":\"2256\"},\"hover_glyph\":null,\"muted_glyph\":null,\"nonselection_glyph\":{\"id\":\"2257\"},\"selection_glyph\":null,\"view\":{\"id\":\"2259\"}},\"id\":\"2258\",\"type\":\"GlyphRenderer\"},{\"attributes\":{},\"id\":\"2226\",\"type\":\"HelpTool\"},{\"attributes\":{\"fill_color\":{\"value\":\"#1f77b4\"},\"line_color\":{\"value\":\"#1f77b4\"},\"line_width\":{\"value\":2},\"top\":{\"field\":\"Total_Vaccinations\"},\"width\":{\"value\":0.2},\"x\":{\"field\":\"__x__values\",\"transform\":{\"id\":\"2237\"}}},\"id\":\"2239\",\"type\":\"VBar\"},{\"attributes\":{\"range\":{\"id\":\"2205\"}},\"id\":\"2254\",\"type\":\"Dodge\"},{\"attributes\":{\"fill_alpha\":{\"value\":0.1},\"fill_color\":{\"value\":\"#ff7f0e\"},\"line_alpha\":{\"value\":0.1},\"line_color\":{\"value\":\"#ff7f0e\"},\"line_width\":{\"value\":2},\"top\":{\"field\":\"Total_Vaccinated\"},\"width\":{\"value\":0.2},\"x\":{\"field\":\"__x__values\",\"transform\":{\"id\":\"2254\"}}},\"id\":\"2257\",\"type\":\"VBar\"},{\"attributes\":{\"source\":{\"id\":\"2201\"}},\"id\":\"2259\",\"type\":\"CDSView\"},{\"attributes\":{\"label\":{\"value\":\" Total_Vaccinated\"},\"renderers\":[{\"id\":\"2258\"}]},\"id\":\"2267\",\"type\":\"LegendItem\"},{\"attributes\":{\"fill_alpha\":{\"value\":0.1},\"fill_color\":{\"value\":\"#1f77b4\"},\"line_alpha\":{\"value\":0.1},\"line_color\":{\"value\":\"#1f77b4\"},\"line_width\":{\"value\":2},\"top\":{\"field\":\"Total_Vaccinations\"},\"width\":{\"value\":0.2},\"x\":{\"field\":\"__x__values\",\"transform\":{\"id\":\"2237\"}}},\"id\":\"2240\",\"type\":\"VBar\"},{\"attributes\":{\"fill_alpha\":{\"value\":0.1},\"fill_color\":{\"value\":\"#2ca02c\"},\"line_alpha\":{\"value\":0.1},\"line_color\":{\"value\":\"#2ca02c\"},\"line_width\":{\"value\":2},\"top\":{\"field\":\"Total_Fully_Vaccinated\"},\"width\":{\"value\":0.2},\"x\":{\"field\":\"__x__values\",\"transform\":{\"id\":\"2270\"}}},\"id\":\"2273\",\"type\":\"VBar\"},{\"attributes\":{\"text\":\"Total Vaccinated  in Tunisia in real-time \"},\"id\":\"2203\",\"type\":\"Title\"},{\"attributes\":{},\"id\":\"2222\",\"type\":\"WheelZoomTool\"},{\"attributes\":{\"data_source\":{\"id\":\"2201\"},\"glyph\":{\"id\":\"2239\"},\"hover_glyph\":null,\"muted_glyph\":null,\"nonselection_glyph\":{\"id\":\"2240\"},\"selection_glyph\":null,\"view\":{\"id\":\"2242\"}},\"id\":\"2241\",\"type\":\"GlyphRenderer\"},{\"attributes\":{},\"id\":\"2205\",\"type\":\"DataRange1d\"},{\"attributes\":{\"source\":{\"id\":\"2201\"}},\"id\":\"2242\",\"type\":\"CDSView\"},{\"attributes\":{\"callback\":null,\"mode\":\"vline\",\"renderers\":[{\"id\":\"2274\"}],\"tooltips\":[[\"Date\",\"@__x__values_original\"],[\"Total_Fully_Vaccinated\",\"@{Total_Fully_Vaccinated}\"]]},\"id\":\"2284\",\"type\":\"HoverTool\"},{\"attributes\":{\"label\":{\"value\":\" Total_Vaccinations\"},\"renderers\":[{\"id\":\"2241\"}]},\"id\":\"2251\",\"type\":\"LegendItem\"},{\"attributes\":{},\"id\":\"2224\",\"type\":\"SaveTool\"},{\"attributes\":{\"axis\":{\"id\":\"2217\"},\"dimension\":1,\"ticker\":null},\"id\":\"2220\",\"type\":\"Grid\"},{\"attributes\":{},\"id\":\"2244\",\"type\":\"BasicTickFormatter\"},{\"attributes\":{},\"id\":\"2221\",\"type\":\"PanTool\"},{\"attributes\":{\"click_policy\":\"hide\",\"items\":[{\"id\":\"2251\"},{\"id\":\"2267\"},{\"id\":\"2283\"}]},\"id\":\"2250\",\"type\":\"Legend\"},{\"attributes\":{\"code\":\"\\n                                    var labels = {0: '2021/03/12', 1: '2021/03/13', 2: '2021/03/14', 3: '2021/03/15', 4: '2021/03/19', 5: '2021/03/21', 6: '2021/03/22', 7: '2021/03/23', 8: '2021/03/25', 9: '2021/03/26', 10: '2021/03/27', 11: '2021/03/29', 12: '2021/04/02', 13: '2021/04/03', 14: '2021/04/04', 15: '2021/04/05', 16: '2021/04/06', 17: '2021/04/07', 18: '2021/04/08', 19: '2021/04/09', 20: '2021/04/10', 21: '2021/04/11', 22: '2021/04/12', 23: '2021/04/13', 24: '2021/04/14', 25: '2021/04/15', 26: '2021/04/18', 27: '2021/04/19', 28: '2021/04/20', 29: '2021/04/21', 30: '2021/04/22', 31: '2021/04/23', 32: '2021/04/24', 33: '2021/04/25', 34: '2021/04/26', 35: '2021/04/27', 36: '2021/04/28', 37: '2021/04/30', 38: '2021/05/01', 39: '2021/05/02', 40: '2021/05/03', 41: '2021/05/04', 42: '2021/05/05', 43: '2021/05/06', 44: '2021/05/07', 45: '2021/05/08', 46: '2021/05/09', 47: '2021/05/10', 48: '2021/05/15', 49: '2021/05/16', 50: '2021/05/17', 51: '2021/05/18', 52: '2021/05/19', 53: '2021/05/21', 54: '2021/05/22', 55: '2021/05/23', 56: '2021/05/24', 57: '2021/05/25', 58: '2021/05/26', 59: '2021/05/27', 60: '2021/05/28', 61: '2021/05/29', 62: '2021/05/30', 63: '2021/05/31', 64: '2021/06/01', 65: '2021/06/02', 66: '2021/06/03', 67: '2021/06/04', 68: '2021/06/05', 69: '2021/06/06', 70: '2021/06/07', 71: '2021/06/08', 72: '2021/06/09', 73: '2021/06/10', 74: '2021/06/11', 75: '2021/06/12', 76: '2021/06/13', 77: '2021/06/14', 78: '2021/06/15', 79: '2021/06/16', 80: '2021/06/17', 81: '2021/06/18', 82: '2021/06/19', 83: '2021/06/20', 84: '2021/06/21', 85: '2021/06/22', 86: '2021/06/23', 87: '2021/06/24', 88: '2021/06/25', 89: '2021/06/26', 90: '2021/06/27', 91: '2021/06/28', 92: '2021/06/29', 93: '2021/06/30', 94: '2021/07/01', 95: '2021/07/02', 96: '2021/07/03', 97: '2021/07/04', 98: '2021/07/05', 99: '2021/07/06', 100: '2021/07/07', 101: '2021/07/08', 102: '2021/07/09', 103: '2021/07/10', 104: '2021/07/11', 105: '2021/07/12', 106: '2021/07/13', 107: '2021/07/14', 108: '2021/07/15'};\\n                                    return labels[tick];\\n                                    \"},\"id\":\"2235\",\"type\":\"FuncTickFormatter\"},{\"attributes\":{\"axis_label\":\"Vaccination Progress in  Tunisia\",\"formatter\":{\"id\":\"2244\"},\"ticker\":{\"id\":\"2218\"}},\"id\":\"2217\",\"type\":\"LinearAxis\"},{\"attributes\":{\"ticks\":[0,1,2,3,4,5,6,7,8,9,10,11,12,13,14,15,16,17,18,19,20,21,22,23,24,25,26,27,28,29,30,31,32,33,34,35,36,37,38,39,40,41,42,43,44,45,46,47,48,49,50,51,52,53,54,55,56,57,58,59,60,61,62,63,64,65,66,67,68,69,70,71,72,73,74,75,76,77,78,79,80,81,82,83,84,85,86,87,88,89,90,91,92,93,94,95,96,97,98,99,100,101,102,103,104,105,106,107,108]},\"id\":\"2286\",\"type\":\"FixedTicker\"},{\"attributes\":{},\"id\":\"2207\",\"type\":\"DataRange1d\"},{\"attributes\":{},\"id\":\"2218\",\"type\":\"BasicTicker\"},{\"attributes\":{\"overlay\":{\"id\":\"2227\"}},\"id\":\"2223\",\"type\":\"BoxZoomTool\"}],\"root_ids\":[\"2202\"]},\"title\":\"Bokeh Application\",\"version\":\"2.2.3\"}};\n",
       "  var render_items = [{\"docid\":\"79e855eb-017d-4171-957d-eb9697fda4ef\",\"root_ids\":[\"2202\"],\"roots\":{\"2202\":\"126caa09-abbf-4f27-873f-1ed704cc958f\"}}];\n",
       "  root.Bokeh.embed.embed_items_notebook(docs_json, render_items);\n",
       "\n",
       "  }\n",
       "  if (root.Bokeh !== undefined) {\n",
       "    embed_document(root);\n",
       "  } else {\n",
       "    var attempts = 0;\n",
       "    var timer = setInterval(function(root) {\n",
       "      if (root.Bokeh !== undefined) {\n",
       "        clearInterval(timer);\n",
       "        embed_document(root);\n",
       "      } else {\n",
       "        attempts++;\n",
       "        if (attempts > 100) {\n",
       "          clearInterval(timer);\n",
       "          console.log(\"Bokeh: ERROR: Unable to run BokehJS code because BokehJS library is missing\");\n",
       "        }\n",
       "      }\n",
       "    }, 10, root)\n",
       "  }\n",
       "})(window);"
      ],
      "application/vnd.bokehjs_exec.v0+json": ""
     },
     "metadata": {
      "application/vnd.bokehjs_exec.v0+json": {
       "id": "2202"
      }
     },
     "output_type": "display_data"
    },
    {
     "data": {
      "text/html": [
       "<div style=\"display: table;\"><div style=\"display: table-row;\"><div style=\"display: table-cell;\"><b title=\"bokeh.plotting.figure.Figure\">Figure</b>(</div><div style=\"display: table-cell;\">id&nbsp;=&nbsp;'2202', <span id=\"2402\" style=\"cursor: pointer;\">&hellip;)</span></div></div><div class=\"2401\" style=\"display: none;\"><div style=\"display: table-cell;\"></div><div style=\"display: table-cell;\">above&nbsp;=&nbsp;[],</div></div><div class=\"2401\" style=\"display: none;\"><div style=\"display: table-cell;\"></div><div style=\"display: table-cell;\">align&nbsp;=&nbsp;'start',</div></div><div class=\"2401\" style=\"display: none;\"><div style=\"display: table-cell;\"></div><div style=\"display: table-cell;\">aspect_ratio&nbsp;=&nbsp;None,</div></div><div class=\"2401\" style=\"display: none;\"><div style=\"display: table-cell;\"></div><div style=\"display: table-cell;\">aspect_scale&nbsp;=&nbsp;1,</div></div><div class=\"2401\" style=\"display: none;\"><div style=\"display: table-cell;\"></div><div style=\"display: table-cell;\">background&nbsp;=&nbsp;None,</div></div><div class=\"2401\" style=\"display: none;\"><div style=\"display: table-cell;\"></div><div style=\"display: table-cell;\">background_fill_alpha&nbsp;=&nbsp;1.0,</div></div><div class=\"2401\" style=\"display: none;\"><div style=\"display: table-cell;\"></div><div style=\"display: table-cell;\">background_fill_color&nbsp;=&nbsp;'#ffffff',</div></div><div class=\"2401\" style=\"display: none;\"><div style=\"display: table-cell;\"></div><div style=\"display: table-cell;\">below&nbsp;=&nbsp;[LinearAxis(id='2213', ...)],</div></div><div class=\"2401\" style=\"display: none;\"><div style=\"display: table-cell;\"></div><div style=\"display: table-cell;\">border_fill_alpha&nbsp;=&nbsp;1.0,</div></div><div class=\"2401\" style=\"display: none;\"><div style=\"display: table-cell;\"></div><div style=\"display: table-cell;\">border_fill_color&nbsp;=&nbsp;'#ffffff',</div></div><div class=\"2401\" style=\"display: none;\"><div style=\"display: table-cell;\"></div><div style=\"display: table-cell;\">center&nbsp;=&nbsp;[Grid(id='2216', ...), Grid(id='2220', ...), Legend(id='2250', ...)],</div></div><div class=\"2401\" style=\"display: none;\"><div style=\"display: table-cell;\"></div><div style=\"display: table-cell;\">css_classes&nbsp;=&nbsp;[],</div></div><div class=\"2401\" style=\"display: none;\"><div style=\"display: table-cell;\"></div><div style=\"display: table-cell;\">disabled&nbsp;=&nbsp;False,</div></div><div class=\"2401\" style=\"display: none;\"><div style=\"display: table-cell;\"></div><div style=\"display: table-cell;\">extra_x_ranges&nbsp;=&nbsp;{},</div></div><div class=\"2401\" style=\"display: none;\"><div style=\"display: table-cell;\"></div><div style=\"display: table-cell;\">extra_y_ranges&nbsp;=&nbsp;{},</div></div><div class=\"2401\" style=\"display: none;\"><div style=\"display: table-cell;\"></div><div style=\"display: table-cell;\">frame_height&nbsp;=&nbsp;None,</div></div><div class=\"2401\" style=\"display: none;\"><div style=\"display: table-cell;\"></div><div style=\"display: table-cell;\">frame_width&nbsp;=&nbsp;None,</div></div><div class=\"2401\" style=\"display: none;\"><div style=\"display: table-cell;\"></div><div style=\"display: table-cell;\">height&nbsp;=&nbsp;None,</div></div><div class=\"2401\" style=\"display: none;\"><div style=\"display: table-cell;\"></div><div style=\"display: table-cell;\">height_policy&nbsp;=&nbsp;'auto',</div></div><div class=\"2401\" style=\"display: none;\"><div style=\"display: table-cell;\"></div><div style=\"display: table-cell;\">hidpi&nbsp;=&nbsp;True,</div></div><div class=\"2401\" style=\"display: none;\"><div style=\"display: table-cell;\"></div><div style=\"display: table-cell;\">js_event_callbacks&nbsp;=&nbsp;{},</div></div><div class=\"2401\" style=\"display: none;\"><div style=\"display: table-cell;\"></div><div style=\"display: table-cell;\">js_property_callbacks&nbsp;=&nbsp;{},</div></div><div class=\"2401\" style=\"display: none;\"><div style=\"display: table-cell;\"></div><div style=\"display: table-cell;\">left&nbsp;=&nbsp;[LinearAxis(id='2217', ...)],</div></div><div class=\"2401\" style=\"display: none;\"><div style=\"display: table-cell;\"></div><div style=\"display: table-cell;\">lod_factor&nbsp;=&nbsp;10,</div></div><div class=\"2401\" style=\"display: none;\"><div style=\"display: table-cell;\"></div><div style=\"display: table-cell;\">lod_interval&nbsp;=&nbsp;300,</div></div><div class=\"2401\" style=\"display: none;\"><div style=\"display: table-cell;\"></div><div style=\"display: table-cell;\">lod_threshold&nbsp;=&nbsp;2000,</div></div><div class=\"2401\" style=\"display: none;\"><div style=\"display: table-cell;\"></div><div style=\"display: table-cell;\">lod_timeout&nbsp;=&nbsp;500,</div></div><div class=\"2401\" style=\"display: none;\"><div style=\"display: table-cell;\"></div><div style=\"display: table-cell;\">margin&nbsp;=&nbsp;(0, 0, 0, 0),</div></div><div class=\"2401\" style=\"display: none;\"><div style=\"display: table-cell;\"></div><div style=\"display: table-cell;\">match_aspect&nbsp;=&nbsp;False,</div></div><div class=\"2401\" style=\"display: none;\"><div style=\"display: table-cell;\"></div><div style=\"display: table-cell;\">max_height&nbsp;=&nbsp;None,</div></div><div class=\"2401\" style=\"display: none;\"><div style=\"display: table-cell;\"></div><div style=\"display: table-cell;\">max_width&nbsp;=&nbsp;None,</div></div><div class=\"2401\" style=\"display: none;\"><div style=\"display: table-cell;\"></div><div style=\"display: table-cell;\">min_border&nbsp;=&nbsp;5,</div></div><div class=\"2401\" style=\"display: none;\"><div style=\"display: table-cell;\"></div><div style=\"display: table-cell;\">min_border_bottom&nbsp;=&nbsp;None,</div></div><div class=\"2401\" style=\"display: none;\"><div style=\"display: table-cell;\"></div><div style=\"display: table-cell;\">min_border_left&nbsp;=&nbsp;None,</div></div><div class=\"2401\" style=\"display: none;\"><div style=\"display: table-cell;\"></div><div style=\"display: table-cell;\">min_border_right&nbsp;=&nbsp;None,</div></div><div class=\"2401\" style=\"display: none;\"><div style=\"display: table-cell;\"></div><div style=\"display: table-cell;\">min_border_top&nbsp;=&nbsp;None,</div></div><div class=\"2401\" style=\"display: none;\"><div style=\"display: table-cell;\"></div><div style=\"display: table-cell;\">min_height&nbsp;=&nbsp;None,</div></div><div class=\"2401\" style=\"display: none;\"><div style=\"display: table-cell;\"></div><div style=\"display: table-cell;\">min_width&nbsp;=&nbsp;None,</div></div><div class=\"2401\" style=\"display: none;\"><div style=\"display: table-cell;\"></div><div style=\"display: table-cell;\">name&nbsp;=&nbsp;None,</div></div><div class=\"2401\" style=\"display: none;\"><div style=\"display: table-cell;\"></div><div style=\"display: table-cell;\">outline_line_alpha&nbsp;=&nbsp;1.0,</div></div><div class=\"2401\" style=\"display: none;\"><div style=\"display: table-cell;\"></div><div style=\"display: table-cell;\">outline_line_cap&nbsp;=&nbsp;'butt',</div></div><div class=\"2401\" style=\"display: none;\"><div style=\"display: table-cell;\"></div><div style=\"display: table-cell;\">outline_line_color&nbsp;=&nbsp;'#e5e5e5',</div></div><div class=\"2401\" style=\"display: none;\"><div style=\"display: table-cell;\"></div><div style=\"display: table-cell;\">outline_line_dash&nbsp;=&nbsp;[],</div></div><div class=\"2401\" style=\"display: none;\"><div style=\"display: table-cell;\"></div><div style=\"display: table-cell;\">outline_line_dash_offset&nbsp;=&nbsp;0,</div></div><div class=\"2401\" style=\"display: none;\"><div style=\"display: table-cell;\"></div><div style=\"display: table-cell;\">outline_line_join&nbsp;=&nbsp;'bevel',</div></div><div class=\"2401\" style=\"display: none;\"><div style=\"display: table-cell;\"></div><div style=\"display: table-cell;\">outline_line_width&nbsp;=&nbsp;1,</div></div><div class=\"2401\" style=\"display: none;\"><div style=\"display: table-cell;\"></div><div style=\"display: table-cell;\">output_backend&nbsp;=&nbsp;'webgl',</div></div><div class=\"2401\" style=\"display: none;\"><div style=\"display: table-cell;\"></div><div style=\"display: table-cell;\">plot_height&nbsp;=&nbsp;800,</div></div><div class=\"2401\" style=\"display: none;\"><div style=\"display: table-cell;\"></div><div style=\"display: table-cell;\">plot_width&nbsp;=&nbsp;1000,</div></div><div class=\"2401\" style=\"display: none;\"><div style=\"display: table-cell;\"></div><div style=\"display: table-cell;\">renderers&nbsp;=&nbsp;[GlyphRenderer(id='2241', ...), GlyphRenderer(id='2258', ...), GlyphRenderer(id='2274', ...)],</div></div><div class=\"2401\" style=\"display: none;\"><div style=\"display: table-cell;\"></div><div style=\"display: table-cell;\">reset_policy&nbsp;=&nbsp;'standard',</div></div><div class=\"2401\" style=\"display: none;\"><div style=\"display: table-cell;\"></div><div style=\"display: table-cell;\">right&nbsp;=&nbsp;[],</div></div><div class=\"2401\" style=\"display: none;\"><div style=\"display: table-cell;\"></div><div style=\"display: table-cell;\">sizing_mode&nbsp;=&nbsp;'fixed',</div></div><div class=\"2401\" style=\"display: none;\"><div style=\"display: table-cell;\"></div><div style=\"display: table-cell;\">subscribed_events&nbsp;=&nbsp;[],</div></div><div class=\"2401\" style=\"display: none;\"><div style=\"display: table-cell;\"></div><div style=\"display: table-cell;\">tags&nbsp;=&nbsp;[],</div></div><div class=\"2401\" style=\"display: none;\"><div style=\"display: table-cell;\"></div><div style=\"display: table-cell;\">title&nbsp;=&nbsp;Title(id='2203', ...),</div></div><div class=\"2401\" style=\"display: none;\"><div style=\"display: table-cell;\"></div><div style=\"display: table-cell;\">title_location&nbsp;=&nbsp;'above',</div></div><div class=\"2401\" style=\"display: none;\"><div style=\"display: table-cell;\"></div><div style=\"display: table-cell;\">toolbar&nbsp;=&nbsp;Toolbar(id='2228', ...),</div></div><div class=\"2401\" style=\"display: none;\"><div style=\"display: table-cell;\"></div><div style=\"display: table-cell;\">toolbar_location&nbsp;=&nbsp;'right',</div></div><div class=\"2401\" style=\"display: none;\"><div style=\"display: table-cell;\"></div><div style=\"display: table-cell;\">toolbar_sticky&nbsp;=&nbsp;True,</div></div><div class=\"2401\" style=\"display: none;\"><div style=\"display: table-cell;\"></div><div style=\"display: table-cell;\">visible&nbsp;=&nbsp;True,</div></div><div class=\"2401\" style=\"display: none;\"><div style=\"display: table-cell;\"></div><div style=\"display: table-cell;\">width&nbsp;=&nbsp;None,</div></div><div class=\"2401\" style=\"display: none;\"><div style=\"display: table-cell;\"></div><div style=\"display: table-cell;\">width_policy&nbsp;=&nbsp;'auto',</div></div><div class=\"2401\" style=\"display: none;\"><div style=\"display: table-cell;\"></div><div style=\"display: table-cell;\">x_range&nbsp;=&nbsp;DataRange1d(id='2205', ...),</div></div><div class=\"2401\" style=\"display: none;\"><div style=\"display: table-cell;\"></div><div style=\"display: table-cell;\">x_scale&nbsp;=&nbsp;LinearScale(id='2209', ...),</div></div><div class=\"2401\" style=\"display: none;\"><div style=\"display: table-cell;\"></div><div style=\"display: table-cell;\">y_range&nbsp;=&nbsp;DataRange1d(id='2207', ...),</div></div><div class=\"2401\" style=\"display: none;\"><div style=\"display: table-cell;\"></div><div style=\"display: table-cell;\">y_scale&nbsp;=&nbsp;LinearScale(id='2211', ...))</div></div></div>\n",
       "<script>\n",
       "(function() {\n",
       "  var expanded = false;\n",
       "  var ellipsis = document.getElementById(\"2402\");\n",
       "  ellipsis.addEventListener(\"click\", function() {\n",
       "    var rows = document.getElementsByClassName(\"2401\");\n",
       "    for (var i = 0; i < rows.length; i++) {\n",
       "      var el = rows[i];\n",
       "      el.style.display = expanded ? \"none\" : \"table-row\";\n",
       "    }\n",
       "    ellipsis.innerHTML = expanded ? \"&hellip;)\" : \"&lsaquo;&lsaquo;&lsaquo;\";\n",
       "    expanded = !expanded;\n",
       "  });\n",
       "})();\n",
       "</script>\n"
      ],
      "text/plain": [
       "Figure(id='2202', ...)"
      ]
     },
     "execution_count": 26,
     "metadata": {},
     "output_type": "execute_result"
    }
   ],
   "source": [
    "df_1_.plot_bokeh(kind=\"bar\",title ='Total Vaccinated  in ' +str(string)+ ' in real-time ',figsize =(1000,800),xlabel = \"Date\",ylabel=\"Vaccination Progress in  \" +str(string) )"
   ]
  },
  {
   "cell_type": "code",
   "execution_count": 29,
   "metadata": {
    "hide_input": false
   },
   "outputs": [
    {
     "name": "stdout",
     "output_type": "stream",
     "text": [
      "/Users/bachali/Desktop/covid-vaccine-mena/Reports/Mena_Region_Tunisia_Covid_Investigation.html\n",
      "[NbConvertApp] Converting notebook Menar_Covid_Country_Investigation.ipynb to html\n",
      "[NbConvertApp] Writing 791795 bytes to /Users/bachali/Desktop/covid-vaccine-mena/Reports/Mena_Region_Tunisia_Covid_Investigation.html\n"
     ]
    }
   ],
   "source": [
    "#%%capture\n",
    "\n",
    "from IPython.display import Javascript\n",
    "from nbconvert import HTMLExporter\n",
    "import time\n",
    "import os\n",
    "\n",
    "string_ = os.getcwd()\n",
    "string_ = string_.replace('Scripts', '')\n",
    "string_1 = string_ + str('Reports/Mena_country_region_investigation')\n",
    "\n",
    "current_file = 'Menar_Covid_Country_Investigation.ipynb'\n",
    "output_file =  str(string_1) + '/'+'Mena_Region_'+str(string)+'_Covid_Investigation.html'\n",
    "\n",
    "###--template full\n",
    "!echo \"{output_file}\"\n",
    "!jupyter nbconvert Menar_Covid_Country_Investigation.ipynb --to html --template lab --no-input   --output \"{output_file}\""
   ]
  },
  {
   "cell_type": "code",
   "execution_count": null,
   "metadata": {},
   "outputs": [],
   "source": []
  }
 ],
 "metadata": {
  "kernelspec": {
   "display_name": "Python 3",
   "language": "python",
   "name": "python3"
  },
  "language_info": {
   "codemirror_mode": {
    "name": "ipython",
    "version": 3
   },
   "file_extension": ".py",
   "mimetype": "text/x-python",
   "name": "python",
   "nbconvert_exporter": "python",
   "pygments_lexer": "ipython3",
   "version": "3.8.5"
  }
 },
 "nbformat": 4,
 "nbformat_minor": 4
}
